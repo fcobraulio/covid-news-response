{
 "cells": [
  {
   "cell_type": "code",
   "execution_count": null,
   "id": "d2e1575b-1712-41f2-a4dd-4e00b0f42eb9",
   "metadata": {},
   "outputs": [],
   "source": [
    "from bertopic import BERTopic\n",
    "import pandas as pd\n",
    "from umap import UMAP\n",
    "from sklearn.feature_extraction.text import CountVectorizer\n",
    "\n",
    "DATA_FLOW = 'local'\n",
    "DATA_SAMPLE = 0.05\n",
    "\n",
    "def preprocess(text):\n",
    "    text = text.replace('\\n', ' ')\n",
    "    text = text.replace(u'\\xa0', u' ')\n",
    "    text = text.replace('@', '')\n",
    "    new_text = []\n",
    "    for t in text.split(\" \"):\n",
    "        t = '' if t.startswith('http') else t\n",
    "        new_text.append(t)\n",
    "    return \" \".join(new_text)\n",
    "\n",
    "# Read news data\n",
    "if DATA_FLOW == 'local:'\n",
    "    df = pd.read_csv(\"./../data/raw/news_tweets.csv\")\n",
    "elif DATA_FLOW == 'gcp':\n",
    "    from google.cloud import storage\n",
    "    from io import BytesIO\n",
    "    client = storage.Client()\n",
    "    bucket_name = \"covid-news-response\"\n",
    "    file_name = \"news_tweets.csv\"\n",
    "    bucket = client.get_bucket(bucket_name)\n",
    "    blob = bucket.get_blob(file_name)\n",
    "    content = blob.download_as_string()\n",
    "    df = pd.read_csv(BytesIO(content))\n",
    "\n",
    "# Clear news data\n",
    "df['clean_text'] = df.text.apply(lambda x: preprocess(x))\n",
    "docs = df.sample(frac=DATA_SAMPLE, random_state=42).clean_text.values\n",
    "quantity = len(docs)"
   ]
  }
 ],
 "metadata": {
  "kernelspec": {
   "display_name": "Python 3 (ipykernel)",
   "language": "python",
   "name": "python3"
  },
  "language_info": {
   "codemirror_mode": {
    "name": "ipython",
    "version": 3
   },
   "file_extension": ".py",
   "mimetype": "text/x-python",
   "name": "python",
   "nbconvert_exporter": "python",
   "pygments_lexer": "ipython3",
   "version": "3.9.7"
  }
 },
 "nbformat": 4,
 "nbformat_minor": 5
}
