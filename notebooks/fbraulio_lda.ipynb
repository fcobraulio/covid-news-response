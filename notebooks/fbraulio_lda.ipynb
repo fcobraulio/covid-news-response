{
 "cells": [
  {
   "cell_type": "code",
   "execution_count": 1,
   "metadata": {
    "tags": []
   },
   "outputs": [],
   "source": [
    "import warnings\n",
    "warnings.filterwarnings(\"ignore\")\n",
    "\n",
    "import io\n",
    "import os\n",
    "import os.path\n",
    "import re\n",
    "import spacy\n",
    "import time\n",
    "import pickle\n",
    "\n",
    "import numpy as np\n",
    "import pandas as pd\n",
    "from pprint import pprint\n",
    "\n",
    "import gensim\n",
    "from gensim.models import Phrases, LdaModel, CoherenceModel\n",
    "from gensim.corpora import Dictionary\n",
    "from gensim.utils import simple_preprocess\n",
    "from gensim.test.utils import datapath\n",
    "\n",
    "import pyLDAvis\n",
    "import pyLDAvis.gensim_models  # don't skip this\n",
    "import matplotlib.pyplot as plt\n",
    "%matplotlib inline\n",
    "\n",
    "import warnings\n",
    "warnings.filterwarnings(\"ignore\")\n",
    "os.environ.update({'MALLET_HOME':r'C:/mallet-2.0.8/'})\n",
    "mallet_path = 'C:\\mallet-2.0.8\\bin\\mallet'\n",
    "pd.options.display.max_columns = 100"
   ]
  },
  {
   "cell_type": "code",
   "execution_count": 2,
   "metadata": {},
   "outputs": [],
   "source": [
    "def make_bigrams(texts):\n",
    "    return [bigram_mod[doc] for doc in texts]\n",
    "\n",
    "def make_trigrams(texts):\n",
    "    return [trigram_mod[bigram_mod[doc]] for doc in texts]\n",
    "\n",
    "def compute_coherence_values(id2word, corpus, texts, limit, start=2, step=3):\n",
    "    \"\"\"\n",
    "    Compute c_v coherence for various number of topics\n",
    "\n",
    "    Parameters:\n",
    "    ----------\n",
    "    dictionary : Gensim dictionary\n",
    "    corpus : Gensim corpus\n",
    "    texts : List of input texts\n",
    "    limit : Max num of topics\n",
    "\n",
    "    Returns:\n",
    "    -------\n",
    "    model_list : List of LDA topic models\n",
    "    coherence_values : Coherence values corresponding to the LDA model with respective number of topics\n",
    "    \"\"\"\n",
    "    coherence_values = []\n",
    "    model_list = []\n",
    "    chunksize = 2000\n",
    "    passes = 20\n",
    "    iterations = 400\n",
    "    eval_every = None  # Don't evaluate model perplexity, takes too much time.\n",
    "    for num_topics in range(start, limit, step):\n",
    "        ldamallet = gensim.models.wrappers.LdaMallet(mallet_path, corpus=corpus, num_topics=20, id2word=id2word, random_seed=50)\n",
    "        model_list.append(ldamallet)\n",
    "        coherence_model_ldamallet = CoherenceModel(model=ldamallet, texts=texts, dictionary=dictionary, coherence='c_v')\n",
    "        coherence_values.append(coherence_model_ldamallet.get_coherence())\n",
    "\n",
    "    return model_list, coherence_values\n",
    "\n",
    "def loop_compute_coherence_values(id2word, corpus, texts, limit, mallet_path, start=2, step=3):\n",
    "    coherence_values = []\n",
    "    model_list = []\n",
    "    for num_topics in range(start, limit, step):\n",
    "        ldamallet = gensim.models.wrappers.LdaMallet(mallet_path, corpus=corpus, num_topics=num_topics, id2word=id2word, random_seed=50)\n",
    "        model_list.append(ldamallet)\n",
    "        coherence_model_ldamallet = CoherenceModel(model=ldamallet, texts=texts, dictionary=dictionary, coherence='c_v')\n",
    "        coherence_values.append(coherence_model_ldamallet.get_coherence())\n",
    "        print(num_topics)\n",
    "    return model_list, coherence_values"
   ]
  },
  {
   "cell_type": "markdown",
   "metadata": {},
   "source": [
    "# Load and process News Tweets"
   ]
  },
  {
   "cell_type": "code",
   "execution_count": 3,
   "metadata": {
    "tags": []
   },
   "outputs": [
    {
     "name": "stdout",
     "output_type": "stream",
     "text": [
      "Number of valid news tweets: 1632183\n",
      "Just collected 1632183 tweets.\n"
     ]
    }
   ],
   "source": [
    "#\n",
    "news_accounts = pd.read_csv('./../data/raw/news_accounts.csv')\n",
    "news_tweets = pd.read_csv('./../data/raw/news_tweets.csv')\n",
    "news_tweets = news_tweets.merge(news_accounts[['author_id', 'country']])\n",
    "\n",
    "#\n",
    "news_tweets = news_tweets.sort_values('created_at')\n",
    "news_tweets = news_tweets.drop_duplicates('conversation_id', keep='first')\n",
    "news_tweets = news_tweets.drop_duplicates('text', keep='first')\n",
    "news_tweets = news_tweets[news_tweets.lang=='en']\n",
    "print('Number of valid news tweets:', news_tweets.shape[0])\n",
    "\n",
    "# Generate content file\n",
    "news_tweets = news_tweets.reset_index(drop=True)\n",
    "data = list(news_tweets.text)\n",
    "print(\"Just collected\", len(data), \"tweets.\")"
   ]
  },
  {
   "cell_type": "code",
   "execution_count": null,
   "metadata": {
    "tags": []
   },
   "outputs": [],
   "source": [
    "# # Load lookup tables\n",
    "# media_list = pd.read_csv('./../data/external/MediaList.csv', sep=\";\")\n",
    "# news_accounts = pd.read_parquet('./../data/raw/news_accounts.parquet')\n",
    "# emotions = ['anger', 'sadness', 'optimism', 'joy']\n",
    "\n",
    "# # Process lookup tables\n",
    "# news_accounts = news_accounts.merge(media_list)\n",
    "# news_accounts['userId'] = news_accounts.userId.astype('float64')\n",
    "\n",
    "# # Load news tweets\n",
    "# news_tweets = pd.read_parquet('./../data/processed/consolidated/consolidated_news_tweets.parquet')\n",
    "\n",
    "# # Include country information and filter valid news accountsw\n",
    "# news_tweets = news_tweets.merge(news_accounts[['userId','country']])\n",
    "# news_tweets = news_tweets.sort_values('date').drop_duplicates('conversationId', keep='first')\n",
    "# news_tweets = news_tweets[news_tweets.lang=='en']\n",
    "# print('Number of valid news tweets:', news_tweets.shape[0])\n",
    "\n",
    "# # Generate content file\n",
    "# news_tweets = news_tweets.reset_index(drop=True)\n",
    "# data = list(news_tweets.content)\n",
    "# print(\"Just collected\", len(data), \"tweets.\")\n",
    "# del media_list, news_accounts"
   ]
  },
  {
   "cell_type": "code",
   "execution_count": 30,
   "metadata": {
    "tags": []
   },
   "outputs": [
    {
     "name": "stdout",
     "output_type": "stream",
     "text": [
      "Finish 1 1775.2315578460693\n",
      "Finish 2 317.3609642982483\n",
      "Finish 3 23.717934131622314\n",
      "Finish 4 0.33038997650146484\n",
      "Finish 5 11.87576413154602\n",
      "Number of unique tokens: 2197\n",
      "Number of documents: 1632183\n"
     ]
    }
   ],
   "source": [
    "# Clean data\n",
    "start = time.time()\n",
    "nlp = spacy.load(\"en_core_web_sm\")\n",
    "docs = []\n",
    "for doc in nlp.pipe(data, disable=[\"tok2vec\", \"tagger\", \"parser\", \"attribute_ruler\"]):\n",
    "    docs.append([\n",
    "        re.sub(r'[^\\w\\s]|[0-9]|[_]', '', token.lemma_.lower()) for token in doc\n",
    "        if not token.like_url\n",
    "        and not token.is_punct\n",
    "        and not token.is_stop\n",
    "        and not token.is_space\n",
    "        and not token.like_num\n",
    "        and not token.ent_type_ == 'GPE'\n",
    "        and not token.text.startswith('@')\n",
    "        and len(token.text)>1\n",
    "    ])\n",
    "print(\"Finish 1\", time.time() - start)\n",
    "\n",
    "# Form Bigrams and Trigrams\n",
    "start = time.time()\n",
    "bigram = gensim.models.Phrases(docs, min_count=5, ) # higher threshold fewer phrases.\n",
    "trigram = gensim.models.Phrases(bigram[docs])\n",
    "bigram_mod = gensim.models.phrases.Phraser(bigram)\n",
    "trigram_mod = gensim.models.phrases.Phraser(trigram)\n",
    "docs = make_bigrams(docs)\n",
    "docs = make_trigrams(docs)\n",
    "print(\"Finish 2\", time.time() - start)\n",
    "\n",
    "# Create a dictionary representation of the documents.\n",
    "start = time.time()\n",
    "dictionary = Dictionary(docs)\n",
    "print(\"Finish 3\", time.time() - start)\n",
    "\n",
    "# Filter out words that occur less than 20 documents, or more than 50% of the documents.\n",
    "start = time.time()\n",
    "dictionary.filter_extremes(no_below=len(docs)*0.0005, no_above=0.33)\n",
    "temp = dictionary[0]  # This is only to \"load\" the dictionary.\n",
    "id2word = dictionary.id2token\n",
    "print(\"Finish 4\", time.time() - start)\n",
    "\n",
    "# Bag-of-words representation of the documents.\n",
    "start = time.time()\n",
    "corpus = [dictionary.doc2bow(doc) for doc in docs]\n",
    "print(\"Finish 5\", time.time() - start)\n",
    "\n",
    "print('Number of unique tokens: %d' % len(dictionary))\n",
    "print('Number of documents: %d' % len(corpus))"
   ]
  },
  {
   "cell_type": "code",
   "execution_count": 6,
   "metadata": {},
   "outputs": [],
   "source": [
    "# https://www.geeksforgeeks.org/how-to-use-pickle-to-save-and-load-variables-in-python/\n",
    "\n",
    "import pickle\n",
    "\n",
    "# # Open a file and use dump()\n",
    "# with open('docs.pkl', 'wb') as file:\n",
    "      \n",
    "#     # A new file will be created\n",
    "#     pickle.dump(docs, file)\n",
    "    \n",
    "# Open the file in binary mode\n",
    "with open('docs.pkl', 'rb') as file:\n",
    "      \n",
    "    # Call load method to deserialze\n",
    "    docs = pickle.load(file)"
   ]
  },
  {
   "cell_type": "markdown",
   "metadata": {},
   "source": [
    "# Coherence over number of topics"
   ]
  },
  {
   "cell_type": "code",
   "execution_count": 20,
   "metadata": {},
   "outputs": [
    {
     "data": {
      "text/plain": [
       "2"
      ]
     },
     "execution_count": 20,
     "metadata": {},
     "output_type": "execute_result"
    }
   ],
   "source": [
    "1+1"
   ]
  },
  {
   "cell_type": "code",
   "execution_count": 18,
   "metadata": {
    "tags": []
   },
   "outputs": [
    {
     "name": "stdout",
     "output_type": "stream",
     "text": [
      "2\n",
      "5\n",
      "8\n",
      "11\n",
      "14\n",
      "17\n",
      "20\n",
      "23\n",
      "26\n",
      "29\n",
      "32\n",
      "35\n",
      "38\n"
     ]
    },
    {
     "data": {
      "image/png": "[encoded data removed]",
      "text/plain": [
       "<Figure size 432x288 with 1 Axes>"
      ]
     },
     "metadata": {
      "needs_background": "light"
     },
     "output_type": "display_data"
    }
   ],
   "source": [
    "# Can take a long time to run.\n",
    "limit=40; start=2; step=3;\n",
    "model_list, coherence_values = loop_compute_coherence_values(id2word=id2word, corpus=corpus, texts=docs, mallet_path=mallet_path, start=start, limit=limit, step=step)\n",
    "\n",
    "# Show graph\n",
    "x = range(start, limit, step)\n",
    "plt.plot(x, coherence_values)\n",
    "plt.xlabel(\"Num Topics\")\n",
    "plt.ylabel(\"Coherence score\")\n",
    "plt.legend((\"coherence_values\"), loc='best')\n",
    "plt.show()"
   ]
  },
  {
   "cell_type": "code",
   "execution_count": 19,
   "metadata": {},
   "outputs": [
    {
     "data": {
      "text/plain": [
       "[0.18111807889419942,\n",
       " 0.3069857418245153,\n",
       " 0.3770153075387129,\n",
       " 0.3946363098394775,\n",
       " 0.4443431511723297,\n",
       " 0.4605954232303439,\n",
       " 0.48470604721718813,\n",
       " 0.4916932266272104,\n",
       " 0.4909952406571094,\n",
       " 0.4807049008608318,\n",
       " 0.48947994444945814,\n",
       " 0.5102746520337154,\n",
       " 0.5061367752062007]"
      ]
     },
     "execution_count": 19,
     "metadata": {},
     "output_type": "execute_result"
    }
   ],
   "source": [
    "coherence_values"
   ]
  },
  {
   "cell_type": "markdown",
   "metadata": {},
   "source": [
    "# Train LDA"
   ]
  },
  {
   "cell_type": "code",
   "execution_count": 32,
   "metadata": {},
   "outputs": [
    {
     "data": {
      "text/plain": [
       "'C:\\\\Users\\\\olive\\\\anaconda3\\\\envs\\\\ugpn\\\\lib\\\\site-packages\\\\gensim\\\\test\\\\test_data\\\\model'"
      ]
     },
     "execution_count": 32,
     "metadata": {},
     "output_type": "execute_result"
    }
   ],
   "source": [
    "datapath(\"model\")"
   ]
  },
  {
   "cell_type": "code",
   "execution_count": 10,
   "metadata": {},
   "outputs": [],
   "source": [
    "os.environ.update({'MALLET_HOME':r'C:/new_mallet/mallet-2.0.8/'})\n",
    "mallet_path = 'C:\\\\new_mallet\\\\mallet-2.0.8\\\\bin\\\\mallet'"
   ]
  },
  {
   "cell_type": "code",
   "execution_count": 21,
   "metadata": {},
   "outputs": [],
   "source": [
    "# Train model\n",
    "#temp_file = datapath(\"topic_model_280322\")\n",
    "#ldamallet = gensim.models.wrappers.LdaMallet.load(temp_file)\n",
    "ldamallet = gensim.models.wrappers.LdaMallet(mallet_path, corpus=corpus, num_topics=23, id2word=id2word, random_seed=50)\n",
    "model = gensim.models.wrappers.ldamallet.malletmodel2ldamodel(ldamallet)"
   ]
  },
  {
   "cell_type": "code",
   "execution_count": 22,
   "metadata": {},
   "outputs": [],
   "source": [
    "# Save the model\n",
    "temp_file = datapath(\"topic_model_290322\")\n",
    "ldamallet.save(temp_file)"
   ]
  },
  {
   "cell_type": "code",
   "execution_count": 23,
   "metadata": {},
   "outputs": [
    {
     "data": {
      "text/html": [
       "\n",
       "<link rel=\"stylesheet\" type=\"text/css\" href=\"https://cdn.jsdelivr.net/gh/bmabey/pyLDAvis@3.3.1/pyLDAvis/js/ldavis.v1.0.0.css\">\n",
       "\n",
       "\n",
       "<div id=\"ldavis_el1125624747842991527186997884\"></div>\n",
       "<script type=\"text/javascript\">\n",
       "\n",
       "var ldavis_el1125624747842991527186997884_data = {\"mdsDat\": {\"x\": [0.2040696432015971, 0.10955884546753329, 0.19399691435011074, 0.10458557381739042, 0.10843138502690913, 0.11705620104059355, 0.016487203198174524, 0.07773461931000376, 0.10266589949031772, 0.1249767255526224, 0.04491775425081672, -0.15603030360585243, 0.10558854338961629, -0.06959705676671621, 0.09078810478091706, -0.1764211262388199, -0.19927165340856767, 0.11694131640628878, 0.016458413184901387, -0.21113835244455484, -0.19071746536033998, -0.22556201809341708, -0.3055191665495233], \"y\": [0.3367851814348734, 0.007884391743781959, 0.31869867658680423, 0.07959292617379783, -0.09906931974777383, -0.039679928995746495, -0.21272310375912756, -0.06674774886626046, -0.10863564568576, -0.0858552360951233, -0.22330327714041356, 0.03331453263324639, -0.06420979618102998, 0.041325034603386865, -0.09128898945488988, -0.05112519465346416, 0.12965676479897348, -0.047077436933914765, 0.0013235516731340605, -0.079100932772612, 0.0450465792217066, 0.08892583739893513, 0.08626313401747737], \"topics\": [1, 2, 3, 4, 5, 6, 7, 8, 9, 10, 11, 12, 13, 14, 15, 16, 17, 18, 19, 20, 21, 22, 23], \"cluster\": [1, 1, 1, 1, 1, 1, 1, 1, 1, 1, 1, 1, 1, 1, 1, 1, 1, 1, 1, 1, 1, 1, 1], \"Freq\": [4.419005871116044, 4.399003464785975, 4.369862083128906, 4.369282137949878, 4.365465926364495, 4.363249197900035, 4.362992821372321, 4.362655659760184, 4.361926699657642, 4.360160888898225, 4.3536280039991, 4.351093284673787, 4.342539591438881, 4.341409578804385, 4.339814752558491, 4.333397809011425, 4.332335968176983, 4.329736963364185, 4.320769448919017, 4.309991986186932, 4.304308343842725, 4.304300454632052, 4.303069063458334]}, \"tinfo\": {\"Term\": [\"coronavirus\", \"cases\", \"lockdown\", \"vaccine\", \"pandemic\", \"people\", \"government\", \"amid\", \"country\", \"deaths\", \"news\", \"vaccines\", \"outbreak\", \"state\", \"virus\", \"patients\", \"infections\", \"week\", \"restrictions\", \"latest\", \"health\", \"day\", \"watch\", \"amp\", \"crisis\", \"breaking\", \"number\", \"confirmed\", \"quarantine\", \"world\", \"confirmed\", \"stands\", \"bringing_total\", \"bringing_total_number\", \"total_number\", \"breaking_department_health\", \"taking_total_number\", \"day_row\", \"records_new\", \"follow_live_blog_updates\", \"active_cases\", \"reported_hours\", \"total_active_cases\", \"deaths_recoveries\", \"total\", \"recovered\", \"recoveries\", \"health_department\", \"cases_recoveries_deaths\", \"active\", \"fatalities\", \"hours\", \"reported\", \"death_toll\", \"tally\", \"past_hours\", \"rises\", \"recorded\", \"registered\", \"discharged\", \"deaths\", \"cases\", \"fresh\", \"reports\", \"health_ministry\", \"breaking\", \"positive\", \"yesterday\", \"today\", \"ministry_health\", \"additional\", \"arrived\", \"entered\", \"filipinos\", \"president_duterte\", \"ncr\", \"vaccination_program\", \"friday\", \"city\", \"began\", \"tuesday\", \"philippine\", \"department_health_doh\", \"dec\", \"pnp\", \"presidential_spokesperson_harry_roque\", \"march\", \"august\", \"wednesday\", \"nstworld\", \"thursday\", \"metro\", \"announced\", \"april\", \"iatf\", \"community_quarantine\", \"sept\", \"covidquarantine\", \"february\", \"ph\", \"enhanced_community_quarantine\", \"december\", \"metro_manila\", \"saturday\", \"doh\", \"nationwide\", \"sunday\", \"country\", \"disease\", \"monday\", \"department_health\", \"palace\", \"showed\", \"read\", \"president_rodrigo_duterte\", \"additional\", \"july\", \"june\", \"officials\", \"novel_coronavirus\", \"authorities\", \"records\", \"infections\", \"spike\", \"number\", \"risen\", \"highest\", \"increase\", \"daily\", \"lowest\", \"sees\", \"recording\", \"hospitalizations\", \"rise\", \"record\", \"toll\", \"single_day\", \"positivity_rate\", \"past_days\", \"pandemic_began\", \"reporting\", \"decline\", \"jump\", \"increases\", \"past_week\", \"increasing\", \"drop\", \"surpassed\", \"count\", \"rising\", \"trend\", \"increased\", \"surge\", \"province\", \"numbers\", \"cases\", \"figures\", \"deaths\", \"recorded\", \"high\", \"day\", \"fresh\", \"reports\", \"reported\", \"newsalert\", \"sources\", \"centre\", \"till\", \"union_health_minister\", \"justin\", \"pti\", \"chennai\", \"india\", \"rajasthan\", \"union_minister\", \"goa\", \"cm\", \"punjab\", \"uttar_pradesh\", \"bengaluru\", \"delhi\", \"migrant_workers\", \"andhra_pradesh\", \"uttarakhand\", \"national_capital\", \"sc\", \"migrants\", \"prime_minister_narendra_modi\", \"corona\", \"assam\", \"bjp\", \"covidindia\", \"bmc\", \"indiafightscovid\", \"amp\", \"govt\", \"states\", \"maharashtra\", \"live_updates\", \"lakh\", \"ani\", \"kerala\", \"pm_modi\", \"vaccination_drive\", \"karnataka\", \"itvideo\", \"view\", \"tamil_nadu\", \"stayhome\", \"districts\", \"crore\", \"district\", \"shares_details\", \"coronavirusoutbreak\", \"state\", \"coronaviruspandemic\", \"situation\", \"reports\", \"vaccination\", \"report\", \"today\", \"indian\", \"health_minister\", \"public_health\", \"commissioner\", \"questions\", \"security\", \"preparedness\", \"director\", \"agency\", \"senior\", \"air\", \"underway\", \"systems\", \"matter\", \"answers\", \"kayburley\", \"institute\", \"position\", \"trudeau\", \"prof\", \"vaccine_roll\", \"expert\", \"issue\", \"answer\", \"discuss\", \"ontario\", \"experts\", \"status\", \"system\", \"panel\", \"cdnpoli\", \"senators\", \"health\", \"advice\", \"safety\", \"information\", \"clear\", \"science\", \"head\", \"professor\", \"meet\", \"joined\", \"issues\", \"crucial\", \"focus\", \"chief\", \"meeting\", \"official\", \"important\", \"minister\", \"dr\", \"related\", \"current\", \"leading\", \"good\", \"group\", \"vaccines\", \"key\", \"vaccine_rollout\", \"food_drug_administration\", \"trial\", \"produce\", \"inoculation\", \"senior_citizens\", \"booster_shot\", \"boosters\", \"booster\", \"approves\", \"received\", \"experimental\", \"supply\", \"receive\", \"batch\", \"roll\", \"european_union\", \"manufacturing\", \"administered\", \"shot\", \"sputnik\", \"astrazeneca\", \"fda\", \"age_group\", \"jabs\", \"year_olds\", \"covidvaccine\", \"received_dose\", \"covaxin\", \"covishield\", \"vaccine\", \"pfizer\", \"doses\", \"jab\", \"dose\", \"eu\", \"approved\", \"shots\", \"rollout\", \"developed\", \"production\", \"protection\", \"trials\", \"johnson_amp_johnson\", \"approval\", \"moderna\", \"offered\", \"pfizer_biontech\", \"booster_shots\", \"delivery\", \"vaccines\", \"vaccine_doses\", \"effective\", \"astrazeneca_vaccine\", \"economic\", \"impact\", \"investors\", \"triggered\", \"sales\", \"tourism\", \"struggling\", \"prices\", \"suffer\", \"budget\", \"business\", \"financial\", \"growth\", \"bank\", \"loss\", \"bn\", \"products\", \"banks\", \"social\", \"revenue\", \"cash\", \"small_businesses\", \"survive\", \"debt\", \"loans\", \"stress\", \"employment\", \"unemployment\", \"economy\", \"future\", \"post\", \"women\", \"writes\", \"recovery\", \"caused\", \"market\", \"industry\", \"sector\", \"money\", \"jobs\", \"changed\", \"spending\", \"trade\", \"digital\", \"markets\", \"worse\", \"businesses\", \"quarter\", \"effects\", \"pandemic\", \"opinion\", \"years\", \"cost\", \"year\", \"hit\", \"demand\", \"result\", \"biggest\", \"urges\", \"travel\", \"precautions\", \"urged\", \"entry\", \"wear_masks\", \"attend\", \"activities\", \"vaccinated\", \"unvaccinated\", \"fully_vaccinated\", \"encourage\", \"guidelines\", \"social_distancing\", \"tourists\", \"wearing_masks\", \"masks\", \"stay_home\", \"overs\", \"shopping\", \"wearing_face_masks\", \"regulations\", \"issued\", \"compliance\", \"quarantine_free\", \"travelling\", \"protocols\", \"physical_distancing\", \"list\", \"add\", \"require\", \"visitors\", \"citizens\", \"wear_mask\", \"advised\", \"public_transport\", \"vaccinate\", \"protocol\", \"residents\", \"county\", \"public\", \"urge\", \"people\", \"follow\", \"allowed\", \"kenyans\", \"vaccination\", \"including\", \"order\", \"cdc\", \"continue\", \"safe\", \"protect\", \"ensure\", \"place\", \"officials\", \"government\", \"labour\", \"sabah\", \"assistance\", \"proposed\", \"supports\", \"inquiry\", \"launched\", \"implementation\", \"failed\", \"auspol_news\", \"agreed\", \"mps\", \"projects\", \"mco\", \"africa_today\", \"nstnation\", \"support\", \"tracking_spread_coronavirus\", \"funds\", \"fund\", \"efforts\", \"nationnewsplex\", \"implement\", \"program\", \"donate\", \"funding\", \"corruption\", \"sop\", \"sarawak\", \"seeks\", \"aid\", \"federal_government\", \"scheme\", \"farmers\", \"council\", \"government\", \"bid\", \"private_sector\", \"national\", \"deal\", \"parliament\", \"plan\", \"provide\", \"local\", \"called\", \"needed\", \"response\", \"decision\", \"fight\", \"law\", \"strategy\", \"measures\", \"read\", \"emergency\", \"country\", \"week\", \"launch\", \"phase\", \"pause\", \"pubs\", \"start\", \"end\", \"begin\", \"planned\", \"delay\", \"delayed\", \"hopes\", \"season\", \"ends\", \"gap\", \"schedule\", \"reopening\", \"tomorrow\", \"summer\", \"restaurants\", \"early\", \"closing\", \"remaining\", \"reopen\", \"opening\", \"expected\", \"final\", \"expect\", \"vaccinations\", \"month\", \"months\", \"date\", \"resume\", \"open\", \"reopened\", \"ready\", \"starting\", \"finally\", \"plans\", \"set\", \"weeks\", \"ahead\", \"closed\", \"june\", \"july\", \"year\", \"long\", \"close\", \"september\", \"plan\", \"lockdown\", \"students\", \"children\", \"parents\", \"lot\", \"anxiety\", \"lessons\", \"classes\", \"universities\", \"student\", \"feeling\", \"exams\", \"pupils\", \"kids\", \"teacher\", \"experience\", \"normal\", \"small\", \"loved_ones\", \"teachers\", \"president_museveni\", \"learning\", \"new_normal\", \"pain\", \"reopening_schools\", \"newnormal\", \"school\", \"things\", \"schools\", \"child\", \"schools_reopen\", \"families\", \"education\", \"challenges\", \"lives\", \"university\", \"helping\", \"survey\", \"difficult\", \"virtual\", \"uganda\", \"life\", \"sports\", \"living\", \"fear\", \"online\", \"young_people\", \"helped\", \"ntvnews\", \"time\", \"pandemic\", \"affected\", \"year\", \"find\", \"long\", \"safe\", \"face\", \"opinion\", \"lower\", \"compared\", \"africa\", \"low\", \"shows\", \"sharing\", \"continent\", \"transmission\", \"significant\", \"greater\", \"cent\", \"parts\", \"infection_rates\", \"true\", \"rates\", \"death_rate\", \"data_shows\", \"countries\", \"data\", \"population\", \"risk\", \"risks\", \"multiple\", \"outbreaks\", \"asia\", \"percent\", \"nations\", \"large\", \"black\", \"surges\", \"world_health_organization\", \"areas\", \"higher\", \"half\", \"counties\", \"governments\", \"world_health_organisation\", \"putting\", \"world\", \"warned\", \"global\", \"rate\", \"lockdowns\", \"high\", \"report\", \"based\", \"coronavirus\", \"region\", \"worldwide\", \"country\", \"read\", \"control\", \"including\", \"hospital\", \"bed\", \"medics\", \"beds\", \"nhs\", \"drugs\", \"lines\", \"clinic\", \"dedicated\", \"treat\", \"treatment\", \"duty\", \"hospitals\", \"medical\", \"healthcare_workers\", \"facilities\", \"health_workers\", \"health_care_workers\", \"quarantine_facility\", \"fire\", \"medicine\", \"nurses\", \"iii\", \"overwhelmed\", \"healthcare\", \"hiv\", \"medicines\", \"gp\", \"unit\", \"resources\", \"patients\", \"doctors\", \"doctor\", \"care\", \"drug\", \"run\", \"capacity\", \"facility\", \"inside\", \"oxygen\", \"ventilators\", \"icu\", \"private_hospitals\", \"ppe\", \"admitted\", \"critical\", \"pressure\", \"private\", \"hse\", \"services\", \"fighting\", \"line\", \"patient\", \"staff\", \"working\", \"battling\", \"group\", \"battle\", \"infection\", \"spread\", \"suspected\", \"symptoms\", \"researchers\", \"scientists\", \"identified\", \"detected\", \"emerging\", \"strains\", \"infectious\", \"linked\", \"study\", \"strain\", \"studies\", \"suggests\", \"severe\", \"rare\", \"mild\", \"study_suggests\", \"immunity\", \"antibodies\", \"mutations\", \"variants\", \"managed_isolation\", \"variant\", \"case\", \"omicron\", \"spreading\", \"health_officials\", \"found\", \"omicron_variant\", \"prevent\", \"delta_variant\", \"delta\", \"evidence\", \"study_finds\", \"icmr\", \"south_african\", \"virus\", \"community\", \"asymptomatic\", \"dangerous\", \"concern\", \"novel_coronavirus\", \"infected\", \"coronavirus\", \"protect\", \"flights\", \"quarantine\", \"returning\", \"passengers\", \"flight\", \"arrivals\", \"drivers\", \"holiday\", \"overseas\", \"shoppers\", \"brits\", \"guests\", \"stranded\", \"site\", \"stay\", \"train\", \"option\", \"restaurant\", \"pay\", \"compulsory\", \"employers\", \"work_home\", \"employees\", \"office\", \"leave\", \"hotel\", \"transport\", \"boss\", \"forced\", \"home\", \"workers\", \"travellers\", \"extra\", \"working_home\", \"abroad\", \"airport\", \"paid\", \"board\", \"work\", \"customers\", \"hotels\", \"irish\", \"thousands\", \"airlines\", \"told\", \"face_masks\", \"avoid\", \"hundreds\", \"company\", \"staff\", \"mandatory\", \"return\", \"face\", \"bring\", \"working\", \"president\", \"americans\", \"promises\", \"american\", \"adviser\", \"trump_administration\", \"slams\", \"leader\", \"tv\", \"telling\", \"president_trump\", \"message\", \"misinformation\", \"twitter\", \"campaign\", \"debate\", \"defends\", \"white_house\", \"vote\", \"speech\", \"tweet\", \"blame\", \"bill\", \"politics\", \"pres_trump\", \"attacks\", \"polls\", \"joe_biden\", \"biden\", \"relief_bill\", \"trump\", \"claims\", \"mask\", \"donald_trump\", \"media\", \"election\", \"administration\", \"president_donald_trump\", \"social_media\", \"facebook\", \"wrong\", \"diagnosis\", \"political\", \"claim\", \"effort\", \"politicians\", \"senate\", \"push\", \"governor\", \"congress\", \"analysis\", \"federal\", \"nation\", \"relief\", \"response\", \"coronavirus\", \"pandemic\", \"officials\", \"party\", \"update\", \"health_secretary_matt_hancock\", \"overnight\", \"map\", \"nsw\", \"coverage\", \"new_south_wales\", \"victorian\", \"follow_live\", \"border\", \"premier\", \"passes\", \"developments\", \"prime_minister_scott_morrison\", \"victorians\", \"milestone\", \"covidab\", \"victoria_recorded_new\", \"news\", \"latest\", \"updates\", \"victoria\", \"track\", \"hotspot\", \"yyc_covidab\", \"watch_live\", \"chimpreportsnews_ugandanews_uganda_featured\", \"press_conference\", \"track_latest_news\", \"prime_minister_boris_johnson\", \"latest_updates\", \"thread\", \"australian\", \"australians\", \"nz\", \"news_updates\", \"live\", \"breaking\", \"area\", \"revealed\", \"health_minister\", \"hotel_quarantine\", \"coronavirus\", \"morning\", \"state\", \"prime_minister\", \"uk\", \"local\", \"yesterday\", \"today\", \"level\", \"protesters\", \"officers\", \"tier\", \"eases\", \"extended\", \"street\", \"auckland\", \"enforced\", \"tough\", \"illegal\", \"arrested\", \"busy\", \"strict\", \"stricter\", \"arrest\", \"garda\\u00ed\", \"lifts\", \"ease\", \"breach\", \"laws\", \"lifting\", \"relaxed\", \"freedom\", \"relaxation\", \"curfew\", \"breaching\", \"lockdown_regulations\", \"anti_lockdown\", \"restrictions\", \"rules\", \"police\", \"easing\", \"protest\", \"imposed\", \"extends\", \"protests\", \"lift\", \"eased\", \"cops\", \"impose\", \"enforce\", \"flouting\", \"violating\", \"streets\", \"alert_level\", \"lockdown\", \"boris_johnson\", \"break\", \"measures\", \"weekend\", \"christmas\", \"orders\", \"ban\", \"hard\", \"watch\", \"joins\", \"players\", \"nba\", \"podcast\", \"sabcnews\", \"session\", \"south_africans\", \"join\", \"club\", \"interview\", \"conversation\", \"cork\", \"vmnews_covidireland\", \"reports_vmnews_covidireland\", \"sa\", \"videos\", \"talks\", \"enca\", \"mkhize\", \"reports_vmnews\", \"covidireland\", \"pm\", \"video\", \"listen\", \"tonight\", \"night\", \"star\", \"speaks\", \"dstv\", \"war\", \"stories\", \"vmnews\", \"game\", \"register\", \"icymi\", \"coronavirusireland\", \"ramaphosa\", \"miss\", \"shares\", \"times\", \"series\", \"story\", \"exclusive\", \"visit\", \"today\", \"fight\", \"coming\", \"details\", \"special\", \"team\", \"need_know\", \"lockdown\", \"battle\", \"read\", \"live\", \"coronavirus\", \"scare\", \"amid\", \"olympics\", \"selling\", \"cancel\", \"festival\", \"water\", \"tokyo_olympics\", \"elections\", \"athletes\", \"crime\", \"read_reply_stop_opt\", \"concerns\", \"cancelled\", \"games\", \"threat\", \"holds\", \"suspend\", \"cancels\", \"suspends\", \"events\", \"wedding\", \"bans\", \"crisis\", \"japanese\", \"probe\", \"battles\", \"jail\", \"held\", \"land\", \"annual\", \"faces\", \"poor\", \"sought\", \"wake\", \"facing\", \"struggle\", \"hold\", \"food\", \"pandemic\", \"handling\", \"event\", \"postponed\", \"time\", \"calls\", \"coronavirus\", \"surge\", \"french\", \"major\", \"international\", \"face\", \"demand\", \"canadian\", \"court\", \"died\", \"killed\", \"woman\", \"resident\", \"family\", \"husband\", \"victim\", \"die\", \"officer\", \"daughter\", \"prisoners\", \"attended\", \"remember\", \"hands\", \"senator\", \"testing_positive\", \"prison\", \"family_members\", \"complications\", \"self_isolating\", \"dad\", \"care_home\", \"dead\", \"baby\", \"man\", \"victims\", \"wife\", \"dies\", \"young\", \"mum\", \"tested_positive\", \"year_old\", \"reveals\", \"contracted\", \"caught\", \"mother\", \"son\", \"reportedly\", \"father\", \"elderly\", \"hospitalised\", \"filipino\", \"contracting\", \"person\", \"death\", \"late\", \"test_positive\", \"recently\", \"town\", \"infected\", \"people\", \"tests_positive\", \"coronavirus\", \"taking\", \"patient\", \"left\", \"british\", \"screening\", \"tested\", \"tests_negative\", \"testing\", \"lab\", \"ncdc\", \"results\", \"health_secretary\", \"test_kits\", \"fg\", \"conducted\", \"kano\", \"johnson\", \"reply_stop_opt_time\", \"update_reply_stop_opt\", \"tests\", \"negative\", \"thecable\", \"test\", \"mass_testing\", \"undergo\", \"arrival\", \"reach\", \"samples\", \"test_results\", \"rapid\", \"mass\", \"minute\", \"conduct\", \"fake\", \"starts\", \"reduced\", \"days\", \"earlier\", \"free\", \"day\", \"positive\", \"waiting\", \"vanguardnews\", \"announces\", \"coronavirus\", \"isolation\", \"report\", \"time\", \"read\", \"contact_tracing\", \"tests_positive\", \"weeks\", \"begins\", \"china\", \"declared\", \"europe\", \"liveblog\", \"watch_live_pm_boris\", \"johnson_hosts_daily\", \"lockdown_rules_reply\", \"chinese\", \"epicentre\", \"cases_soar\", \"deadly\", \"shuts\", \"wave\", \"hits\", \"nigerians\", \"italian\", \"new_youtube_coronavirus\", \"stop_opt_time\", \"cummings_resign_allegations_broke\", \"mps_pm_aide_dominic\", \"news_briefing_growing_number\", \"fears\", \"death_toll_rises\", \"european\", \"state_emergency\", \"epidemic\", \"panic\", \"travel_ban\", \"declares\", \"flu\", \"outbreak\", \"worst\", \"warns\", \"nigeria\", \"signs\", \"care_homes\", \"spreads\", \"peak\", \"coronavirus\", \"hit\", \"vanguardnews\", \"combat\", \"control\", \"prepare\", \"need_know\", \"north\", \"emergency\"], \"Freq\": [463803.0, 208943.0, 145792.0, 117331.0, 175302.0, 98724.0, 78409.0, 53706.0, 56860.0, 51997.0, 40528.0, 43660.0, 36863.0, 43570.0, 37543.0, 32739.0, 31067.0, 30654.0, 29663.0, 29261.0, 29259.0, 36358.0, 28695.0, 28233.0, 28143.0, 32340.0, 26664.0, 26688.0, 26449.0, 29197.0, 26688.61371235386, 2131.6588413814884, 1873.3687614631376, 2060.1951829060554, 3707.9429654681826, 865.7311769595316, 849.3966264508612, 936.1739260281727, 3779.4066239436156, 860.6266299255722, 4481.792295816444, 1228.1540163706563, 971.9057552658892, 899.4211873836645, 19755.617930830067, 4957.536079381469, 3855.9748294530086, 4050.968526150261, 1506.8622844248453, 3649.751129281044, 4411.349546747802, 12260.101066163934, 25716.707957087972, 8407.188964931302, 4044.8430697095096, 1194.4640059465237, 1487.465005695799, 10971.713394792554, 2012.2124407868357, 1130.1467133186338, 34605.76616202505, 118824.66676591609, 3912.1248468265626, 16423.369627061304, 3618.1029376704955, 6947.288513218883, 5348.544382182767, 2013.233350193628, 4959.5778981950525, 1770.2569113771553, 1650.8105107825033, 2579.7642018807633, 929.734607121117, 3752.182812529323, 2549.844256240394, 1133.6334959295623, 1386.2908146704617, 14482.361836073753, 15891.923719575614, 2829.0970822171776, 13807.500839963193, 1601.271164827192, 1035.0084899298251, 1513.72762017574, 1142.4986650081905, 1316.477608176266, 12937.606124122816, 5488.647805805594, 13370.89126284076, 4246.415988662838, 13326.56541744762, 2371.432728533004, 17448.869039009667, 10504.117212039415, 1160.2290031654463, 918.653145772832, 980.7093293232284, 1201.2304101541013, 3113.890638868104, 3698.991798057555, 1556.945319434052, 4181.035366707955, 1179.0674874575311, 9673.007610918035, 7737.076313372633, 3578.203869361248, 10366.707091320679, 44779.077162285124, 12960.877192954214, 15281.335199285106, 4945.656199739625, 1477.1587977263994, 1935.9312975454013, 13598.061220480606, 2562.0338637235072, 3157.1083381264157, 4068.004460955448, 4110.114014078931, 4124.519913831702, 3486.227740170482, 3201.4341835195555, 5484.521371238667, 31067.95630243677, 9097.940749339827, 26664.799905616597, 1401.7299914460168, 5606.919965784067, 10643.356047426096, 15031.611745779874, 1856.2012946711109, 3467.6054002514215, 1104.7803577228287, 1113.2950425607696, 18099.026958648075, 8527.456865197788, 2570.3704854534017, 1719.966337264057, 1905.1607324892711, 961.0950510825763, 1795.5341652007824, 3875.245936867841, 2164.8586200464674, 2285.1285433823823, 1283.5887393195871, 932.357989754526, 2433.0711924416055, 4058.31166088357, 933.4223253592686, 1580.5383730427752, 5927.284982811592, 1012.1831601102216, 4212.640323571249, 14336.600595882952, 5777.213662542885, 5564.346541594363, 90118.35998916149, 2905.636200947324, 17381.664761051557, 4713.942393405017, 2955.6599743702263, 5247.174531381065, 2509.7033559830734, 3057.836192425517, 2693.8334156035444, 9022.956182727887, 2224.823651211216, 15004.2714498067, 2452.6212946799415, 926.3770834394825, 1639.0582822916372, 980.6146175987028, 1644.4820357075591, 4250.053176716502, 2023.0600241389166, 978.4451162323339, 1489.3626880121892, 1890.7204407904192, 2642.4526642372125, 2113.0943308432225, 1276.7515541080454, 3306.3200823460684, 1620.6175206775022, 1037.021653124292, 1050.0386613225048, 1371.1248635450888, 953.4958505190926, 1674.8550548367225, 1451.3964141007348, 3506.9989587351843, 1849.4999148294119, 2475.401059026814, 1505.633948259955, 1212.7512638001656, 3873.6446896515126, 28231.721280557347, 20075.4808936938, 15598.714824191755, 11491.848737655595, 10084.92710156542, 5195.955772453303, 4916.090096191727, 5056.022934322515, 5031.073668609274, 3794.457889779051, 3653.4403009650787, 4116.62884268482, 3070.9291840950527, 2513.367332938268, 2509.0283302055304, 3234.7265372558977, 2434.1805330658067, 4511.478091363943, 2151.0606047546767, 10433.132070867614, 32771.40288968408, 6275.282702221788, 8839.633317269723, 15002.101948440331, 8099.833351337958, 7510.813730368825, 4215.341154854601, 2911.470833666945, 2978.7253760243784, 8203.577638957659, 1365.5839431748318, 4232.190892741015, 2145.7577205460266, 976.0567200397159, 2919.215511311444, 2520.733639368624, 2422.232502483882, 4550.080925414501, 1111.495783256236, 1023.0686262801609, 1759.5884907137997, 1308.4980570257198, 1494.3070197855743, 1094.7058167417915, 1062.2452148138652, 1703.6219356656509, 1351.0326388623132, 1009.6366530686051, 6130.576439974225, 4383.300591371018, 1279.3954484006827, 4209.804270721756, 4749.321861385911, 14571.452272336031, 1993.528690815062, 6006.330687767334, 1468.5624044634255, 1306.259394823794, 1289.4694283093495, 29211.18374183081, 4298.231427697831, 4590.376845049169, 3463.210426379451, 3146.4397248069276, 2584.5355121235134, 5116.462462501768, 2143.519058344101, 5128.77510461236, 1459.607755655722, 4637.3887512896135, 1761.8271529157257, 3380.3799249081903, 5204.889619477843, 3991.534706033976, 7456.983794615352, 3637.826078129675, 7300.277440480535, 4996.6940346987285, 4569.109554130871, 3751.997850427899, 3166.587684624262, 3364.709289494708, 4290.396109991091, 6398.096573104376, 3267.3274837109293, 3289.714105730189, 898.0955101941457, 4268.268352572177, 1378.5200271021251, 1020.5163185711256, 916.612943394025, 1084.2985884818208, 1164.5407990146311, 1935.0717693873862, 1220.0930986142691, 5842.2501745619165, 860.031897505505, 5107.725324300039, 5686.909484940707, 1083.2698421929388, 2312.6216574071473, 1112.0747382816398, 1061.666170126413, 1801.3347518327023, 5233.232371543665, 1436.1298192795275, 6797.9554769334645, 2076.0100109642453, 928.9578988606113, 5318.618313520886, 1005.0851242378928, 4359.826772282692, 970.1077504158985, 1857.9157977212226, 1296.2203239915507, 117322.34176927966, 9480.925798338198, 8583.859034432935, 8327.701208501272, 7070.573243487243, 5119.041533477743, 3949.3570030187, 4224.032262150244, 2863.000921959115, 2825.966055559357, 2784.8162040040697, 2704.573993471259, 2674.7403510936756, 2450.47366011736, 2303.362940807208, 2285.8742538962106, 2293.075477918386, 2051.320100031073, 1946.3879785650902, 2198.4308193412253, 37250.90312042384, 4654.048210902995, 3887.6322256857698, 2565.693244472164, 3381.7126529370867, 10084.068655823683, 1010.9150690979295, 890.9575096580458, 2287.917815498874, 2990.2147998560117, 2828.817356245986, 1338.0720493885215, 1031.6350111830004, 3657.615039648819, 7557.326244712676, 1961.8513584759169, 1941.1314163908462, 1221.3860597515438, 1363.1540845441336, 1681.5868786936433, 1140.687337946531, 1518.008388548347, 1837.531705965492, 962.9320453219759, 1798.2728683306211, 934.578440363458, 2027.2827545340356, 1297.7226884860152, 931.306870560552, 1362.0635612764984, 1016.367685436106, 1206.1187340046495, 10753.64994215176, 4088.371730364766, 11386.153437380239, 6109.111345292989, 7828.866538353869, 6151.641752730766, 3795.020971370868, 3536.5669569413, 3227.9488722005085, 2724.1271225529968, 3428.605153445405, 3310.8286405407916, 2665.23886610069, 2539.82869032263, 1749.1993212870325, 1815.721240612786, 2360.982874430439, 2225.7579892436615, 7427.553975864075, 2212.6717100320375, 3277.0224192440974, 70430.35471695867, 5677.264131309408, 5033.8554034045765, 2853.899391401598, 10650.050231726407, 6146.18913639259, 3615.0846322110424, 2949.865438953505, 2949.865438953505, 5995.445848002341, 12064.482811118714, 1264.429159686564, 7341.271241072608, 1177.457841824525, 1688.1355800400863, 1447.2919305759788, 1786.2570668587966, 18608.5169717893, 3181.1432033384185, 6057.886794159702, 1334.6752241135953, 7951.185483002547, 8352.591565442724, 2496.5228293987802, 2044.9409866535786, 5720.036674772551, 3232.4339805391082, 1070.4162198404774, 1005.7452398917819, 983.4449019784387, 2752.976715402228, 2496.5228293987802, 1191.9530614681983, 1104.9817436061594, 1680.3304617704162, 4389.821518241624, 1004.6302229961148, 5339.815913350048, 985.674935769773, 2207.7334534209845, 2270.174399578346, 4056.4314664371423, 1442.83186299331, 1831.9727595811505, 1495.237657089667, 1724.9311375971026, 1548.7584680816906, 11490.249109850125, 2059.436206297252, 14106.07874708529, 1643.5349042133998, 62095.29091970436, 4869.278783378505, 5123.502635590618, 2376.101004666726, 13637.77165090508, 8077.182392212935, 4788.997566890469, 2970.405010057325, 5006.425861545566, 4190.233493917202, 3168.87801748608, 2951.449722830983, 3062.9514123976996, 3669.5206036406366, 3781.022293207353, 1627.194430937568, 1561.5727826632574, 1304.6473461994308, 1686.1426912517793, 1108.8946327031822, 1087.7622374962007, 2729.4156756806506, 1205.6587581246233, 2207.779183466215, 1106.6701700498156, 1230.1278473116543, 2530.3262682043523, 1004.3448879949583, 1113.3435580099151, 1304.6473461994308, 10988.84550763033, 11009.977902837312, 3816.0656818501684, 3370.0609198501925, 2932.954008463682, 4460.047619999759, 4514.546955007238, 1286.8516449724991, 2744.986914254216, 1315.7696594662632, 2341.246942668203, 1082.2010808627845, 1063.2931483091695, 942.0599337006973, 2557.01982004475, 3667.026684074615, 3657.0166021344658, 1857.426315560997, 1681.6937659450466, 1801.8147492268354, 73521.82738774167, 1780.682354019854, 1242.36239190517, 14656.984423031628, 4892.705606079537, 2651.5594828128246, 9958.919299121657, 4259.845981196778, 7814.537301276387, 5652.359602204184, 4042.9608724935474, 10819.786345974479, 4008.4817013663674, 7326.267748862448, 2112.127289371457, 2533.662962184402, 3728.199407042193, 5264.190869191736, 2872.8935168227877, 3740.4339516357086, 30654.245025122058, 2593.468930657865, 4225.402283583652, 983.844987888274, 1500.307833004227, 11545.119755831787, 11632.126455440952, 4689.438014832544, 2175.167490229177, 3169.05171268774, 3366.48999257008, 3336.3722888592147, 2570.0440499938586, 1492.4995394495584, 947.0344611305494, 969.3438712867461, 5736.8648216659785, 5035.233872253592, 3499.23098299945, 2344.719007416272, 9048.696759353377, 1195.7843843721423, 1170.1285626925162, 5565.082363463263, 2839.9879128838384, 9298.56215310278, 2325.756008783505, 2960.4587277273004, 6265.59784236784, 12269.060115400367, 17627.78043491881, 2884.6067331962317, 2601.277224212534, 8179.745233769516, 1465.7282472621223, 5790.40740604085, 2534.3489937439435, 2528.7716412048944, 8756.4434863072, 13100.085643718694, 11522.810345675589, 7350.950646466808, 3518.1939816322174, 5567.313304478883, 5354.258437487205, 10178.668383764738, 4133.933701943246, 3263.8667058515753, 3133.3566564378248, 3340.834170890454, 3500.34645350726, 11145.640877896052, 16726.19061010198, 6462.793348357995, 3199.9274087718204, 1501.69126153543, 1175.956759952377, 1431.0234374631746, 1329.4384403593072, 2161.9937427105674, 1000.3913845228674, 1118.5391528936696, 1454.2113172368834, 5541.903265916414, 1177.060944703506, 2849.90084266393, 2290.079173841531, 2300.016836601692, 915.3691586859348, 4543.720250895805, 1095.3512731199608, 2207.2653175068563, 1662.9022352002628, 934.1402994551278, 2120.034722167666, 1156.0814344320552, 10316.398129798179, 3373.2844146990724, 11948.38319196683, 2332.0381943844327, 1808.6546223492899, 5566.195330441252, 3970.648365059858, 3396.4722944727814, 3328.012839902784, 2918.360297233927, 2410.435311714591, 2253.641077054274, 2231.557382031694, 1949.990270493801, 1862.7596751546107, 8645.766601340012, 1840.6759801320306, 3930.8977140192137, 4804.3078521622465, 5354.191858224485, 2339.7674876423353, 2156.472818954923, 3669.205928001643, 14354.401764676904, 36492.20184006208, 4326.195854923393, 8961.563440162903, 3135.884693206339, 3690.1854382730935, 3154.655833975532, 2775.9204643382873, 2429.206452483784, 2346.1905218440543, 2204.8131876726766, 5912.041061499915, 3952.9551451251095, 5068.265225810423, 1304.9352352485105, 1187.1207901056957, 3368.371088749809, 2379.8517918848584, 1291.4707272321887, 5846.962606087693, 2311.4072094685566, 949.2478151506791, 1212.9277638036456, 2506.642575705221, 1022.180566905755, 1547.2963795423007, 16323.471885120662, 11734.318736224352, 4058.427124586296, 10507.926464404385, 2646.8978675419053, 1497.9265168157879, 4179.607696733191, 1106.3337420077653, 2900.479435182631, 2965.557890594852, 2174.5180446359527, 1442.9464424158077, 1344.206716962782, 4441.04356071677, 7017.252761172987, 3111.4233941050034, 6062.394734348841, 2352.922775852215, 2119.537970235973, 2104.9514198849574, 1864.834360260554, 26520.592622814955, 7745.458236389051, 14515.861683929474, 3596.145682692584, 4528.5628628228615, 4364.744681957614, 8636.35985013567, 3633.173079737469, 34723.844131758946, 3228.115796913125, 2955.4595095826103, 8163.980027229717, 5898.576553483594, 2987.9987372887213, 3174.257764847838, 24690.66779050192, 1141.8359545085423, 1132.9066410813004, 2143.0352225380266, 4893.2637581284935, 2150.848371786863, 1160.810745541431, 1160.810745541431, 994.502282959053, 2385.24284925196, 8508.519531983007, 1401.902208076959, 13117.16142461817, 5546.219802495549, 3711.245893197364, 3094.007102539276, 9042.046009260705, 1936.5448495330606, 934.229417325171, 2201.075759815098, 1358.3718051191554, 2605.127192397789, 1359.4879692975608, 964.365850142112, 1651.9229840397288, 1009.0124172783209, 1039.1488500952619, 937.5779098603866, 1298.0989394852734, 1381.811252865665, 32733.746860089952, 10648.20626198582, 7304.178383483773, 6193.595025970578, 3731.3368484086577, 4059.4891168597933, 3491.3615500515352, 3227.9468039479025, 4142.085266061779, 2619.6373267170566, 2274.742595589843, 2218.9343866695817, 1841.6708943686167, 2370.732714932692, 1886.3174615048256, 2869.6581026798262, 2433.2379089233846, 2704.4658042758533, 2858.496460895774, 4520.46492254115, 3883.135176671768, 3319.4722665771305, 5382.143668269981, 6986.071592638285, 5011.577161039448, 2506.904744698129, 3631.9982365305927, 3064.9868339007403, 11019.294639571297, 18936.98519882016, 3124.9077245753047, 8617.909584180332, 3434.5132839348603, 7490.457081279583, 3217.012604241409, 3941.6449707711226, 1327.1980250682045, 936.5845594962916, 1231.7640533659758, 5670.553434864988, 10487.749611136791, 5158.982958647226, 1480.3362587299205, 1732.2375561299893, 3047.228910399072, 1341.6240905580764, 1032.0185311985201, 1073.077332977386, 2242.6983350023756, 1873.1691189925832, 932.1457701147925, 5369.82545426843, 1108.5876480293782, 12629.465487710062, 23323.61880508656, 14786.717127118583, 3344.6277989595055, 4939.262884263026, 9780.872402133073, 5673.882526901112, 3877.282524739387, 6300.861527037848, 3201.4768414061623, 3072.7519493426908, 2304.841386343362, 1856.5236588119617, 2290.41532085349, 35030.9257987902, 10525.479320879533, 2135.0576925010246, 2204.9686252596343, 2685.4675758069025, 5440.846084372414, 4373.317238121901, 11763.901558317755, 3103.823475013184, 2691.1206629282874, 26449.01663074865, 2605.776226748107, 4216.236821161122, 2319.81694707945, 1031.8918192694546, 1085.093545719437, 2673.3867541116265, 1488.5399712984718, 1120.5613633527587, 3083.4833954969095, 1315.6343603360285, 1816.617284406698, 1649.2535199494612, 3754.0468226268986, 1080.660068515272, 1141.6203800725436, 1643.7116734442548, 4478.920345507911, 1076.2265913111066, 1817.7256537077394, 2532.623852879381, 6460.684655769764, 5562.905521926307, 3887.051138751855, 2425.112030678374, 1750.1151263442198, 1743.4649105379722, 4864.632862270285, 20008.28262239763, 14189.34379193078, 3577.8161037613313, 2614.643181156437, 3003.680805821935, 2123.6355807951395, 2631.268720672057, 2005.0400655837198, 2005.0400655837198, 15608.05649726365, 2796.4157465272115, 1835.4595625244003, 3496.9051447853158, 5680.392667836685, 1875.3608573618872, 5833.347631380386, 3590.008166072785, 3614.392290695694, 3097.892196410446, 3748.504976121692, 5999.603026536581, 3039.148623455257, 3453.678742044705, 3604.4169669863227, 2956.020925877159, 3089.025242002115, 10224.393322132457, 6354.980645962796, 982.4070800303954, 2801.142548281899, 980.176870995139, 1351.5066753653111, 1655.9302086777946, 2255.8564391617365, 1225.4998648733308, 1101.7232634166069, 4750.345245095896, 2769.919621788311, 2216.827781044751, 1643.664058983885, 3719.98867080749, 2549.1289272979384, 1416.1827373877436, 5436.134523437205, 1644.7791635015133, 1261.1832094374315, 1111.7592040752602, 1561.1463246794024, 2312.726769560772, 2816.7540115286934, 1353.7368844005675, 1178.6654751329488, 1165.2842209214111, 2068.518880200208, 4365.634186514186, 1048.198246570456, 12188.09237767562, 6518.901010054133, 4007.6856363555517, 3544.9172615398716, 3428.9463917065445, 3569.4495609276905, 3156.8608894052772, 2821.2144295992057, 2304.921037937375, 2018.3391769069415, 1677.1171945127296, 1606.8656099021562, 2804.4878618347834, 2959.4873897850957, 2498.949224004672, 1757.4047197819557, 1862.2245444390014, 3368.730747754624, 2929.3795678091356, 3340.8531348139213, 5335.775116850671, 3212.6161152866844, 5137.286512712862, 3222.652055945338, 9293.281049912957, 38928.29871039853, 10577.881454220578, 3857.146526475752, 2810.063384422924, 15915.18046115775, 1011.8965825833706, 2300.0675610694375, 1001.9107610447189, 7866.608301004492, 1713.1231617420221, 2459.8407056878646, 1928.3730926862916, 2453.1834913287635, 4609.01140795101, 2188.0044526912357, 1737.5329477253927, 949.7625818984268, 915.3669743764043, 1314.7998359224716, 1270.4184068617974, 1016.3347254894379, 1071.8115118152807, 40526.9019467546, 29259.56664397595, 11803.241058686292, 5281.390058220223, 3874.4987569968534, 1591.0742318251682, 1098.440369251685, 6013.683637721347, 2683.966922444269, 1071.8115118152807, 1069.5924403622469, 1472.3539090878648, 2631.818743297977, 1389.1387295991008, 4950.748411718201, 3036.7992834766283, 1451.2727302840447, 1463.4776232757301, 22718.853536159095, 25392.834637064716, 4339.394226407415, 4053.1340089660666, 4910.805125563595, 2307.8343111550557, 58018.73267529279, 2293.4103467103364, 10799.111226188537, 2883.6833532173027, 2301.1770967959546, 3814.583827764943, 2576.341956972134, 5240.3372363391, 9144.462337055977, 1451.5876128101365, 1696.57674894984, 1627.5049220205844, 1219.5494442196689, 5471.783789551965, 1229.2626698815952, 2578.3217895936186, 969.1640716011173, 2155.256849651928, 1073.8510592907703, 2829.7864095079394, 973.4810607841957, 3257.1683386327086, 1009.0962215445933, 970.243318896887, 936.7866527280288, 1029.601920164216, 3078.0132875349514, 1965.3093255964752, 1506.6292248943873, 2037.6188944130395, 1098.6737470934715, 1057.662349854226, 1009.0962215445933, 2901.0167310287343, 944.3413837984161, 1155.8738537692614, 1959.913089117627, 29662.03267693219, 16804.959642428727, 13669.746248217987, 4873.880787695596, 3435.2441424346957, 2835.1826459867875, 2530.8349085797554, 2399.166738495862, 2162.8115807223153, 1757.0145975129387, 1733.2711570060073, 1605.9199761051923, 1465.6178276551418, 1464.538580359372, 1558.433095091329, 1950.1998634557003, 1807.7392204141108, 126323.7374752423, 8379.276004355317, 2666.820067846727, 9207.058680210615, 4306.196710120777, 3661.886074546315, 2771.50705553638, 2152.019107764619, 2128.2756672576875, 28695.5468098305, 1676.317988145381, 2994.6311944034337, 1097.656170880958, 2333.785889473052, 3067.808272462165, 940.0440027544614, 1773.136891423086, 4222.880304589204, 1207.9846885695056, 1428.6417239466007, 1229.374911386673, 1164.0784417342672, 1131.4302069080643, 1162.9526405333638, 10551.00885486804, 1148.3172249216177, 4562.872267262074, 1498.4413984026205, 1230.5007125875766, 1230.5007125875766, 2522.9204912248483, 25775.218494686702, 10707.495221793633, 7739.883256211883, 3358.26498229528, 2732.319514592908, 2261.7346126152256, 4087.784160480778, 2055.712992849876, 2982.247381193495, 2877.547869509465, 2730.0679121911007, 1776.5142950257966, 1670.6889821408633, 4020.236088426565, 1436.5223323529256, 1415.1321095357582, 2102.9966432878255, 2519.543087622137, 7000.231867218254, 2132.2674745113177, 5519.80328803009, 4627.042935713576, 4141.822618124148, 21344.06496793034, 11038.480774859274, 4669.823381347912, 4952.399482774702, 3090.3242964802357, 3898.649558728982, 3495.6127288055127, 15968.364233615906, 3798.453251848566, 4207.119087776554, 3869.37872750549, 5128.024470115655, 2745.9422359063456, 53706.97333752188, 1385.7922043165197, 1182.8845766531194, 1026.8017861428114, 1225.2499055059172, 1563.0576592532263, 987.7810885152344, 1912.014183751272, 1031.261294443106, 1011.1935070917806, 1306.635931986292, 7937.924774524232, 3130.5748268067473, 1753.701639090817, 5816.313700659117, 1131.6002311997324, 983.3215802149399, 1151.6680185510577, 1573.091552928889, 2343.4716118047663, 1314.4400715118074, 1314.4400715118074, 27952.198026246002, 1043.5249422689158, 1916.4736920515666, 1468.293107871968, 1191.8035932537084, 3361.3543813469882, 1092.5795335721555, 1440.4211809951273, 3074.8309730530664, 2342.3567347296926, 1275.4193738842305, 3361.3543813469882, 3612.2017232385547, 1561.942782178153, 3748.2167263975375, 3417.09823510067, 57007.00947973982, 2983.4110528970286, 2647.833053299866, 2185.159067144311, 11437.52391318035, 4712.585396336225, 53560.92444068724, 6681.458310916252, 1648.9031940338957, 2906.4845347169485, 2130.5300904657033, 2385.836940657564, 2017.9275058832666, 1748.1272537154487, 1750.357007865596, 16053.489855716927, 2534.703629351164, 5748.483307034794, 1094.0058217868248, 9460.83907855085, 1786.2891838631958, 1274.5057762868641, 5202.581005620041, 1305.32284168931, 1779.685526991243, 972.9387791343592, 1330.6368596984619, 946.5241516465486, 1224.9783497472192, 933.3168379026432, 4327.596470086312, 1550.7587554302172, 1140.2314198904933, 2131.8805601620516, 1032.3716909819332, 1244.7893203630772, 1094.0058217868248, 2996.9596103878507, 1285.511871073452, 8311.802782831086, 2838.471845460987, 2766.9322293481664, 4607.151277665642, 2202.3195667962136, 1858.929409454675, 21946.15300445602, 5561.379695662802, 3826.819157296569, 2709.70053645791, 2626.0542160798427, 2361.9079412017363, 2174.8043298297443, 2246.3439459425645, 1965.6885288845765, 2699.795051149981, 1547.456926994241, 1611.2922767564498, 1904.054398079685, 5690.151004665879, 12081.3902472374, 2551.2127715310457, 8130.202218852389, 2238.639679591953, 2377.3164739029594, 7941.997998001737, 36475.29873223054, 5873.952787601895, 43963.845625024864, 3260.005275787298, 3268.8101516165684, 2755.9261345615782, 2465.3652321956615, 1798.8330980662345, 7564.352732959831, 961.484190434399, 19633.687729081776, 1960.2089657095669, 1602.4736507239984, 3673.2758683849397, 1497.5229116272858, 1252.6378537349563, 3246.7018965724947, 1367.7451159700604, 1122.8600580777313, 3892.2053671458234, 3734.215007215289, 961.484190434399, 13704.53522140298, 2829.1559453275095, 4807.420952171994, 15428.887149787677, 1451.2543062190575, 1087.876478378827, 2025.6621148236457, 4599.7764791204345, 1540.4060093227165, 1569.7470761669585, 1881.2137857442992, 2459.0071020616847, 1197.341227759269, 1832.6881751942065, 2519.946240892034, 2279.575193283434, 1890.2418063117584, 23241.510448352637, 3889.948362003959, 8915.170310365906, 29415.54801392376, 15217.857169023322, 2211.8650390274906, 8974.980946625323, 4855.946562722088, 65760.10181337241, 3356.166645952937, 7480.843542710833, 7784.410734291647, 7590.308292091277, 1956.8234579967695, 2614.740456850355, 2873.167545593873, 2048.2321662422933, 1041.807752017675, 3101.974206972241, 7850.964956523336, 2651.9757888981544, 950.2447984641387, 936.845341846548, 936.845341846548, 6413.873234286736, 1420.3424014646116, 1002.7260035497021, 3812.1454077045473, 1204.8344741983617, 22996.81741994, 5062.761358679677, 2108.181174500933, 1345.5287686830636, 1695.0312621252206, 2437.584483016704, 937.9619632313472, 937.9619632313472, 937.9619632313472, 11634.078208223104, 2226.543041289651, 1395.7767309990288, 1265.1320289775197, 2378.403549622345, 2083.61550403535, 1218.2339308159521, 1232.7500088183422, 1976.4198510946246, 36625.18142141451, 4025.4200922011987, 10452.692783105525, 3424.6777871792165, 1860.2912270755055, 1434.8584794670014, 2145.029680199307, 3175.67121836899, 151955.42115040225, 9010.017953944931, 4516.7335015128565, 1749.7457099803821, 2177.4117003584847, 1833.4923138403242, 2085.8487468049484, 1614.6345224196762, 1748.6290885955832], \"Total\": [463803.0, 208943.0, 145792.0, 117331.0, 175302.0, 98724.0, 78409.0, 53706.0, 56860.0, 51997.0, 40528.0, 43660.0, 36863.0, 43570.0, 37543.0, 32739.0, 31067.0, 30654.0, 29663.0, 29261.0, 29259.0, 36358.0, 28695.0, 28233.0, 28143.0, 32340.0, 26664.0, 26688.0, 26449.0, 29197.0, 26688.61371235386, 2131.6588413814884, 1873.3687614631376, 2060.1951829060554, 3707.9429654681826, 865.7311769595316, 849.3966264508612, 936.1739260281727, 3779.4066239436156, 860.6266299255722, 4481.792295816444, 1228.1540163706563, 971.9057552658892, 899.4211873836645, 19757.856130746375, 4960.872773361519, 3859.299491023707, 4062.0513770902344, 1511.322352007514, 3661.458820933213, 4588.079798605406, 13063.674447744605, 28414.97395723083, 9987.025741108495, 4858.04660663593, 1626.5842614720232, 2114.358676889196, 15685.655788197571, 2879.689769182148, 1631.3048866289726, 51997.51616043509, 208943.0267550776, 6426.288620880149, 34483.30776792715, 6950.129146079648, 32340.123150283598, 20572.030557210608, 4612.8191575737255, 35781.66880796715, 4069.206599169946, 5134.787957797893, 2579.7642018807633, 929.734607121117, 3752.182812529323, 2549.844256240394, 1133.6334959295623, 1386.2908146704617, 14482.361836073753, 15891.923719575614, 2829.0970822171776, 13807.500839963193, 1601.271164827192, 1035.0084899298251, 1513.72762017574, 1142.4986650081905, 1316.477608176266, 12939.844324039124, 5489.748415284253, 13374.129004728069, 4247.531459170647, 13331.0631564871, 2372.5232518006396, 17459.8158769641, 10517.463987959614, 1162.459944181066, 920.7106383505964, 982.9225825773452, 1204.3166490207477, 3122.766924680239, 3710.1420546361874, 1562.5215511951258, 4249.83660212119, 1183.4153603138125, 10371.610478509749, 8278.237999044208, 3773.1872049332233, 11709.202961252027, 56860.78280640908, 15427.954243132881, 18548.288144003327, 6090.957052555411, 1505.03072460324, 2150.1183313221118, 36783.08484832619, 3323.912322501521, 5134.787957797893, 9423.342145738421, 9677.427318557813, 13414.154548104641, 8927.073824542897, 6791.018733975561, 5484.521371238667, 31067.95630243677, 9097.940749339827, 26664.799905616597, 1401.7299914460168, 5606.919965784067, 10643.356047426096, 15031.611745779874, 1856.2012946711109, 3467.6054002514215, 1104.7803577228287, 1113.2950425607696, 18103.365961380812, 8530.694607085097, 2571.482716780085, 1721.0568605316923, 1907.210388184945, 962.1956605612351, 1797.765106216402, 3880.748984261135, 2168.183058450953, 2291.8234582237815, 1287.9911772342223, 935.642595638523, 2442.885901850323, 4076.2643382386655, 939.032537032736, 1591.6198343910603, 6021.5741275879445, 1041.1011746039856, 4479.869112292844, 21018.058906799204, 7453.859120974519, 7211.504688924382, 208943.0267550776, 3801.0457035629897, 51997.51616043509, 15685.655788197571, 7321.519673223507, 36358.13079894172, 6426.288620880149, 34483.30776792715, 28414.97395723083, 9022.956182727887, 2224.823651211216, 15004.2714498067, 2452.6212946799415, 926.3770834394825, 1639.0582822916372, 980.6146175987028, 1644.4820357075591, 4250.053176716502, 2023.0600241389166, 978.4451162323339, 1489.3626880121892, 1890.7204407904192, 2642.4526642372125, 2113.0943308432225, 1276.7515541080454, 3306.3200823460684, 1620.6175206775022, 1037.021653124292, 1050.0386613225048, 1371.1248635450888, 953.4958505190926, 1674.8550548367225, 1451.3964141007348, 3506.9989587351843, 1849.4999148294119, 2475.401059026814, 1505.633948259955, 1212.7512638001656, 3873.6446896515126, 28233.83271323177, 20082.076188475956, 15604.036502215467, 11491.848737655595, 10087.14342603396, 5197.071242961113, 4916.090096191727, 5058.181428914054, 5037.749950566633, 3794.457889779051, 3655.6881445006757, 4124.333109035431, 3072.041415421736, 2513.367332938268, 2509.0283302055304, 3243.1073844914486, 2435.296697244212, 4543.4083104012225, 2152.164789505806, 11583.681624146044, 43570.51411587262, 7104.9981872877015, 10604.808962720665, 34483.30776792715, 24676.70533022063, 24103.68499107185, 35781.66880796715, 5659.081460814834, 7890.6388708890145, 8203.577638957659, 1365.5839431748318, 4232.190892741015, 2145.7577205460266, 976.0567200397159, 2919.215511311444, 2520.733639368624, 2422.232502483882, 4550.080925414501, 1111.495783256236, 1023.0686262801609, 1759.5884907137997, 1308.4980570257198, 1494.3070197855743, 1094.7058167417915, 1062.2452148138652, 1703.6219356656509, 1351.0326388623132, 1009.6366530686051, 6130.576439974225, 4383.300591371018, 1279.3954484006827, 4210.833017010638, 4751.363680199494, 14579.268622029625, 1994.6293002937207, 6010.79368468708, 1469.6775089810537, 1307.3744993414223, 1290.5860496941486, 29259.147692102742, 4303.873940552493, 4603.330011970989, 3467.6354742625954, 3149.7861363303573, 2586.792517265378, 5185.664641562891, 2175.5523955541175, 5357.8976311000515, 1466.270820318796, 5006.459064114258, 1791.8095030142324, 3773.9768603451766, 6436.479617260106, 4711.148374398027, 9999.090831528367, 4314.704293082014, 10226.497925854612, 6827.203287283293, 6341.141025207484, 5018.783646296832, 3952.743307369169, 4547.352482558572, 7940.146918145953, 43660.10613431556, 4448.232269082161, 6017.014776076479, 898.0955101941457, 4268.268352572177, 1378.5200271021251, 1020.5163185711256, 916.612943394025, 1084.2985884818208, 1164.5407990146311, 1935.0717693873862, 1220.0930986142691, 5842.2501745619165, 860.031897505505, 5107.725324300039, 5686.909484940707, 1083.2698421929388, 2312.6216574071473, 1112.0747382816398, 1061.666170126413, 1801.3347518327023, 5233.232371543665, 1436.1298192795275, 6797.9554769334645, 2076.0100109642453, 928.9578988606113, 5318.618313520886, 1005.0851242378928, 4359.826772282692, 970.1077504158985, 1857.9157977212226, 1296.2203239915507, 117331.20714460447, 9482.016321605834, 8587.201574235922, 8328.8093546361, 7072.804184502863, 5124.638188982558, 3952.689834973108, 4231.838984909045, 2864.1175433439143, 2828.195809709504, 2787.045958154217, 2706.6854261456865, 2678.1177546963863, 2452.682029619618, 2304.4726381525825, 2286.9784386473398, 2295.319562587773, 2052.4394311320357, 1947.5100208997837, 2208.461542837215, 43660.10613431556, 5741.0404730476375, 5021.7402565701, 3203.7119720210612, 3381.7126529370867, 10084.068655823683, 1010.9150690979295, 890.9575096580458, 2287.917815498874, 2990.2147998560117, 2828.817356245986, 1338.0720493885215, 1031.6350111830004, 3657.615039648819, 7557.326244712676, 1961.8513584759169, 1941.1314163908462, 1221.3860597515438, 1363.1540845441336, 1681.5868786936433, 1140.687337946531, 1518.008388548347, 1837.531705965492, 962.9320453219759, 1798.2728683306211, 934.578440363458, 2027.2827545340356, 1297.7226884860152, 931.306870560552, 1362.0635612764984, 1016.367685436106, 1206.1187340046495, 10754.759477878277, 4089.487894543171, 11393.967958248257, 6111.334731489698, 7853.3356275409005, 6156.12992206954, 3796.1332026975515, 3538.775326443558, 3229.058569545883, 2726.3515852063633, 3441.0024104814124, 3323.1233231360256, 2669.742070904304, 2545.252443738552, 1750.3090186324073, 1817.9544833823845, 2371.0167681061016, 2235.608249167817, 7660.5177241516285, 2236.370264021618, 3752.3796536787368, 175302.5939564193, 8107.5926261278855, 6999.304260414183, 3419.9766229210973, 29825.958122056407, 15156.20709033752, 5635.2572620500405, 3967.5361527209093, 4447.777399428354, 5995.445848002341, 12064.482811118714, 1264.429159686564, 7341.271241072608, 1177.457841824525, 1688.1355800400863, 1447.2919305759788, 1786.2570668587966, 18608.5169717893, 3181.1432033384185, 6057.886794159702, 1334.6752241135953, 7953.401775272204, 8355.957692446806, 2497.637933916408, 2046.0603177545415, 5723.1789180335, 3234.690985680973, 1071.5284511671607, 1006.8549372371567, 984.5610661568439, 2757.188755469778, 2501.0368396825097, 1194.1698000702809, 1107.16279014143, 1683.6590689499667, 4398.750831668866, 1006.8743076655016, 5354.2218131028185, 989.0410627738535, 2215.46672640997, 2280.223992041539, 4113.163171564925, 1448.4064946673354, 1845.208176669155, 1506.4038709376591, 1745.005946835863, 1562.0562216996327, 12794.846746448644, 2115.2366203401493, 16414.392493024232, 1665.7545859338127, 98724.26007183063, 6028.804874290841, 6654.1606403286605, 2619.025834465017, 24676.70533022063, 13731.448358493588, 7025.031066940874, 3832.639847413508, 9717.732912251186, 7364.967797033311, 6272.701492499264, 5352.75715714008, 6075.612728830491, 13414.154548104641, 78409.83625387803, 1627.194430937568, 1561.5727826632574, 1304.6473461994308, 1686.1426912517793, 1108.8946327031822, 1087.7622374962007, 2729.4156756806506, 1205.6587581246233, 2207.779183466215, 1106.6701700498156, 1230.1278473116543, 2530.3262682043523, 1004.3448879949583, 1113.3435580099151, 1304.6473461994308, 10989.96097813814, 11011.097233938275, 3817.187724184862, 3371.1456705333767, 2934.0637058090565, 4462.22866653503, 4517.837537269025, 1287.872554379291, 2747.2036528562985, 1316.8846763619304, 2343.49102733759, 1083.315957937858, 1064.408025384243, 943.1605431793561, 2560.3696841991477, 3681.221109421067, 3673.706043338041, 1860.7507539654825, 1684.9653357479526, 1807.3410239578682, 78409.83625387803, 1798.0679531448936, 1248.004904759832, 17267.26455047729, 5761.941721912753, 2930.3398388031956, 13299.75347001211, 5131.570204531256, 11676.72192275173, 8097.8106054693135, 5448.612362566255, 20115.28646734047, 6455.318355154761, 20923.53721175102, 2577.3256688870865, 4206.8533981275, 12937.509689654617, 36783.08484832619, 6525.69869377768, 56860.78280640908, 30654.245025122058, 2593.468930657865, 4225.402283583652, 983.844987888274, 1500.307833004227, 11545.119755831787, 11632.126455440952, 4689.438014832544, 2175.167490229177, 3169.05171268774, 3366.48999257008, 3336.3722888592147, 2570.0440499938586, 1492.4995394495584, 947.0344611305494, 969.3438712867461, 5736.8648216659785, 5036.3131195493615, 3500.331592478109, 2345.803758099456, 9056.508761319476, 1196.8994012678095, 1171.229172171175, 5570.508888372859, 2843.3111741758494, 9309.493483896296, 2329.0851842204747, 2964.8691348122006, 6276.397017949247, 12307.845230119365, 17907.31496123758, 2895.8647452052674, 2613.3322315702335, 8450.694339416637, 1471.3113541861185, 6151.609362227101, 2603.0228669990597, 2614.14896278484, 9970.073025902437, 15692.763620776796, 15117.027207110656, 9235.524424879484, 4338.603251721059, 9677.427318557813, 9423.342145738421, 29825.958122056407, 7838.7773352459335, 6124.053896487782, 5116.9382377808515, 13299.75347001211, 145792.44816236547, 11145.640877896052, 16726.19061010198, 6462.793348357995, 3199.9274087718204, 1501.69126153543, 1175.956759952377, 1431.0234374631746, 1329.4384403593072, 2161.9937427105674, 1000.3913845228674, 1118.5391528936696, 1454.2113172368834, 5541.903265916414, 1177.060944703506, 2849.90084266393, 2290.079173841531, 2300.016836601692, 915.3691586859348, 4543.720250895805, 1095.3512731199608, 2207.2653175068563, 1662.9022352002628, 934.1402994551278, 2120.034722167666, 1156.0814344320552, 10317.520172132872, 3374.4005788774775, 11952.821981348328, 2333.1666969553653, 1809.769726866918, 5571.776151333278, 3973.995570491742, 3399.558533339428, 3331.28440970569, 2921.64467567537, 2414.8687889187563, 2256.7273159209203, 2234.91713056833, 1953.34826379669, 1866.1258021586912, 8809.75741366017, 1845.1085646713448, 4007.1251199749663, 5158.719623935138, 6111.193392199479, 2433.61001089219, 2224.7222284797913, 4663.1169501605455, 33606.62815277919, 175302.5939564193, 6648.597748741814, 29825.958122056407, 4800.93433864959, 7838.7773352459335, 7364.967797033311, 8772.768793409525, 8107.5926261278855, 2346.1905218440543, 2204.8131876726766, 5912.041061499915, 3952.9551451251095, 5068.265225810423, 1304.9352352485105, 1187.1207901056957, 3368.371088749809, 2379.8517918848584, 1291.4707272321887, 5846.962606087693, 2311.4072094685566, 949.2478151506791, 1212.9277638036456, 2506.642575705221, 1022.180566905755, 1547.2963795423007, 16324.536220725404, 11735.447238795285, 4059.5368219316706, 10511.276328558783, 2648.0140317203104, 1499.0523180166915, 4182.953010286075, 1107.4487589034325, 2903.8080423621814, 2969.9243739710882, 2177.876037938842, 1445.1851046177337, 1346.3877634980524, 4448.891818623392, 7064.986849628208, 3116.7450721287164, 6114.122258102827, 2358.5058827762114, 2123.954815567616, 2109.411487467626, 1875.9734825827334, 29197.993327585802, 8180.940576460748, 17806.326141816244, 4054.938495302839, 5417.464447052216, 7321.519673223507, 24103.68499107185, 5395.984691175922, 463803.0945753704, 4417.156599584113, 4107.812778695408, 56860.78280640908, 36783.08484832619, 5168.70371550916, 13731.448358493588, 24690.66779050192, 1141.8359545085423, 1132.9066410813004, 2143.0352225380266, 4893.2637581284935, 2150.848371786863, 1160.810745541431, 1160.810745541431, 994.502282959053, 2385.24284925196, 8508.519531983007, 1401.902208076959, 13117.16142461817, 5546.219802495549, 3711.245893197364, 3094.007102539276, 9042.046009260705, 1936.5448495330606, 934.229417325171, 2201.075759815098, 1358.3718051191554, 2605.127192397789, 1359.4879692975608, 964.365850142112, 1651.9229840397288, 1009.0124172783209, 1039.1488500952619, 937.5779098603866, 1298.0989394852734, 1381.811252865665, 32739.32124546532, 10657.127098126846, 7306.411626253372, 6194.703172105406, 3734.5745902959666, 4068.182981120743, 3495.8234320827746, 3233.5299108718987, 4163.1442827815645, 2622.9902919413557, 2275.8683967907464, 2219.9987222743243, 1841.6708943686167, 2377.4233420384608, 1887.445964075758, 2885.26956592662, 2453.2559306112685, 2747.9514632068726, 2930.1336513574042, 5103.435385616969, 4390.507732192574, 3854.2216924681848, 8652.06218918759, 12985.674619174866, 8420.70219665021, 2690.720935051153, 7940.146918145953, 6866.784716974527, 11019.294639571297, 18936.98519882016, 3124.9077245753047, 8617.909584180332, 3434.5132839348603, 7490.457081279583, 3217.012604241409, 3941.6449707711226, 1327.1980250682045, 936.5845594962916, 1231.7640533659758, 5670.553434864988, 10487.749611136791, 5158.982958647226, 1480.3362587299205, 1732.2375561299893, 3047.228910399072, 1341.6240905580764, 1032.0185311985201, 1073.077332977386, 2242.6983350023756, 1873.1691189925832, 932.1457701147925, 5369.82545426843, 1108.5876480293782, 12629.465487710062, 23324.72298983769, 14787.845629689516, 3345.7429034771335, 4941.479176532683, 9785.375606936686, 5689.458467591861, 3879.508681850703, 6344.010184845058, 3203.715503608088, 3074.981983134025, 2310.2940026815386, 1857.5524051008438, 2299.1395069945725, 37543.11142820643, 10920.474039519533, 2145.0936331596777, 2224.594889726094, 2888.5019367393206, 8927.073824542897, 12327.507298435092, 463803.0945753704, 6272.701492499264, 2691.1206629282874, 26449.01663074865, 2605.776226748107, 4216.236821161122, 2319.81694707945, 1031.8918192694546, 1085.093545719437, 2673.3867541116265, 1488.5399712984718, 1120.5613633527587, 3083.4833954969095, 1315.6343603360285, 1816.617284406698, 1649.2535199494612, 3754.0468226268986, 1080.660068515272, 1141.6203800725436, 1643.7116734442548, 4478.920345507911, 1076.2265913111066, 1817.7256537077394, 2532.623852879381, 6461.801277154563, 5563.9847692220765, 3888.072048158647, 2426.2201768132027, 1751.2157358228785, 1744.5690952891011, 4867.719101136931, 20023.87750740008, 14219.424159465801, 3585.6443216937923, 2619.075765695751, 3013.7235278938333, 2125.81662733041, 2640.2450593496046, 2007.2412845410372, 2008.3147243536641, 16124.825662742793, 2811.677299689655, 1837.678633977434, 3605.0926292907325, 6258.000101860727, 1885.4104498250801, 7761.469034561541, 4338.774731838105, 4726.337775819764, 3903.610809983518, 5603.334534976268, 12985.674619174866, 4393.894151690862, 7446.044212709614, 8772.768793409525, 4434.0181569830675, 8420.70219665021, 10224.393322132457, 6354.980645962796, 982.4070800303954, 2801.142548281899, 980.176870995139, 1351.5066753653111, 1655.9302086777946, 2255.8564391617365, 1225.4998648733308, 1101.7232634166069, 4750.345245095896, 2769.919621788311, 2216.827781044751, 1643.664058983885, 3719.98867080749, 2549.1289272979384, 1416.1827373877436, 5436.134523437205, 1644.7791635015133, 1261.1832094374315, 1111.7592040752602, 1561.1463246794024, 2312.726769560772, 2816.7540115286934, 1353.7368844005675, 1178.6654751329488, 1165.2842209214111, 2068.518880200208, 4365.634186514186, 1048.198246570456, 12189.177128358806, 6537.845155004538, 4008.7951720820683, 3546.025630840913, 3430.0470011852035, 3575.0462164325054, 3157.969035540106, 2826.7629163260794, 2307.0425568228256, 2019.418424202711, 1678.2338158975288, 1607.9739792031974, 2833.5904704598206, 3007.220479491739, 2552.807256069959, 1763.0337257864735, 1874.5371865495943, 3584.96252672221, 3105.495260127972, 3612.0655906533552, 6337.758921731944, 3546.285513291654, 7198.610151935047, 3833.34508582111, 20115.28646734047, 463803.0945753704, 175302.5939564193, 13414.154548104641, 4035.0803246800488, 15915.18046115775, 1011.8965825833706, 2300.0675610694375, 1001.9107610447189, 7866.608301004492, 1713.1231617420221, 2459.8407056878646, 1928.3730926862916, 2453.1834913287635, 4609.01140795101, 2188.0044526912357, 1737.5329477253927, 949.7625818984268, 915.3669743764043, 1314.7998359224716, 1270.4184068617974, 1016.3347254894379, 1071.8115118152807, 40528.00613150573, 29261.624136553717, 11804.32030598206, 5282.469305515992, 3876.634543478719, 1592.193562926131, 1099.5500665970599, 6021.45151913897, 2688.4003996484344, 1073.940183024766, 1071.8085203487153, 1475.6557375238413, 2643.526434950146, 1394.7314159552514, 5094.846790653245, 3094.4344871307762, 1459.1080479907855, 1472.396639876319, 26588.232263664584, 32340.123150283598, 4862.552260550195, 5603.9803466351705, 7890.6388708890145, 2910.767506726848, 463803.0945753704, 3024.055326096738, 43570.51411587262, 5135.956707841437, 3456.8894098792543, 11676.72192275173, 4612.8191575737255, 35781.66880796715, 9144.462337055977, 1451.5876128101365, 1696.57674894984, 1627.5049220205844, 1219.5494442196689, 5471.783789551965, 1229.2626698815952, 2578.3217895936186, 969.1640716011173, 2155.256849651928, 1073.8510592907703, 2829.7864095079394, 973.4810607841957, 3257.1683386327086, 1009.0962215445933, 970.243318896887, 936.7866527280288, 1029.601920164216, 3078.0132875349514, 1965.3093255964752, 1506.6292248943873, 2037.6188944130395, 1098.6737470934715, 1057.662349854226, 1009.0962215445933, 2901.0167310287343, 944.3413837984161, 1155.8738537692614, 1959.913089117627, 29663.147693827857, 16808.28824960828, 13674.193398455805, 4876.009843237217, 3436.360306613101, 2836.24698159153, 2531.9390933308846, 2402.511789182863, 2163.9277449007204, 1758.129702030567, 1734.3559076891918, 1607.0281222400208, 1466.7259737899703, 1465.6579114603348, 1560.6640361069487, 1960.187139564073, 1814.43204346097, 145792.44816236547, 8970.281398698233, 2735.8460646306767, 12937.509689654617, 5343.434725477177, 6799.687375753958, 4691.202684939919, 2873.435039261274, 3414.2569654545036, 28695.5468098305, 1676.317988145381, 2994.6311944034337, 1097.656170880958, 2333.785889473052, 3067.808272462165, 940.0440027544614, 1773.136891423086, 4222.880304589204, 1207.9846885695056, 1428.6417239466007, 1229.374911386673, 1164.0784417342672, 1131.4302069080643, 1162.9526405333638, 10551.00885486804, 1148.3172249216177, 4562.872267262074, 1498.4413984026205, 1230.5007125875766, 1230.5007125875766, 2522.9204912248483, 25777.437889377452, 10708.617264128326, 7741.002587312846, 3359.380086812908, 2733.4278838939495, 2262.763358904108, 4089.8416530585423, 2056.832323950839, 2984.486043395421, 2879.777623659612, 2732.2610321753264, 1777.6238307523136, 1673.9570124589195, 4064.533292075519, 1437.6128556205608, 1416.2226328033935, 2116.3768460358315, 2564.5744036821766, 7475.159618091056, 2169.8097560497035, 6040.282749813942, 5009.989081885895, 4735.003145633079, 35781.66880796715, 20923.53721175102, 6671.933029308475, 8255.84150119506, 3971.9980775577533, 5887.996018177591, 5583.685938263828, 145792.44816236547, 6866.784716974527, 36783.08484832619, 26588.232263664584, 463803.0945753704, 2745.9422359063456, 53706.97333752188, 1385.7922043165197, 1182.8845766531194, 1026.8017861428114, 1225.2499055059172, 1563.0576592532263, 987.7810885152344, 1912.014183751272, 1031.261294443106, 1011.1935070917806, 1306.635931986292, 7940.168859193619, 3131.654074102517, 1754.8097852256456, 5820.397338286284, 1132.7099285451072, 984.3859158196825, 1153.9012613206562, 1576.4219647658406, 2351.154261934277, 1320.9818282145136, 1322.2500032488738, 28143.996003278044, 1051.3412919625102, 1934.1522868780787, 1484.9152998943955, 1207.3207634682867, 3423.616862827334, 1118.2288768895285, 1487.3136815034454, 3304.5432356648275, 2565.042994134482, 1316.4290380227587, 4012.5659676842715, 4442.089929909023, 1685.2467531414663, 4802.930883809776, 4464.5143257914715, 175302.5939564193, 4105.656851578526, 3526.5244216709716, 2854.4413718302117, 33606.62815277919, 9482.741975370252, 463803.0945753704, 21018.058906799204, 1951.443220593538, 6593.414275645517, 4035.693882429383, 8772.768793409525, 5635.2572620500405, 3152.86262808838, 3445.796171630689, 16053.489855716927, 2534.703629351164, 5748.483307034794, 1094.0058217868248, 9460.83907855085, 1786.2891838631958, 1274.5057762868641, 5202.581005620041, 1305.32284168931, 1779.685526991243, 972.9387791343592, 1330.6368596984619, 946.5241516465486, 1224.9783497472192, 933.3168379026432, 4327.596470086312, 1550.7587554302172, 1140.2314198904933, 2131.8805601620516, 1032.3716909819332, 1244.7893203630772, 1094.0058217868248, 2996.9596103878507, 1285.511871073452, 8312.910928965914, 2839.556596144171, 2768.0364140992956, 4609.309772257181, 2203.4345836918806, 1860.0416407813582, 21960.57696890074, 5566.960908795005, 3834.6784811331827, 2711.9314774735294, 2628.242999102129, 2364.1246798038187, 2176.9628244212836, 2250.8321152813382, 1967.9076003376101, 2712.0820796078897, 1548.5691583209243, 1617.8354163622616, 1923.9885843292732, 5985.330498535563, 13175.912724482458, 2634.771322642246, 9624.554854438878, 2308.958022831482, 2488.16639751796, 12327.507298435092, 98724.26007183063, 8493.159729991447, 463803.0945753704, 7311.0206483361, 8652.06218918759, 5911.270073601247, 4327.982813058958, 1798.8330980662345, 7564.352732959831, 961.484190434399, 19633.687729081776, 1960.2089657095669, 1602.4736507239984, 3673.2758683849397, 1497.5229116272858, 1252.6378537349563, 3246.7018965724947, 1367.7451159700604, 1122.8600580777313, 3892.2053671458234, 3734.215007215289, 961.484190434399, 13707.815687656068, 2830.235192623279, 4809.672554573801, 15437.707620648434, 1452.3549156977163, 1089.0022795797306, 2027.891868973793, 4605.357300012461, 1542.5812832735362, 1571.9911608363454, 1884.276513964675, 2463.4238410662006, 1199.5721687748887, 1842.6913565533623, 2536.375683000049, 2300.2589048176055, 1912.552709890899, 26216.963611227045, 4107.385442065015, 10030.40496096637, 36358.13079894172, 20572.030557210608, 2355.959783379447, 13493.930740407835, 6631.559812026633, 463803.0945753704, 5227.359193395747, 24103.68499107185, 33606.62815277919, 36783.08484832619, 2209.47618833272, 8493.159729991447, 15117.027207110656, 3832.5165777834927, 1041.807752017675, 3101.974206972241, 7850.964956523336, 2651.9757888981544, 950.2447984641387, 936.845341846548, 936.845341846548, 6413.873234286736, 1420.3424014646116, 1002.7260035497021, 3812.1454077045473, 1204.8344741983617, 22996.81741994, 5062.761358679677, 2108.181174500933, 1345.5287686830636, 1695.0312621252206, 2437.584483016704, 937.9619632313472, 937.9619632313472, 937.9619632313472, 11636.298557152637, 2227.6436507683097, 1396.8559782947984, 1266.2481931559248, 2380.6475227010874, 2085.8464450509696, 1220.4504462518219, 1236.0236079275096, 1982.0165065994395, 36863.667717263, 4050.6402414145423, 10902.469527128149, 3501.1338836192544, 1885.9787723203713, 1478.342951890007, 2318.142466077769, 3610.9844807087175, 463803.0945753704, 15156.20709033752, 13493.930740407835, 2856.405299473335, 5168.70371550916, 3250.144714452981, 5583.685938263828, 2400.1414599834143, 6525.69869377768], \"Category\": [\"Default\", \"Default\", \"Default\", \"Default\", \"Default\", \"Default\", \"Default\", \"Default\", \"Default\", \"Default\", \"Default\", \"Default\", \"Default\", \"Default\", \"Default\", \"Default\", \"Default\", \"Default\", \"Default\", \"Default\", \"Default\", \"Default\", \"Default\", \"Default\", \"Default\", \"Default\", \"Default\", \"Default\", \"Default\", \"Default\", \"Topic1\", \"Topic1\", \"Topic1\", \"Topic1\", \"Topic1\", \"Topic1\", \"Topic1\", \"Topic1\", \"Topic1\", \"Topic1\", \"Topic1\", \"Topic1\", \"Topic1\", \"Topic1\", \"Topic1\", \"Topic1\", \"Topic1\", \"Topic1\", \"Topic1\", \"Topic1\", \"Topic1\", \"Topic1\", \"Topic1\", \"Topic1\", \"Topic1\", \"Topic1\", \"Topic1\", \"Topic1\", \"Topic1\", \"Topic1\", \"Topic1\", \"Topic1\", \"Topic1\", \"Topic1\", \"Topic1\", \"Topic1\", \"Topic1\", \"Topic1\", \"Topic1\", \"Topic1\", \"Topic1\", \"Topic2\", \"Topic2\", \"Topic2\", \"Topic2\", \"Topic2\", \"Topic2\", \"Topic2\", \"Topic2\", \"Topic2\", \"Topic2\", \"Topic2\", \"Topic2\", \"Topic2\", \"Topic2\", \"Topic2\", \"Topic2\", \"Topic2\", \"Topic2\", \"Topic2\", \"Topic2\", \"Topic2\", \"Topic2\", \"Topic2\", \"Topic2\", \"Topic2\", \"Topic2\", \"Topic2\", \"Topic2\", \"Topic2\", \"Topic2\", \"Topic2\", \"Topic2\", \"Topic2\", \"Topic2\", \"Topic2\", \"Topic2\", \"Topic2\", \"Topic2\", \"Topic2\", \"Topic2\", \"Topic2\", \"Topic2\", \"Topic2\", \"Topic2\", \"Topic2\", \"Topic2\", \"Topic2\", \"Topic2\", \"Topic2\", \"Topic2\", \"Topic3\", \"Topic3\", \"Topic3\", \"Topic3\", \"Topic3\", \"Topic3\", \"Topic3\", \"Topic3\", \"Topic3\", \"Topic3\", \"Topic3\", \"Topic3\", \"Topic3\", \"Topic3\", \"Topic3\", \"Topic3\", \"Topic3\", \"Topic3\", \"Topic3\", \"Topic3\", \"Topic3\", \"Topic3\", \"Topic3\", \"Topic3\", \"Topic3\", \"Topic3\", \"Topic3\", \"Topic3\", \"Topic3\", \"Topic3\", \"Topic3\", \"Topic3\", \"Topic3\", \"Topic3\", \"Topic3\", \"Topic3\", \"Topic3\", \"Topic3\", \"Topic3\", \"Topic3\", \"Topic3\", \"Topic3\", \"Topic3\", \"Topic4\", \"Topic4\", \"Topic4\", \"Topic4\", \"Topic4\", \"Topic4\", \"Topic4\", \"Topic4\", \"Topic4\", \"Topic4\", \"Topic4\", \"Topic4\", \"Topic4\", \"Topic4\", \"Topic4\", \"Topic4\", \"Topic4\", \"Topic4\", \"Topic4\", \"Topic4\", \"Topic4\", \"Topic4\", \"Topic4\", \"Topic4\", \"Topic4\", \"Topic4\", \"Topic4\", \"Topic4\", \"Topic4\", \"Topic4\", \"Topic4\", \"Topic4\", \"Topic4\", \"Topic4\", \"Topic4\", \"Topic4\", \"Topic4\", \"Topic4\", \"Topic4\", \"Topic4\", \"Topic4\", \"Topic4\", \"Topic4\", \"Topic4\", \"Topic4\", \"Topic4\", \"Topic4\", \"Topic4\", \"Topic4\", \"Topic4\", \"Topic4\", \"Topic4\", \"Topic4\", \"Topic4\", \"Topic4\", \"Topic4\", \"Topic4\", \"Topic4\", \"Topic4\", \"Topic5\", \"Topic5\", \"Topic5\", \"Topic5\", \"Topic5\", \"Topic5\", \"Topic5\", \"Topic5\", \"Topic5\", \"Topic5\", \"Topic5\", \"Topic5\", \"Topic5\", \"Topic5\", \"Topic5\", \"Topic5\", \"Topic5\", \"Topic5\", \"Topic5\", \"Topic5\", \"Topic5\", \"Topic5\", \"Topic5\", \"Topic5\", \"Topic5\", \"Topic5\", \"Topic5\", \"Topic5\", \"Topic5\", \"Topic5\", \"Topic5\", \"Topic5\", \"Topic5\", \"Topic5\", \"Topic5\", \"Topic5\", \"Topic5\", \"Topic5\", \"Topic5\", \"Topic5\", \"Topic5\", \"Topic5\", \"Topic5\", \"Topic5\", \"Topic5\", \"Topic5\", \"Topic5\", \"Topic5\", \"Topic5\", \"Topic5\", \"Topic5\", \"Topic5\", \"Topic5\", \"Topic5\", \"Topic5\", \"Topic5\", \"Topic5\", \"Topic6\", \"Topic6\", \"Topic6\", \"Topic6\", \"Topic6\", \"Topic6\", \"Topic6\", \"Topic6\", \"Topic6\", \"Topic6\", \"Topic6\", \"Topic6\", \"Topic6\", \"Topic6\", \"Topic6\", \"Topic6\", \"Topic6\", \"Topic6\", \"Topic6\", \"Topic6\", \"Topic6\", \"Topic6\", \"Topic6\", \"Topic6\", \"Topic6\", \"Topic6\", \"Topic6\", \"Topic6\", \"Topic6\", \"Topic6\", \"Topic6\", \"Topic6\", \"Topic6\", \"Topic6\", \"Topic6\", \"Topic6\", \"Topic6\", \"Topic6\", \"Topic6\", \"Topic6\", \"Topic6\", \"Topic6\", \"Topic6\", \"Topic6\", \"Topic6\", \"Topic6\", \"Topic6\", \"Topic6\", \"Topic6\", \"Topic6\", \"Topic6\", \"Topic6\", \"Topic6\", \"Topic7\", \"Topic7\", \"Topic7\", \"Topic7\", \"Topic7\", \"Topic7\", \"Topic7\", \"Topic7\", \"Topic7\", \"Topic7\", \"Topic7\", \"Topic7\", \"Topic7\", \"Topic7\", \"Topic7\", \"Topic7\", \"Topic7\", \"Topic7\", \"Topic7\", \"Topic7\", \"Topic7\", \"Topic7\", \"Topic7\", \"Topic7\", \"Topic7\", \"Topic7\", \"Topic7\", \"Topic7\", \"Topic7\", \"Topic7\", \"Topic7\", \"Topic7\", \"Topic7\", \"Topic7\", \"Topic7\", \"Topic7\", \"Topic7\", \"Topic7\", \"Topic7\", \"Topic7\", \"Topic7\", \"Topic7\", \"Topic7\", \"Topic7\", \"Topic7\", \"Topic7\", \"Topic7\", \"Topic7\", \"Topic7\", \"Topic7\", \"Topic7\", \"Topic7\", \"Topic7\", \"Topic7\", \"Topic7\", \"Topic7\", \"Topic7\", \"Topic7\", \"Topic8\", \"Topic8\", \"Topic8\", \"Topic8\", \"Topic8\", \"Topic8\", \"Topic8\", \"Topic8\", \"Topic8\", \"Topic8\", \"Topic8\", \"Topic8\", \"Topic8\", \"Topic8\", \"Topic8\", \"Topic8\", \"Topic8\", \"Topic8\", \"Topic8\", \"Topic8\", \"Topic8\", \"Topic8\", \"Topic8\", \"Topic8\", \"Topic8\", \"Topic8\", \"Topic8\", \"Topic8\", \"Topic8\", \"Topic8\", \"Topic8\", \"Topic8\", \"Topic8\", \"Topic8\", \"Topic8\", \"Topic8\", \"Topic8\", \"Topic8\", \"Topic8\", \"Topic8\", \"Topic8\", \"Topic8\", \"Topic8\", \"Topic8\", \"Topic8\", \"Topic8\", \"Topic8\", \"Topic8\", \"Topic8\", \"Topic8\", \"Topic8\", \"Topic8\", \"Topic8\", \"Topic8\", \"Topic8\", \"Topic8\", \"Topic8\", \"Topic9\", \"Topic9\", \"Topic9\", \"Topic9\", \"Topic9\", \"Topic9\", \"Topic9\", \"Topic9\", \"Topic9\", \"Topic9\", \"Topic9\", \"Topic9\", \"Topic9\", \"Topic9\", \"Topic9\", \"Topic9\", \"Topic9\", \"Topic9\", \"Topic9\", \"Topic9\", \"Topic9\", \"Topic9\", \"Topic9\", \"Topic9\", \"Topic9\", \"Topic9\", \"Topic9\", \"Topic9\", \"Topic9\", \"Topic9\", \"Topic9\", \"Topic9\", \"Topic9\", \"Topic9\", \"Topic9\", \"Topic9\", \"Topic9\", \"Topic9\", \"Topic9\", \"Topic9\", \"Topic9\", \"Topic9\", \"Topic9\", \"Topic9\", \"Topic9\", \"Topic9\", \"Topic9\", \"Topic9\", \"Topic9\", \"Topic9\", \"Topic9\", \"Topic9\", \"Topic9\", \"Topic9\", \"Topic9\", \"Topic10\", \"Topic10\", \"Topic10\", \"Topic10\", \"Topic10\", \"Topic10\", \"Topic10\", \"Topic10\", \"Topic10\", \"Topic10\", \"Topic10\", \"Topic10\", \"Topic10\", \"Topic10\", \"Topic10\", \"Topic10\", \"Topic10\", \"Topic10\", \"Topic10\", \"Topic10\", \"Topic10\", \"Topic10\", \"Topic10\", \"Topic10\", \"Topic10\", \"Topic10\", \"Topic10\", \"Topic10\", \"Topic10\", \"Topic10\", \"Topic10\", \"Topic10\", \"Topic10\", \"Topic10\", \"Topic10\", \"Topic10\", \"Topic10\", \"Topic10\", \"Topic10\", \"Topic10\", \"Topic10\", \"Topic10\", \"Topic10\", \"Topic10\", \"Topic10\", \"Topic10\", \"Topic10\", \"Topic10\", \"Topic10\", \"Topic10\", \"Topic10\", \"Topic11\", \"Topic11\", \"Topic11\", \"Topic11\", \"Topic11\", \"Topic11\", \"Topic11\", \"Topic11\", \"Topic11\", \"Topic11\", \"Topic11\", \"Topic11\", \"Topic11\", \"Topic11\", \"Topic11\", \"Topic11\", \"Topic11\", \"Topic11\", \"Topic11\", \"Topic11\", \"Topic11\", \"Topic11\", \"Topic11\", \"Topic11\", \"Topic11\", \"Topic11\", \"Topic11\", \"Topic11\", \"Topic11\", \"Topic11\", \"Topic11\", \"Topic11\", \"Topic11\", \"Topic11\", \"Topic11\", \"Topic11\", \"Topic11\", \"Topic11\", \"Topic11\", \"Topic11\", \"Topic11\", \"Topic11\", \"Topic11\", \"Topic11\", \"Topic11\", \"Topic11\", \"Topic11\", \"Topic11\", \"Topic11\", \"Topic11\", \"Topic11\", \"Topic11\", \"Topic11\", \"Topic11\", \"Topic11\", \"Topic11\", \"Topic11\", \"Topic12\", \"Topic12\", \"Topic12\", \"Topic12\", \"Topic12\", \"Topic12\", \"Topic12\", \"Topic12\", \"Topic12\", \"Topic12\", \"Topic12\", \"Topic12\", \"Topic12\", \"Topic12\", \"Topic12\", \"Topic12\", \"Topic12\", \"Topic12\", \"Topic12\", \"Topic12\", \"Topic12\", \"Topic12\", \"Topic12\", \"Topic12\", \"Topic12\", \"Topic12\", \"Topic12\", \"Topic12\", \"Topic12\", \"Topic12\", \"Topic12\", \"Topic12\", \"Topic12\", \"Topic12\", \"Topic12\", \"Topic12\", \"Topic12\", \"Topic12\", \"Topic12\", \"Topic12\", \"Topic12\", \"Topic12\", \"Topic12\", \"Topic12\", \"Topic12\", \"Topic12\", \"Topic12\", \"Topic12\", \"Topic12\", \"Topic12\", \"Topic12\", \"Topic12\", \"Topic12\", \"Topic13\", \"Topic13\", \"Topic13\", \"Topic13\", \"Topic13\", \"Topic13\", \"Topic13\", \"Topic13\", \"Topic13\", \"Topic13\", \"Topic13\", \"Topic13\", \"Topic13\", \"Topic13\", \"Topic13\", \"Topic13\", \"Topic13\", \"Topic13\", \"Topic13\", \"Topic13\", \"Topic13\", \"Topic13\", \"Topic13\", \"Topic13\", \"Topic13\", \"Topic13\", \"Topic13\", \"Topic13\", \"Topic13\", \"Topic13\", \"Topic13\", \"Topic13\", \"Topic13\", \"Topic13\", \"Topic13\", \"Topic13\", \"Topic13\", \"Topic13\", \"Topic13\", \"Topic13\", \"Topic13\", \"Topic13\", \"Topic13\", \"Topic13\", \"Topic13\", \"Topic13\", \"Topic13\", \"Topic13\", \"Topic13\", \"Topic13\", \"Topic13\", \"Topic13\", \"Topic13\", \"Topic13\", \"Topic13\", \"Topic13\", \"Topic13\", \"Topic13\", \"Topic14\", \"Topic14\", \"Topic14\", \"Topic14\", \"Topic14\", \"Topic14\", \"Topic14\", \"Topic14\", \"Topic14\", \"Topic14\", \"Topic14\", \"Topic14\", \"Topic14\", \"Topic14\", \"Topic14\", \"Topic14\", \"Topic14\", \"Topic14\", \"Topic14\", \"Topic14\", \"Topic14\", \"Topic14\", \"Topic14\", \"Topic14\", \"Topic14\", \"Topic14\", \"Topic14\", \"Topic14\", \"Topic14\", \"Topic14\", \"Topic14\", \"Topic14\", \"Topic14\", \"Topic14\", \"Topic14\", \"Topic14\", \"Topic14\", \"Topic14\", \"Topic14\", \"Topic14\", \"Topic14\", \"Topic14\", \"Topic14\", \"Topic14\", \"Topic14\", \"Topic14\", \"Topic14\", \"Topic14\", \"Topic15\", \"Topic15\", \"Topic15\", \"Topic15\", \"Topic15\", \"Topic15\", \"Topic15\", \"Topic15\", \"Topic15\", \"Topic15\", \"Topic15\", \"Topic15\", \"Topic15\", \"Topic15\", \"Topic15\", \"Topic15\", \"Topic15\", \"Topic15\", \"Topic15\", \"Topic15\", \"Topic15\", \"Topic15\", \"Topic15\", \"Topic15\", \"Topic15\", \"Topic15\", \"Topic15\", \"Topic15\", \"Topic15\", \"Topic15\", \"Topic15\", \"Topic15\", \"Topic15\", \"Topic15\", \"Topic15\", \"Topic15\", \"Topic15\", \"Topic15\", \"Topic15\", \"Topic15\", \"Topic15\", \"Topic15\", \"Topic15\", \"Topic15\", \"Topic15\", \"Topic15\", \"Topic15\", \"Topic15\", \"Topic15\", \"Topic15\", \"Topic15\", \"Topic15\", \"Topic15\", \"Topic15\", \"Topic15\", \"Topic16\", \"Topic16\", \"Topic16\", \"Topic16\", \"Topic16\", \"Topic16\", \"Topic16\", \"Topic16\", \"Topic16\", \"Topic16\", \"Topic16\", \"Topic16\", \"Topic16\", \"Topic16\", \"Topic16\", \"Topic16\", \"Topic16\", \"Topic16\", \"Topic16\", \"Topic16\", \"Topic16\", \"Topic16\", \"Topic16\", \"Topic16\", \"Topic16\", \"Topic16\", \"Topic16\", \"Topic16\", \"Topic16\", \"Topic16\", \"Topic16\", \"Topic16\", \"Topic16\", \"Topic16\", \"Topic16\", \"Topic16\", \"Topic16\", \"Topic16\", \"Topic16\", \"Topic16\", \"Topic16\", \"Topic16\", \"Topic16\", \"Topic16\", \"Topic16\", \"Topic16\", \"Topic16\", \"Topic16\", \"Topic16\", \"Topic16\", \"Topic16\", \"Topic16\", \"Topic16\", \"Topic16\", \"Topic16\", \"Topic16\", \"Topic16\", \"Topic16\", \"Topic16\", \"Topic17\", \"Topic17\", \"Topic17\", \"Topic17\", \"Topic17\", \"Topic17\", \"Topic17\", \"Topic17\", \"Topic17\", \"Topic17\", \"Topic17\", \"Topic17\", \"Topic17\", \"Topic17\", \"Topic17\", \"Topic17\", \"Topic17\", \"Topic17\", \"Topic17\", \"Topic17\", \"Topic17\", \"Topic17\", \"Topic17\", \"Topic17\", \"Topic17\", \"Topic17\", \"Topic17\", \"Topic17\", \"Topic17\", \"Topic17\", \"Topic17\", \"Topic17\", \"Topic17\", \"Topic17\", \"Topic17\", \"Topic17\", \"Topic17\", \"Topic17\", \"Topic17\", \"Topic17\", \"Topic17\", \"Topic17\", \"Topic17\", \"Topic17\", \"Topic17\", \"Topic17\", \"Topic17\", \"Topic17\", \"Topic17\", \"Topic17\", \"Topic18\", \"Topic18\", \"Topic18\", \"Topic18\", \"Topic18\", \"Topic18\", \"Topic18\", \"Topic18\", \"Topic18\", \"Topic18\", \"Topic18\", \"Topic18\", \"Topic18\", \"Topic18\", \"Topic18\", \"Topic18\", \"Topic18\", \"Topic18\", \"Topic18\", \"Topic18\", \"Topic18\", \"Topic18\", \"Topic18\", \"Topic18\", \"Topic18\", \"Topic18\", \"Topic18\", \"Topic18\", \"Topic18\", \"Topic18\", \"Topic18\", \"Topic18\", \"Topic18\", \"Topic18\", \"Topic18\", \"Topic18\", \"Topic18\", \"Topic18\", \"Topic18\", \"Topic18\", \"Topic18\", \"Topic18\", \"Topic18\", \"Topic18\", \"Topic18\", \"Topic18\", \"Topic18\", \"Topic18\", \"Topic18\", \"Topic18\", \"Topic18\", \"Topic18\", \"Topic18\", \"Topic18\", \"Topic18\", \"Topic19\", \"Topic19\", \"Topic19\", \"Topic19\", \"Topic19\", \"Topic19\", \"Topic19\", \"Topic19\", \"Topic19\", \"Topic19\", \"Topic19\", \"Topic19\", \"Topic19\", \"Topic19\", \"Topic19\", \"Topic19\", \"Topic19\", \"Topic19\", \"Topic19\", \"Topic19\", \"Topic19\", \"Topic19\", \"Topic19\", \"Topic19\", \"Topic19\", \"Topic19\", \"Topic19\", \"Topic19\", \"Topic19\", \"Topic19\", \"Topic19\", \"Topic19\", \"Topic19\", \"Topic19\", \"Topic19\", \"Topic19\", \"Topic19\", \"Topic19\", \"Topic19\", \"Topic19\", \"Topic19\", \"Topic19\", \"Topic19\", \"Topic19\", \"Topic19\", \"Topic19\", \"Topic19\", \"Topic19\", \"Topic19\", \"Topic19\", \"Topic19\", \"Topic19\", \"Topic19\", \"Topic19\", \"Topic19\", \"Topic19\", \"Topic19\", \"Topic20\", \"Topic20\", \"Topic20\", \"Topic20\", \"Topic20\", \"Topic20\", \"Topic20\", \"Topic20\", \"Topic20\", \"Topic20\", \"Topic20\", \"Topic20\", \"Topic20\", \"Topic20\", \"Topic20\", \"Topic20\", \"Topic20\", \"Topic20\", \"Topic20\", \"Topic20\", \"Topic20\", \"Topic20\", \"Topic20\", \"Topic20\", \"Topic20\", \"Topic20\", \"Topic20\", \"Topic20\", \"Topic20\", \"Topic20\", \"Topic20\", \"Topic20\", \"Topic20\", \"Topic20\", \"Topic20\", \"Topic20\", \"Topic20\", \"Topic20\", \"Topic20\", \"Topic20\", \"Topic20\", \"Topic20\", \"Topic20\", \"Topic20\", \"Topic20\", \"Topic20\", \"Topic20\", \"Topic20\", \"Topic20\", \"Topic20\", \"Topic20\", \"Topic20\", \"Topic20\", \"Topic20\", \"Topic21\", \"Topic21\", \"Topic21\", \"Topic21\", \"Topic21\", \"Topic21\", \"Topic21\", \"Topic21\", \"Topic21\", \"Topic21\", \"Topic21\", \"Topic21\", \"Topic21\", \"Topic21\", \"Topic21\", \"Topic21\", \"Topic21\", \"Topic21\", \"Topic21\", \"Topic21\", \"Topic21\", \"Topic21\", \"Topic21\", \"Topic21\", \"Topic21\", \"Topic21\", \"Topic21\", \"Topic21\", \"Topic21\", \"Topic21\", \"Topic21\", \"Topic21\", \"Topic21\", \"Topic21\", \"Topic21\", \"Topic21\", \"Topic21\", \"Topic21\", \"Topic21\", \"Topic21\", \"Topic21\", \"Topic21\", \"Topic21\", \"Topic21\", \"Topic21\", \"Topic21\", \"Topic21\", \"Topic21\", \"Topic21\", \"Topic21\", \"Topic21\", \"Topic21\", \"Topic21\", \"Topic21\", \"Topic21\", \"Topic21\", \"Topic21\", \"Topic22\", \"Topic22\", \"Topic22\", \"Topic22\", \"Topic22\", \"Topic22\", \"Topic22\", \"Topic22\", \"Topic22\", \"Topic22\", \"Topic22\", \"Topic22\", \"Topic22\", \"Topic22\", \"Topic22\", \"Topic22\", \"Topic22\", \"Topic22\", \"Topic22\", \"Topic22\", \"Topic22\", \"Topic22\", \"Topic22\", \"Topic22\", \"Topic22\", \"Topic22\", \"Topic22\", \"Topic22\", \"Topic22\", \"Topic22\", \"Topic22\", \"Topic22\", \"Topic22\", \"Topic22\", \"Topic22\", \"Topic22\", \"Topic22\", \"Topic22\", \"Topic22\", \"Topic22\", \"Topic22\", \"Topic22\", \"Topic22\", \"Topic22\", \"Topic22\", \"Topic22\", \"Topic22\", \"Topic22\", \"Topic22\", \"Topic23\", \"Topic23\", \"Topic23\", \"Topic23\", \"Topic23\", \"Topic23\", \"Topic23\", \"Topic23\", \"Topic23\", \"Topic23\", \"Topic23\", \"Topic23\", \"Topic23\", \"Topic23\", \"Topic23\", \"Topic23\", \"Topic23\", \"Topic23\", \"Topic23\", \"Topic23\", \"Topic23\", \"Topic23\", \"Topic23\", \"Topic23\", \"Topic23\", \"Topic23\", \"Topic23\", \"Topic23\", \"Topic23\", \"Topic23\", \"Topic23\", \"Topic23\", \"Topic23\", \"Topic23\", \"Topic23\", \"Topic23\", \"Topic23\", \"Topic23\", \"Topic23\", \"Topic23\", \"Topic23\", \"Topic23\", \"Topic23\", \"Topic23\", \"Topic23\", \"Topic23\", \"Topic23\"], \"logprob\": [30.0, 29.0, 28.0, 27.0, 26.0, 25.0, 24.0, 23.0, 22.0, 21.0, 20.0, 19.0, 18.0, 17.0, 16.0, 15.0, 14.0, 13.0, 12.0, 11.0, 10.0, 9.0, 8.0, 7.0, 6.0, 5.0, 4.0, 3.0, 2.0, 1.0, -2.6402, -5.1675, -5.2967, -5.2016, -4.6139, -6.0686, -6.0876, -5.9904, -4.5948, -6.0745, -4.4244, -5.7189, -5.9529, -6.0304, -2.941, -4.3235, -4.5748, -4.5255, -5.5144, -4.6298, -4.4402, -3.4181, -2.6773, -3.7953, -4.527, -5.7467, -5.5273, -3.5291, -5.2252, -5.8021, -2.3804, -1.1468, -4.5603, -3.1257, -4.6385, -3.9861, -4.2476, -5.2247, -4.3231, -5.3533, -5.4232, -4.9722, -5.9927, -4.5975, -4.9838, -5.7945, -5.5932, -3.2469, -3.1541, -4.8799, -3.2947, -5.4491, -5.8855, -5.5053, -5.7867, -5.6449, -3.3597, -4.2172, -3.3268, -4.4738, -3.3301, -5.0564, -3.0606, -3.5681, -5.7713, -6.0047, -5.9394, -5.7365, -4.784, -4.6118, -5.4772, -4.4893, -5.7552, -3.6505, -3.8739, -4.645, -3.5813, -2.1181, -3.3579, -3.1932, -4.3214, -5.5298, -5.2593, -3.31, -4.9791, -4.7702, -4.5167, -4.5064, -4.5029, -4.6711, -4.7563, -4.2113, -2.4771, -3.7052, -2.6299, -5.5755, -4.1892, -3.5483, -3.2031, -5.2947, -4.6698, -5.8136, -5.8059, -3.0174, -3.7699, -4.9692, -5.3709, -5.2687, -5.9529, -5.3279, -4.5586, -5.1409, -5.0868, -5.6636, -5.9833, -5.0241, -4.5125, -5.9821, -5.4555, -4.1337, -5.9011, -4.4751, -3.2504, -4.1593, -4.1969, -1.4121, -4.8466, -3.0578, -4.3627, -4.8295, -4.2555, -4.9931, -4.7955, -4.9223, -3.7133, -5.1134, -3.2048, -5.0159, -5.9896, -5.419, -5.9327, -5.4157, -4.4662, -5.2085, -5.9349, -5.5148, -5.2761, -4.9414, -5.1649, -5.6688, -4.7173, -5.4303, -5.8767, -5.8643, -5.5975, -5.9607, -5.3974, -5.5406, -4.6583, -5.2982, -5.0067, -5.5039, -5.7202, -4.5589, -2.5727, -2.9136, -3.1659, -3.4715, -3.6021, -4.2652, -4.3206, -4.2925, -4.2975, -4.5796, -4.6174, -4.4981, -4.7911, -4.9915, -4.9932, -4.7392, -5.0235, -4.4065, -5.1471, -3.5681, -2.4235, -4.0765, -3.7339, -3.2049, -3.8213, -3.8968, -4.4744, -4.8444, -4.8216, -3.8077, -5.6006, -4.4695, -5.1487, -5.9365, -4.8409, -4.9877, -5.0275, -4.3971, -5.8065, -5.8894, -5.3471, -5.6433, -5.5106, -5.8217, -5.8518, -5.3795, -5.6114, -5.9026, -4.0989, -4.4344, -5.6658, -4.4748, -4.3542, -3.2332, -5.2223, -4.1194, -5.5279, -5.6451, -5.658, -2.5377, -4.454, -4.3883, -4.67, -4.766, -4.9627, -4.2798, -5.1498, -4.2774, -5.5341, -4.3781, -5.3459, -4.6942, -4.2626, -4.5281, -3.9031, -4.6208, -3.9243, -4.3035, -4.3929, -4.5899, -4.7596, -4.6989, -4.4558, -4.0562, -4.7283, -4.7214, -6.0192, -4.4605, -5.5907, -5.8914, -5.9988, -5.8308, -5.7594, -5.2516, -5.7128, -4.1466, -6.0625, -4.281, -4.1736, -5.8317, -5.0733, -5.8055, -5.8519, -5.3232, -4.2567, -5.5498, -3.9951, -5.1813, -5.9854, -4.2405, -5.9066, -4.4393, -5.9421, -5.2923, -5.6523, -1.1468, -3.6624, -3.7618, -3.7921, -3.9558, -4.2788, -4.5382, -4.4709, -4.8598, -4.8729, -4.8875, -4.9168, -4.9279, -5.0154, -5.0773, -5.085, -5.0818, -5.1932, -5.2457, -5.124, -2.294, -4.374, -4.5539, -4.9695, -4.6933, -3.6007, -5.9008, -6.0271, -5.084, -4.8163, -4.8718, -5.6204, -5.8805, -4.6148, -3.8891, -5.2378, -5.2484, -5.7117, -5.6019, -5.3919, -5.78, -5.4943, -5.3032, -5.9494, -5.3248, -5.9793, -5.205, -5.651, -5.9828, -5.6027, -5.8954, -5.7243, -3.5364, -4.5035, -3.4793, -4.1019, -3.8538, -4.0949, -4.578, -4.6485, -4.7398, -4.9095, -4.6795, -4.7145, -4.9314, -4.9796, -5.3525, -5.3152, -5.0526, -5.1116, -3.9065, -5.1175, -4.7247, -1.657, -4.1752, -4.2955, -4.863, -3.5461, -4.0958, -4.6265, -4.8299, -4.8299, -4.1206, -3.4213, -5.677, -3.9181, -5.7482, -5.388, -5.5419, -5.3315, -2.988, -4.7543, -4.1102, -5.6229, -3.8383, -3.789, -4.9967, -5.1962, -4.1676, -4.7383, -5.8435, -5.9059, -5.9283, -4.8989, -4.9967, -5.736, -5.8118, -5.3926, -4.4323, -5.907, -4.2364, -5.926, -5.1196, -5.0917, -4.5113, -5.545, -5.3062, -5.5093, -5.3664, -5.4741, -3.4701, -5.1892, -3.265, -5.4147, -1.7829, -4.3286, -4.2777, -5.0461, -3.2987, -3.8225, -4.3453, -4.8229, -4.3009, -4.4788, -4.7582, -4.8293, -4.7922, -4.6115, -4.5816, -5.4246, -5.4657, -5.6455, -5.389, -5.8081, -5.8273, -4.9073, -5.7244, -5.1194, -5.8101, -5.7043, -4.9831, -5.9071, -5.804, -5.6455, -3.5145, -3.5126, -4.5722, -4.6965, -4.8354, -4.4163, -4.4041, -5.6592, -4.9016, -5.637, -5.0607, -5.8324, -5.85, -5.9711, -4.9726, -4.612, -4.6148, -5.2922, -5.3916, -5.3226, -1.6138, -5.3344, -5.6944, -3.2265, -4.3237, -4.9363, -3.6129, -4.4622, -3.8554, -4.1793, -4.5144, -3.53, -4.523, -3.9199, -5.1637, -4.9817, -4.5955, -4.2505, -4.8561, -4.5922, -2.4882, -4.958, -4.4699, -5.9273, -5.5053, -3.4647, -3.4572, -4.3657, -5.1339, -4.7576, -4.6971, -4.7061, -4.9671, -5.5106, -5.9654, -5.9421, -4.1641, -4.2946, -4.6585, -5.0588, -3.7084, -5.7322, -5.7539, -4.1945, -4.8672, -3.6812, -5.067, -4.8257, -4.0759, -3.4039, -3.0415, -4.8516, -4.955, -3.8093, -5.5287, -4.1548, -4.9811, -4.9833, -3.7412, -3.3384, -3.4667, -3.9162, -4.6531, -4.1941, -4.2331, -3.5907, -4.4918, -4.7281, -4.7689, -4.7048, -4.6581, -3.4985, -3.0925, -4.0434, -4.7464, -5.5029, -5.7474, -5.5511, -5.6248, -5.1385, -5.9091, -5.7975, -5.535, -4.1972, -5.7465, -4.8622, -5.0809, -5.0766, -5.9979, -4.3958, -5.8184, -5.1178, -5.4009, -5.9776, -5.1581, -5.7645, -3.5758, -4.6936, -3.4289, -5.0628, -5.3169, -4.1928, -4.5306, -4.6868, -4.7071, -4.8385, -5.0297, -5.097, -5.1068, -5.2417, -5.2875, -3.7524, -5.2994, -4.5406, -4.34, -4.2316, -5.0595, -5.141, -4.6095, -3.2455, -2.3124, -4.4448, -3.7166, -4.7666, -4.6038, -4.7606, -4.8885, -5.0219, -5.0561, -5.1183, -4.1319, -4.5345, -4.2859, -5.6428, -5.7374, -4.6945, -5.0419, -5.6531, -4.143, -5.0711, -5.961, -5.7159, -4.99, -5.887, -5.4724, -3.1163, -3.4464, -4.5081, -3.5568, -4.9355, -5.5048, -4.4787, -5.8079, -4.8441, -4.8219, -5.1321, -5.5422, -5.6131, -4.418, -3.9606, -4.7738, -4.1068, -5.0533, -5.1577, -5.1646, -5.2858, -2.631, -3.8618, -3.2337, -4.6291, -4.3985, -4.4354, -3.7529, -4.6188, -2.3615, -4.737, -4.8253, -3.8092, -4.1342, -4.8143, -4.7539, -2.7005, -5.7743, -5.7822, -5.1447, -4.3191, -5.1411, -5.7578, -5.7578, -5.9125, -5.0377, -3.7659, -5.5691, -3.333, -4.1938, -4.5956, -4.7775, -3.7051, -5.2461, -5.975, -5.118, -5.6007, -4.9495, -5.5999, -5.9432, -5.405, -5.898, -5.8686, -5.9714, -5.6461, -5.5836, -2.4186, -3.5416, -3.9185, -4.0834, -4.5902, -4.5059, -4.6567, -4.7351, -4.4858, -4.9439, -5.0851, -5.1099, -5.2963, -5.0438, -5.2723, -4.8528, -5.0177, -4.9121, -4.8567, -4.3983, -4.5503, -4.7072, -4.2239, -3.963, -4.2952, -4.9879, -4.6172, -4.7869, -3.5071, -2.9656, -4.7673, -3.7529, -4.6728, -3.8931, -4.7382, -4.5351, -5.6236, -5.9722, -5.6983, -4.1714, -3.5565, -4.266, -5.5144, -5.3573, -4.7925, -5.6128, -5.8752, -5.8362, -5.099, -5.2791, -5.977, -4.2259, -5.8036, -3.3707, -2.7572, -3.213, -4.6993, -4.3095, -3.6263, -4.1708, -4.5516, -4.066, -4.7431, -4.7841, -5.0717, -5.288, -5.078, -2.3505, -3.5529, -5.1482, -5.116, -4.9188, -4.2128, -4.4312, -3.4417, -4.7741, -4.9164, -2.6311, -4.9486, -4.4674, -5.0648, -5.8749, -5.8247, -4.923, -5.5085, -5.7925, -4.7803, -5.632, -5.3094, -5.406, -4.5835, -5.8288, -5.7739, -5.4094, -4.407, -5.8329, -5.3087, -4.9771, -4.0406, -4.1902, -4.5487, -5.0205, -5.3467, -5.3505, -4.3243, -2.9102, -3.2538, -4.6316, -4.9452, -4.8065, -5.1532, -4.9389, -5.2107, -5.2107, -3.1585, -4.878, -5.299, -4.6545, -4.1693, -5.2775, -4.1427, -4.6282, -4.6214, -4.7756, -4.585, -4.1146, -4.7948, -4.6669, -4.6242, -4.8225, -4.7785, -3.5801, -4.0556, -5.9226, -4.8748, -5.9249, -5.6036, -5.4005, -5.0913, -5.7015, -5.808, -4.3466, -4.886, -5.1088, -5.4079, -4.5911, -4.9691, -5.5569, -4.2118, -5.4072, -5.6728, -5.7989, -5.4594, -5.0664, -4.8693, -5.602, -5.7405, -5.7519, -5.178, -4.4311, -5.8578, -3.4044, -4.0301, -4.5166, -4.6393, -4.6726, -4.6324, -4.7553, -4.8677, -5.0698, -5.2026, -5.3878, -5.4306, -4.8736, -4.8198, -4.989, -5.341, -5.2831, -4.6903, -4.8301, -4.6986, -4.2304, -4.7378, -4.2683, -4.7346, -3.6756, -2.2431, -3.5461, -4.5549, -4.8716, -3.1373, -5.8928, -5.0717, -5.9027, -3.842, -5.3663, -5.0045, -5.2479, -5.0072, -4.3766, -5.1216, -5.3521, -5.9562, -5.993, -5.6309, -5.6653, -5.8884, -5.8353, -2.2026, -2.5284, -3.4362, -4.2404, -4.5502, -5.4402, -5.8107, -4.1106, -4.9173, -5.8353, -5.8373, -5.5177, -4.9369, -5.5759, -4.3051, -4.7938, -5.5322, -5.5238, -2.7814, -2.6701, -4.4369, -4.5051, -4.3132, -5.0683, -1.8438, -5.0746, -3.5251, -4.8455, -5.0712, -4.5658, -4.9582, -4.2482, -3.6909, -5.5314, -5.3754, -5.417, -5.7055, -4.2044, -5.6976, -4.9569, -5.9353, -5.1361, -5.8328, -4.8638, -5.9309, -4.7232, -5.895, -5.9342, -5.9693, -5.8748, -4.7797, -5.2284, -5.4941, -5.1922, -5.8099, -5.8479, -5.895, -4.8389, -5.9613, -5.7592, -5.2311, -2.5141, -3.0823, -3.2888, -4.3201, -4.6699, -4.8619, -4.9755, -5.0289, -5.1326, -5.3404, -5.354, -5.4303, -5.5217, -5.5225, -5.4603, -5.2361, -5.3119, -1.0652, -3.7782, -4.9231, -3.684, -4.444, -4.606, -4.8846, -5.1376, -5.1487, -2.5452, -5.3853, -4.8051, -5.8088, -5.0544, -4.781, -5.9638, -5.3292, -4.4614, -5.713, -5.5452, -5.6954, -5.75, -5.7785, -5.751, -3.5457, -5.7636, -4.384, -5.4975, -5.6945, -5.6945, -4.9765, -2.6525, -3.531, -3.8555, -4.6905, -4.8968, -5.0858, -4.4939, -5.1813, -4.8093, -4.845, -4.8976, -5.3273, -5.3887, -4.5106, -5.5397, -5.5547, -5.1586, -4.9779, -3.956, -5.1447, -4.1936, -4.37, -4.4808, -2.8412, -3.5005, -4.3608, -4.3021, -4.7737, -4.5413, -4.6504, -3.1313, -4.5673, -4.4652, -4.5488, -4.2672, -4.8893, -1.9159, -5.5732, -5.7315, -5.873, -5.6963, -5.4528, -5.9117, -5.2513, -5.8687, -5.8883, -5.632, -3.8278, -4.7582, -5.3377, -4.1388, -5.7758, -5.9163, -5.7582, -5.4464, -5.0478, -5.626, -5.626, -2.5689, -5.8568, -5.249, -5.5153, -5.724, -4.6871, -5.8109, -5.5345, -4.7762, -5.0483, -5.6562, -4.6871, -4.6151, -5.4535, -4.5782, -4.6706, -1.8563, -4.8064, -4.9257, -5.1177, -3.4625, -4.3492, -1.9186, -4.0001, -5.3993, -4.8325, -5.1431, -5.0299, -5.1974, -5.3409, -5.3396, -3.1222, -4.968, -4.1492, -5.8083, -3.651, -5.318, -5.6556, -4.249, -5.6317, -5.3217, -5.9256, -5.6125, -5.9531, -5.6952, -5.9671, -4.4331, -5.4594, -5.7669, -5.1411, -5.8663, -5.6792, -5.8083, -4.8005, -5.647, -3.7804, -4.8549, -4.8804, -4.3705, -5.1086, -5.2781, -2.8095, -4.1823, -4.5561, -4.9013, -4.9326, -5.0386, -5.1212, -5.0888, -5.2223, -4.9049, -5.4615, -5.4211, -5.2541, -4.1594, -3.4065, -4.9615, -3.8025, -5.0923, -5.0321, -3.826, -2.3015, -4.1276, -2.1148, -4.7164, -4.7137, -4.8844, -4.9958, -5.311, -3.8747, -5.9374, -2.9209, -5.2251, -5.4266, -4.597, -5.4943, -5.6729, -4.7205, -5.585, -5.7822, -4.5391, -4.5806, -5.9374, -3.2804, -4.8581, -4.328, -3.1619, -5.5257, -5.8139, -5.1922, -4.3721, -5.4661, -5.4472, -5.2662, -4.9984, -5.718, -5.2923, -4.9739, -5.0741, -5.2614, -2.7522, -4.5397, -3.7104, -2.5166, -3.1756, -5.1043, -3.7037, -4.3179, -1.7121, -4.6873, -3.8858, -3.846, -3.8712, -5.2268, -4.937, -4.8427, -5.1811, -5.8569, -4.7658, -3.8372, -4.9225, -5.9489, -5.9631, -5.9631, -4.0394, -5.5469, -5.8951, -4.5596, -5.7115, -2.7625, -4.2759, -5.152, -5.601, -5.3701, -5.0068, -5.9619, -5.9619, -5.9619, -3.4439, -5.0974, -5.5644, -5.6627, -5.0314, -5.1637, -5.7004, -5.6886, -5.2165, -2.2971, -4.5052, -3.551, -4.6668, -5.2771, -5.5368, -5.1347, -4.7423, -0.8742, -3.6995, -4.39, -5.3384, -5.1197, -5.2916, -5.1627, -5.4187, -5.339], \"loglift\": [30.0, 29.0, 28.0, 27.0, 26.0, 25.0, 24.0, 23.0, 22.0, 21.0, 20.0, 19.0, 18.0, 17.0, 16.0, 15.0, 14.0, 13.0, 12.0, 11.0, 10.0, 9.0, 8.0, 7.0, 6.0, 5.0, 4.0, 3.0, 2.0, 1.0, 3.1193, 3.1193, 3.1193, 3.1193, 3.1193, 3.1193, 3.1193, 3.1193, 3.1193, 3.1193, 3.1193, 3.1193, 3.1193, 3.1193, 3.1191, 3.1186, 3.1184, 3.1165, 3.1163, 3.1161, 3.08, 3.0558, 3.0195, 2.9471, 2.9361, 2.8105, 2.7676, 2.7618, 2.7608, 2.7522, 2.7121, 2.5548, 2.6229, 2.3775, 2.4664, 1.5813, 1.7721, 2.2902, 1.1431, 2.2869, 1.9845, 3.1238, 3.1238, 3.1238, 3.1238, 3.1238, 3.1238, 3.1238, 3.1238, 3.1238, 3.1238, 3.1238, 3.1238, 3.1238, 3.1238, 3.1238, 3.1236, 3.1236, 3.1236, 3.1235, 3.1235, 3.1233, 3.1232, 3.1225, 3.1219, 3.1216, 3.1215, 3.1212, 3.1209, 3.1208, 3.1202, 3.1075, 3.1201, 3.0541, 3.0562, 3.0707, 3.002, 2.8849, 2.9495, 2.93, 2.9155, 3.1051, 3.0189, 2.1287, 2.8635, 2.6374, 2.2838, 2.2674, 1.9444, 2.1835, 2.3718, 3.1304, 3.1304, 3.1304, 3.1304, 3.1304, 3.1304, 3.1304, 3.1304, 3.1304, 3.1304, 3.1304, 3.1304, 3.1302, 3.1301, 3.13, 3.1298, 3.1294, 3.1293, 3.1292, 3.129, 3.1289, 3.1275, 3.127, 3.1269, 3.1264, 3.126, 3.1244, 3.1235, 3.1147, 3.1023, 3.0689, 2.7479, 2.8756, 2.8711, 2.2895, 2.8618, 2.0347, 1.9282, 2.2233, 1.1947, 2.1902, 0.7077, 0.7745, 3.1306, 3.1306, 3.1306, 3.1306, 3.1306, 3.1306, 3.1306, 3.1306, 3.1306, 3.1306, 3.1306, 3.1306, 3.1306, 3.1306, 3.1306, 3.1306, 3.1306, 3.1306, 3.1306, 3.1306, 3.1306, 3.1306, 3.1306, 3.1306, 3.1306, 3.1306, 3.1306, 3.1306, 3.1306, 3.1306, 3.1305, 3.1302, 3.1302, 3.1306, 3.1304, 3.1304, 3.1306, 3.1301, 3.1292, 3.1306, 3.13, 3.1287, 3.1302, 3.1306, 3.1306, 3.128, 3.1301, 3.1235, 3.1301, 3.026, 2.8457, 3.0064, 2.9485, 2.2983, 2.0166, 1.9646, 0.9919, 2.466, 2.1564, 3.1314, 3.1314, 3.1314, 3.1314, 3.1314, 3.1314, 3.1314, 3.1314, 3.1314, 3.1314, 3.1314, 3.1314, 3.1314, 3.1314, 3.1314, 3.1314, 3.1314, 3.1314, 3.1314, 3.1314, 3.1314, 3.1314, 3.1312, 3.131, 3.1309, 3.1309, 3.1307, 3.1307, 3.1306, 3.1306, 3.1298, 3.1301, 3.1286, 3.1302, 3.1304, 3.1306, 3.118, 3.1166, 3.0877, 3.1269, 3.0549, 3.1146, 3.0213, 2.9191, 2.9657, 2.8381, 2.9608, 2.7944, 2.8193, 2.8037, 2.8405, 2.9097, 2.8302, 2.5159, 1.211, 2.8229, 2.5277, 3.132, 3.132, 3.132, 3.132, 3.132, 3.132, 3.132, 3.132, 3.132, 3.132, 3.132, 3.132, 3.132, 3.132, 3.132, 3.132, 3.132, 3.132, 3.132, 3.132, 3.132, 3.132, 3.132, 3.132, 3.132, 3.132, 3.132, 3.132, 3.132, 3.1319, 3.1318, 3.1316, 3.1318, 3.1316, 3.1309, 3.1311, 3.1301, 3.1316, 3.1312, 3.1312, 3.1312, 3.1307, 3.1311, 3.1315, 3.1315, 3.131, 3.1314, 3.1314, 3.1274, 2.9732, 2.9221, 2.876, 2.9099, 3.132, 3.132, 3.132, 3.132, 3.132, 3.132, 3.132, 3.132, 3.132, 3.132, 3.132, 3.132, 3.132, 3.132, 3.132, 3.132, 3.132, 3.132, 3.132, 3.132, 3.132, 3.132, 3.132, 3.132, 3.132, 3.132, 3.132, 3.132, 3.1319, 3.1317, 3.1313, 3.1316, 3.1289, 3.1313, 3.1317, 3.1314, 3.1317, 3.1312, 3.1284, 3.1283, 3.1303, 3.1299, 3.1314, 3.1308, 3.1278, 3.1276, 3.1011, 3.1214, 2.9966, 2.2201, 2.7757, 2.8024, 2.9511, 2.1022, 2.2294, 2.6881, 2.8356, 2.7214, 3.1321, 3.1321, 3.1321, 3.1321, 3.1321, 3.1321, 3.1321, 3.1321, 3.1321, 3.1321, 3.1321, 3.1321, 3.1318, 3.1317, 3.1316, 3.1315, 3.1315, 3.1314, 3.1311, 3.131, 3.131, 3.1306, 3.1303, 3.1302, 3.1301, 3.1301, 3.1301, 3.1299, 3.1294, 3.1287, 3.1286, 3.1277, 3.1182, 3.1282, 3.1249, 3.1246, 3.1205, 3.1235, 3.0245, 3.1054, 2.9805, 3.1187, 2.6684, 2.9185, 2.8707, 3.0347, 2.5391, 2.6014, 2.7489, 2.8772, 2.4689, 2.5681, 2.4493, 2.5368, 2.4472, 1.8358, 0.1001, 3.1323, 3.1323, 3.1323, 3.1323, 3.1323, 3.1323, 3.1323, 3.1323, 3.1323, 3.1323, 3.1323, 3.1323, 3.1323, 3.1323, 3.1323, 3.1322, 3.1322, 3.132, 3.1319, 3.1319, 3.1318, 3.1315, 3.1315, 3.1314, 3.1314, 3.1313, 3.1312, 3.1312, 3.1311, 3.1309, 3.1284, 3.1277, 3.1305, 3.1303, 3.1292, 3.0679, 3.1225, 3.1277, 2.9684, 2.9687, 3.0323, 2.843, 2.9461, 2.7306, 2.7727, 2.8339, 2.5122, 2.6558, 2.0828, 2.9332, 2.6252, 1.8881, 1.1881, 2.3118, 0.4109, 3.1327, 3.1327, 3.1327, 3.1327, 3.1327, 3.1327, 3.1327, 3.1327, 3.1327, 3.1327, 3.1327, 3.1327, 3.1327, 3.1327, 3.1327, 3.1327, 3.1327, 3.1324, 3.1323, 3.1322, 3.1318, 3.1317, 3.1317, 3.1317, 3.1315, 3.1315, 3.1312, 3.1312, 3.1309, 3.1295, 3.1169, 3.1288, 3.128, 3.1001, 3.1289, 3.0722, 3.1059, 3.0995, 3.0029, 2.9521, 2.8612, 2.9044, 2.9231, 2.5798, 2.5674, 2.0576, 2.4928, 2.5033, 2.6422, 1.7511, -0.5967, 3.1342, 3.1342, 3.1342, 3.1342, 3.1342, 3.1342, 3.1342, 3.1342, 3.1342, 3.1342, 3.1342, 3.1342, 3.1342, 3.1342, 3.1342, 3.1342, 3.1342, 3.1342, 3.1342, 3.1342, 3.1342, 3.1342, 3.1342, 3.1342, 3.1342, 3.1341, 3.1338, 3.1338, 3.1337, 3.1335, 3.1332, 3.1333, 3.1333, 3.1332, 3.133, 3.1323, 3.1328, 3.1327, 3.1324, 3.1324, 3.1154, 3.1318, 3.115, 3.063, 3.0019, 3.0948, 3.103, 2.8945, 2.2835, 1.5647, 2.7044, 1.9317, 2.7083, 2.3808, 2.2863, 1.9835, 1.9289, 3.1347, 3.1347, 3.1347, 3.1347, 3.1347, 3.1347, 3.1347, 3.1347, 3.1347, 3.1347, 3.1347, 3.1347, 3.1347, 3.1347, 3.1347, 3.1347, 3.1347, 3.1347, 3.1346, 3.1345, 3.1344, 3.1343, 3.134, 3.1339, 3.1337, 3.1336, 3.1333, 3.1332, 3.1332, 3.1331, 3.133, 3.128, 3.133, 3.1262, 3.1324, 3.1327, 3.1326, 3.1288, 3.0386, 3.08, 2.9304, 3.0147, 2.9555, 2.6175, 2.1084, 2.7392, 0.5427, 2.8211, 2.8055, 1.1939, 1.3044, 2.5867, 1.6701, 3.1367, 3.1367, 3.1367, 3.1367, 3.1367, 3.1367, 3.1367, 3.1367, 3.1367, 3.1367, 3.1367, 3.1367, 3.1367, 3.1367, 3.1367, 3.1367, 3.1367, 3.1367, 3.1367, 3.1367, 3.1367, 3.1367, 3.1367, 3.1367, 3.1367, 3.1367, 3.1367, 3.1367, 3.1367, 3.1367, 3.1365, 3.1359, 3.1364, 3.1365, 3.1358, 3.1346, 3.1354, 3.135, 3.1316, 3.1354, 3.1362, 3.1362, 3.1367, 3.1339, 3.1361, 3.1313, 3.1285, 3.1208, 3.112, 3.0154, 3.0139, 2.9873, 2.662, 2.5168, 2.6178, 3.066, 2.3546, 2.3301, 3.137, 3.137, 3.137, 3.137, 3.137, 3.137, 3.137, 3.137, 3.137, 3.137, 3.137, 3.137, 3.137, 3.137, 3.137, 3.137, 3.137, 3.137, 3.137, 3.137, 3.137, 3.137, 3.137, 3.137, 3.137, 3.137, 3.1369, 3.1369, 3.1366, 3.1365, 3.1365, 3.1342, 3.1364, 3.1301, 3.1363, 3.1362, 3.1346, 3.1364, 3.1332, 3.0677, 3.1001, 3.1323, 3.1281, 3.0641, 2.6418, 2.1007, -0.5375, 2.4334, 3.1373, 3.1373, 3.1373, 3.1373, 3.1373, 3.1373, 3.1373, 3.1373, 3.1373, 3.1373, 3.1373, 3.1373, 3.1373, 3.1373, 3.1373, 3.1373, 3.1373, 3.1373, 3.1373, 3.1373, 3.1373, 3.1373, 3.1372, 3.1371, 3.1371, 3.1369, 3.1367, 3.1367, 3.1367, 3.1366, 3.1352, 3.1352, 3.1356, 3.134, 3.1363, 3.1339, 3.1362, 3.1357, 3.1048, 3.1319, 3.1361, 3.1069, 3.0405, 3.132, 2.8518, 2.9479, 2.8691, 2.9062, 2.7353, 2.3652, 2.7687, 2.3691, 2.2478, 2.7319, 2.1345, 3.1388, 3.1388, 3.1388, 3.1388, 3.1388, 3.1388, 3.1388, 3.1388, 3.1388, 3.1388, 3.1388, 3.1388, 3.1388, 3.1388, 3.1388, 3.1388, 3.1388, 3.1388, 3.1388, 3.1388, 3.1388, 3.1388, 3.1388, 3.1388, 3.1388, 3.1388, 3.1388, 3.1388, 3.1388, 3.1388, 3.1387, 3.1359, 3.1385, 3.1385, 3.1385, 3.1373, 3.1385, 3.1369, 3.1379, 3.1383, 3.1382, 3.1381, 3.1285, 3.1228, 3.1175, 3.1356, 3.1322, 3.0766, 3.0804, 3.0608, 2.9667, 3.04, 2.8015, 2.9653, 2.3666, 0.6611, 0.3311, 1.8924, 2.777, 3.1391, 3.1391, 3.1391, 3.1391, 3.1391, 3.1391, 3.1391, 3.1391, 3.1391, 3.1391, 3.1391, 3.1391, 3.1391, 3.1391, 3.1391, 3.1391, 3.1391, 3.1391, 3.139, 3.139, 3.139, 3.1389, 3.1385, 3.1384, 3.1381, 3.1378, 3.1374, 3.1371, 3.137, 3.1368, 3.1346, 3.135, 3.1104, 3.1203, 3.1337, 3.133, 2.9818, 2.8972, 3.0252, 2.8151, 2.6648, 2.907, 1.0604, 2.8625, 1.7441, 2.5619, 2.7321, 2.0203, 2.5566, 1.218, 3.1397, 3.1397, 3.1397, 3.1397, 3.1397, 3.1397, 3.1397, 3.1397, 3.1397, 3.1397, 3.1397, 3.1397, 3.1397, 3.1397, 3.1397, 3.1397, 3.1397, 3.1397, 3.1397, 3.1397, 3.1397, 3.1397, 3.1397, 3.1397, 3.1397, 3.1397, 3.1397, 3.1397, 3.1397, 3.1396, 3.1395, 3.1393, 3.1392, 3.1393, 3.1393, 3.1392, 3.1383, 3.1391, 3.139, 3.139, 3.139, 3.1389, 3.1389, 3.1382, 3.1346, 3.136, 2.9963, 3.0715, 3.1141, 2.7995, 2.9238, 2.5208, 2.6134, 2.8506, 2.667, 3.1417, 3.1417, 3.1417, 3.1417, 3.1417, 3.1417, 3.1417, 3.1417, 3.1417, 3.1417, 3.1417, 3.1417, 3.1417, 3.1417, 3.1417, 3.1417, 3.1417, 3.1417, 3.1417, 3.1417, 3.1417, 3.1417, 3.1417, 3.1416, 3.1416, 3.1414, 3.1413, 3.1413, 3.1412, 3.1412, 3.141, 3.141, 3.1409, 3.1411, 3.1398, 3.1308, 3.141, 3.141, 3.1354, 3.124, 3.0761, 3.1243, 3.0516, 3.0622, 3.0079, 2.6251, 2.5022, 2.7849, 2.6307, 2.8907, 2.7295, 2.6734, 0.9302, 2.5496, 0.9735, 1.2144, -1.363, 3.1442, 3.1442, 3.1442, 3.1442, 3.1442, 3.1442, 3.1442, 3.1442, 3.1442, 3.1442, 3.1442, 3.1442, 3.144, 3.1439, 3.1436, 3.1435, 3.1433, 3.1432, 3.1423, 3.1421, 3.141, 3.1393, 3.1383, 3.1374, 3.1368, 3.1351, 3.133, 3.1313, 3.1259, 3.121, 3.1122, 3.0722, 3.0534, 3.1126, 2.9671, 2.9374, 3.0683, 2.8963, 2.8769, 2.0209, 2.8249, 2.8577, 2.877, 2.0664, 2.445, 0.9856, 1.9982, 2.9758, 2.3251, 2.5054, 1.8421, 2.1173, 2.5545, 2.4669, 3.1456, 3.1456, 3.1456, 3.1456, 3.1456, 3.1456, 3.1456, 3.1456, 3.1456, 3.1456, 3.1456, 3.1456, 3.1456, 3.1456, 3.1456, 3.1456, 3.1456, 3.1456, 3.1456, 3.1456, 3.1456, 3.1456, 3.1456, 3.1456, 3.1454, 3.1452, 3.1452, 3.1451, 3.145, 3.145, 3.1449, 3.1446, 3.1435, 3.1447, 3.1447, 3.1446, 3.1446, 3.1436, 3.1444, 3.141, 3.1448, 3.1415, 3.1351, 3.095, 3.0588, 3.1133, 2.9768, 3.1146, 3.1, 2.7059, 2.1499, 2.7768, 0.7895, 2.3379, 2.1722, 2.3824, 2.5828, 3.1456, 3.1456, 3.1456, 3.1456, 3.1456, 3.1456, 3.1456, 3.1456, 3.1456, 3.1456, 3.1456, 3.1456, 3.1456, 3.1456, 3.1456, 3.1453, 3.1452, 3.1451, 3.145, 3.1448, 3.1445, 3.1445, 3.1443, 3.1441, 3.1441, 3.1439, 3.1438, 3.1437, 3.1401, 3.1391, 3.1365, 3.1338, 3.0251, 3.0912, 3.0277, 2.9337, 2.8441, 3.0824, 2.7378, 2.8339, 1.1921, 2.7024, 1.9755, 1.683, 1.5674, 3.0241, 1.9675, 1.4851, 2.519, 3.1458, 3.1458, 3.1458, 3.1458, 3.1458, 3.1458, 3.1458, 3.1458, 3.1458, 3.1458, 3.1458, 3.1458, 3.1458, 3.1458, 3.1458, 3.1458, 3.1458, 3.1458, 3.1458, 3.1458, 3.1458, 3.1457, 3.1453, 3.1451, 3.145, 3.1449, 3.1448, 3.144, 3.1432, 3.143, 3.1394, 3.1396, 3.1037, 3.1238, 3.1321, 3.116, 3.0682, 3.0174, 2.03, 2.6258, 2.0514, 2.6557, 2.2814, 2.5734, 2.1612, 2.7494, 1.8289]}, \"token.table\": {\"Topic\": [7, 15, 1, 3, 1, 8, 8, 12, 1, 2, 6, 7, 9, 6, 2, 16, 13, 22, 5, 22, 6, 8, 14, 16, 7, 9, 11, 12, 9, 6, 5, 9, 10, 15, 19, 2, 7, 9, 5, 15, 23, 12, 15, 10, 18, 8, 15, 16, 16, 20, 1, 4, 7, 12, 16, 4, 4, 2, 7, 12, 21, 10, 17, 22, 7, 20, 5, 5, 18, 14, 11, 6, 14, 6, 9, 15, 6, 2, 9, 9, 15, 17, 3, 9, 12, 13, 18, 18, 20, 22, 15, 2, 8, 12, 4, 9, 6, 5, 6, 14, 16, 20, 16, 8, 21, 18, 2, 21, 9, 9, 15, 17, 20, 15, 17, 2, 6, 8, 14, 15, 17, 12, 14, 15, 21, 8, 18, 7, 7, 8, 20, 23, 5, 12, 14, 6, 13, 19, 20, 2, 20, 8, 13, 21, 13, 13, 2, 10, 1, 10, 13, 14, 19, 22, 4, 6, 9, 11, 13, 16, 7, 13, 15, 19, 21, 16, 4, 5, 12, 16, 4, 7, 13, 15, 18, 6, 6, 6, 12, 6, 17, 16, 18, 11, 15, 18, 18, 7, 8, 12, 15, 18, 22, 1, 17, 1, 9, 11, 12, 15, 16, 17, 1, 1, 10, 15, 19, 20, 21, 15, 7, 7, 5, 6, 7, 10, 18, 9, 16, 22, 5, 9, 16, 19, 20, 23, 16, 7, 11, 20, 20, 18, 20, 20, 23, 10, 13, 2, 13, 21, 3, 5, 20, 23, 11, 14, 1, 3, 1, 8, 23, 7, 17, 18, 21, 7, 9, 8, 14, 5, 16, 12, 4, 6, 11, 7, 19, 4, 5, 17, 20, 11, 22, 11, 15, 17, 23, 23, 8, 10, 18, 2, 8, 12, 13, 17, 2, 14, 16, 19, 8, 9, 16, 11, 5, 10, 13, 10, 11, 12, 15, 17, 20, 22, 10, 11, 8, 10, 19, 4, 9, 11, 14, 23, 5, 11, 13, 15, 19, 5, 14, 17, 2, 6, 6, 15, 12, 8, 15, 21, 15, 12, 14, 17, 18, 12, 20, 11, 16, 22, 22, 1, 4, 16, 17, 5, 14, 22, 12, 5, 8, 9, 11, 12, 15, 16, 10, 21, 11, 17, 21, 7, 9, 12, 23, 19, 4, 18, 19, 4, 12, 14, 16, 17, 19, 20, 21, 22, 23, 7, 19, 4, 13, 19, 4, 19, 9, 20, 5, 7, 22, 9, 11, 17, 2, 3, 12, 23, 3, 12, 2, 3, 9, 10, 12, 22, 8, 13, 15, 1, 18, 20, 6, 17, 17, 4, 19, 2, 6, 6, 6, 20, 16, 20, 13, 16, 4, 13, 3, 5, 9, 23, 18, 5, 12, 4, 7, 15, 21, 3, 6, 7, 12, 14, 16, 12, 22, 12, 10, 19, 21, 2, 3, 10, 19, 22, 1, 3, 4, 15, 21, 22, 21, 23, 5, 7, 9, 13, 15, 16, 1, 21, 22, 12, 1, 3, 21, 21, 23, 1, 3, 10, 12, 1, 16, 7, 2, 2, 14, 5, 9, 16, 23, 16, 18, 23, 2, 3, 13, 16, 10, 10, 4, 6, 10, 11, 13, 5, 14, 2, 14, 18, 19, 7, 20, 22, 23, 1, 2, 23, 2, 4, 17, 19, 14, 6, 20, 17, 15, 16, 21, 21, 18, 21, 2, 11, 19, 7, 23, 5, 1, 13, 23, 5, 6, 2, 11, 14, 23, 4, 7, 20, 21, 4, 6, 11, 13, 23, 13, 16, 1, 2, 21, 15, 16, 8, 9, 6, 10, 6, 15, 19, 5, 13, 15, 3, 12, 13, 18, 13, 5, 19, 13, 2, 14, 22, 8, 10, 13, 18, 16, 18, 18, 1, 2, 18, 7, 7, 17, 11, 13, 20, 6, 14, 15, 6, 7, 8, 11, 17, 12, 16, 7, 9, 14, 17, 19, 21, 5, 16, 20, 9, 13, 23, 14, 15, 23, 15, 7, 19, 8, 10, 10, 2, 18, 18, 2, 8, 13, 8, 9, 2, 8, 23, 10, 22, 23, 5, 6, 23, 18, 23, 6, 8, 16, 20, 23, 7, 8, 20, 8, 14, 11, 3, 4, 17, 19, 4, 10, 16, 19, 7, 10, 23, 11, 6, 5, 5, 23, 18, 11, 18, 2, 15, 7, 11, 13, 15, 20, 5, 11, 12, 15, 16, 18, 10, 16, 20, 13, 13, 23, 7, 20, 9, 1, 21, 22, 11, 13, 21, 21, 7, 9, 1, 3, 20, 17, 21, 6, 11, 15, 21, 11, 13, 23, 2, 17, 9, 16, 9, 14, 20, 21, 11, 20, 22, 9, 13, 15, 16, 19, 13, 16, 3, 17, 23, 7, 21, 2, 10, 11, 15, 23, 5, 10, 15, 7, 10, 11, 19, 13, 15, 15, 5, 18, 5, 23, 2, 5, 9, 11, 8, 16, 17, 17, 1, 10, 15, 20, 6, 6, 15, 14, 19, 4, 8, 13, 22, 18, 15, 18, 20, 23, 1, 3, 16, 2, 8, 9, 14, 9, 12, 4, 9, 7, 13, 17, 19, 2, 20, 10, 18, 7, 12, 14, 20, 23, 4, 5, 7, 8, 11, 20, 2, 5, 8, 9, 8, 12, 21, 14, 16, 21, 1, 4, 20, 13, 12, 5, 13, 17, 7, 15, 2, 8, 12, 14, 16, 17, 19, 9, 20, 23, 21, 7, 9, 13, 18, 19, 5, 13, 5, 13, 21, 13, 1, 2, 17, 4, 15, 17, 1, 2, 4, 15, 2, 14, 22, 17, 13, 13, 13, 2, 7, 20, 22, 9, 11, 21, 11, 15, 3, 8, 12, 3, 12, 3, 7, 23, 23, 13, 11, 16, 20, 14, 20, 15, 4, 13, 15, 10, 13, 9, 21, 3, 13, 2, 15, 11, 15, 17, 21, 15, 17, 5, 17, 1, 3, 5, 13, 15, 16, 21, 21, 2, 10, 6, 14, 3, 13, 1, 2, 10, 19, 14, 13, 18, 14, 7, 1, 9, 9, 5, 11, 14, 21, 2, 18, 3, 18, 2, 4, 8, 9, 12, 13, 14, 15, 16, 3, 3, 7, 10, 13, 3, 21, 3, 7, 4, 4, 4, 14, 7, 14, 14, 15, 21, 14, 12, 3, 14, 2, 5, 21, 6, 9, 13, 15, 5, 7, 9, 15, 20, 19, 7, 8, 10, 15, 15, 21, 22, 5, 8, 22, 5, 8, 20, 23, 4, 21, 2, 6, 6, 15, 20, 20, 23, 7, 10, 12, 20, 16, 22, 6, 11, 23, 19, 2, 5, 8, 15, 19, 2, 10, 18, 3, 8, 23, 2, 10, 4, 22, 4, 12, 19, 5, 8, 11, 15, 4, 18, 5, 16, 23, 11, 21, 22, 9, 4, 10, 9, 10, 20, 5, 12, 2, 5, 6, 20, 21, 6, 17, 3, 17, 10, 9, 9, 12, 18, 18, 16, 5, 12, 16, 11, 1, 15, 13, 15, 21, 11, 18, 11, 21, 13, 18, 18, 18, 8, 13, 15, 13, 14, 2, 8, 5, 19, 17, 19, 4, 7, 19, 23, 7, 11, 11, 20, 21, 7, 9, 10, 11, 16, 17, 10, 18, 19, 18, 23, 7, 12, 16, 22, 10, 11, 13, 22, 7, 11, 11, 12, 12, 3, 4, 3, 5, 7, 12, 20, 2, 21, 14, 8, 15, 6, 17, 2, 14, 22, 7, 11, 7, 20, 16, 17, 4, 6, 8, 11, 22, 21, 22, 5, 9, 9, 18, 19, 16, 21, 13, 13, 13, 13, 5, 9, 16, 5, 9, 16, 2, 7, 2, 3, 8, 11, 4, 4, 14, 17, 4, 5, 17, 1, 2, 17, 10, 22, 16, 8, 19, 19, 6, 11, 2, 6, 10, 7, 9, 22, 2, 10, 10, 20, 21, 17, 19, 15, 21, 9, 23, 12, 19, 9, 21, 14, 16, 19, 23, 5, 9, 4, 7, 9, 17, 4, 9, 12, 2, 10, 22, 19, 22, 2, 9, 19, 23, 3, 9, 12, 13, 18, 22, 11, 17, 23, 11, 11, 17, 23, 17, 20, 4, 13, 14, 22, 23, 23, 15, 19, 11, 19, 21, 23, 2, 14, 9, 10, 2, 10, 17, 3, 5, 11, 3, 3, 12, 13, 5, 17, 6, 12, 15, 18, 21, 18, 2, 5, 6, 12, 16, 2, 8, 13, 16, 20, 21, 22, 20, 14, 22, 1, 7, 12, 14, 11, 20, 1, 5, 8, 10, 10, 12, 21, 7, 11, 12, 15, 4, 8, 9, 15, 15, 18, 2, 13, 20, 23, 12, 16, 17, 8, 9, 15, 13, 9, 13, 22, 15, 21, 11, 2, 20, 6, 7, 9, 11, 15, 16, 20, 3, 10, 5, 16, 10, 23, 11, 5, 9, 16, 12, 16, 18, 20, 15, 17, 3, 21, 1, 3, 3, 4, 16, 13, 15, 21, 13, 20, 10, 15, 3, 23, 8, 12, 14, 21, 12, 17, 14, 21, 6, 7, 5, 6, 2, 8, 16, 10, 2, 8, 12, 7, 8, 10, 9, 10, 10, 6, 10, 12, 15, 19, 19, 14, 19, 4, 13, 20, 21, 2, 19, 12, 15, 18, 5, 16, 16, 19, 16, 16, 4, 5, 16, 20, 12, 14, 5, 1, 19, 22, 1, 3, 6, 7, 13, 23, 10, 20, 13, 16, 8, 17, 10, 13, 23, 5, 16, 16, 14, 16, 2, 11, 2, 9, 16, 2, 3, 17, 12, 13, 17, 20, 14, 17, 23, 7, 9, 15, 17, 23, 17, 21, 4, 17, 21, 21, 8, 13, 13, 9, 22, 2, 4, 13, 20, 21, 6, 6, 20, 7, 5, 5, 11, 13, 9, 15, 9, 16, 9, 8, 14, 1, 6, 7, 13, 18, 18, 8, 18, 2, 8, 8, 13, 9, 13, 2, 3, 22, 4, 5, 8, 9, 16, 5, 8, 23, 10, 4, 11, 2, 8, 16, 20, 21, 9, 10, 12, 19, 15, 13, 7, 8, 7, 22, 5, 4, 7, 19, 1, 22, 14, 3, 12, 22, 12, 13, 22, 2, 5, 9, 12, 17, 19, 22, 20, 4, 6, 10, 6, 6, 6, 13, 21, 3, 18, 1, 3, 3, 3, 1, 1, 9, 1, 2, 15, 7, 12, 5, 20, 22, 2, 12, 17, 18, 19, 1, 2, 3, 6, 8, 19, 5, 8, 9, 20, 18, 18, 7, 16, 16, 10, 21, 21, 10, 17, 18, 10, 23, 10, 11, 22, 4, 7, 12, 13, 19, 22, 1, 2, 3, 1, 12, 21, 3, 21, 1, 3, 4, 19, 19, 4, 8, 12, 15, 23, 14, 21, 2, 8, 20, 22, 13, 9, 16, 17, 15, 4, 10, 8, 18, 7, 12, 23, 22, 2, 4, 7, 10, 9, 10, 11, 12, 15, 19, 15, 6, 16, 17, 21, 16, 21, 22, 7, 3, 4, 3, 1, 3, 3, 12, 19, 12, 23, 12, 13, 6, 6, 23, 17, 18, 4, 13, 21, 19, 9, 19, 8, 10, 11, 1, 4, 5, 7, 4, 7, 22, 9, 21, 1, 2, 3, 4, 20, 10, 2, 9, 11, 12, 11, 14, 11, 16, 5, 22, 14, 22, 10, 7, 9, 5, 9, 23, 3, 21, 20, 5, 16, 21, 5, 23, 5, 6, 2, 4, 22, 2, 10, 11, 19, 6, 8, 11, 13, 19, 1, 9, 10, 11, 19, 14, 6, 11, 19, 21, 4, 11, 12, 15, 8, 14, 6, 6, 8, 23, 2, 7, 14, 23, 12, 23, 12, 16, 17, 19, 23, 3, 7, 15, 4, 5, 13, 16, 11, 7, 7, 8, 12, 1, 16, 21, 18, 21, 9, 20, 15, 20, 4, 7, 14, 19, 6, 19, 9, 13, 19, 16, 4, 7, 3, 2, 11, 14, 14, 16, 14, 23, 6, 13, 15, 1, 6, 19, 10, 10, 19, 4, 5, 11, 22, 4, 17, 13, 23, 3, 4, 5, 21, 15, 8, 22, 4, 23, 19, 20, 3, 19, 21, 14, 14, 15, 4, 5, 9, 10, 14, 18, 14, 18, 7, 18, 18, 7, 10, 20, 7, 11, 11, 14, 14, 7, 14, 14, 7, 14, 10, 21, 1, 2, 6, 5, 9, 9, 3, 20, 7, 12, 3, 12, 6, 11, 7, 14, 3, 20, 11, 12, 20, 14, 5, 20, 23, 5, 1, 16, 20, 21, 22, 1, 19, 1, 3, 10, 4, 11, 11, 16, 19, 16, 2, 7, 9, 22, 22, 11, 19, 21, 22, 23, 12, 22, 22, 17, 21, 22, 21, 18, 21, 22, 22, 21, 22, 23, 19, 22, 11, 13, 8, 13, 15, 10, 17, 22, 23, 1, 20, 2, 9, 22, 18, 4, 1, 11, 19, 20, 22, 11, 19, 20, 1, 4, 6, 12, 17, 19, 20, 5, 7, 13, 15, 16, 21, 3, 9, 10, 18, 16, 19, 1, 14, 22, 1, 1, 18, 7, 8, 16, 2, 19, 21, 1, 17, 20, 10, 17, 21, 9, 12, 7, 14, 15, 12, 15, 21, 8, 2, 15, 23, 5, 9, 15, 8, 17, 13, 13, 3, 9, 6, 6, 19, 7, 5, 12, 4, 16, 16, 2, 16, 16, 16, 11, 12, 17, 19, 23, 19, 22, 5, 7, 4, 4, 13, 11, 4, 11, 20, 8, 17, 22, 17, 18, 8, 15, 19, 8, 8, 4, 4, 8, 10, 16, 8, 4, 5, 8, 9, 11, 14, 4, 2, 1, 3, 10, 11, 4, 6, 7, 8, 4, 6, 7, 8, 5, 5, 9, 10, 2, 5, 6, 10, 19, 2, 22, 23, 14, 14, 13, 19, 21, 4, 21, 17, 18, 17, 17, 17, 12, 19, 19, 4, 9, 10, 18, 5, 11, 12, 14, 21, 2, 8, 16, 19, 20, 8, 23, 4, 15, 19, 19, 16, 15, 16, 22, 7, 9, 16, 20, 5, 19, 12, 23, 9, 12, 16, 23, 19, 14, 17, 23, 20, 23, 2, 8, 23, 8, 8, 13, 5, 8, 2, 18, 20, 23, 2, 18, 10, 8, 10, 17, 18, 19, 10, 18, 22, 23, 16, 11, 21, 21, 7, 8, 15, 11, 15, 17, 15, 7, 9, 15, 16, 5, 13, 14, 15, 15, 17, 22, 4, 7, 12, 19, 8, 12, 5, 12, 19, 12, 23, 4, 7, 22, 7, 9, 13, 23, 7, 9, 16, 23, 7, 10, 11, 20, 5, 10, 21, 6, 7, 11, 1, 5, 17, 21, 8, 21, 7, 11, 14, 14, 17], \"Freq\": [0.0009408149199169592, 0.9991454449518107, 0.9968704220111119, 0.003277382209351601, 1.0000463440003122, 0.999856086302713, 0.9969252411367789, 0.003033241098793445, 0.3215322645393226, 0.614825777801721, 0.00019475000880637345, 0.0003895000176127469, 0.063099002853265, 0.9998141645619385, 0.0003166592163336302, 0.9996931459652707, 0.9992339043854609, 0.0005298164922510397, 0.9986351968868914, 0.001394092876063599, 0.0005419442709196815, 0.9928419043248565, 0.006503331251036178, 0.9998195519600872, 0.20966827181924214, 0.1397287119943156, 0.650663517855123, 0.999993054598321, 1.000270305842875, 1.0000453208261002, 1.0001056679004936, 0.9998960698988048, 0.7959483037256896, 0.00010827755458110319, 0.2038866352762173, 0.0002716489909939875, 0.003531436882921837, 0.9961368499749521, 0.9999822145109445, 0.9944784172454089, 0.0053038848919755134, 0.0034087744878564612, 0.9964984086167055, 0.0038579565573851576, 0.9964550651074807, 0.7700445295752458, 0.2300816110030643, 0.9999491106648655, 1.0000030454911324, 1.0000004964435056, 3.5418499859969435e-05, 0.9999350880466571, 3.5418499859969435e-05, 0.15810004961914512, 0.841937988790178, 0.9999791198918299, 0.9999816732016777, 0.9993805274328024, 0.0005154693533666812, 5.727437259629792e-05, 5.727437259629792e-05, 0.010103203755848281, 0.25770709281708526, 0.7322560811701381, 0.0316005968239936, 0.9681884984372506, 0.9996909099519019, 0.9996193673937491, 1.0000443442532507, 0.9999097150434157, 1.0002055938344174, 0.9993609652255351, 0.0004339387604105667, 0.9990665002499157, 0.0005059845531779771, 0.00025299227658898854, 0.9999236954832588, 0.9987198446341221, 0.0012360394116758937, 0.0004113066333962036, 0.10714537799971104, 0.8923297411530637, 0.00028308616032388643, 0.006227895527125501, 0.9932077934963555, 0.00014154308016194321, 0.9997492186834498, 1.0000754793688114, 0.0009862458795754688, 0.99906707600995, 1.0001048372789911, 1.0000914029735992, 0.0009029763155725367, 0.9986918050232256, 0.9997297027021177, 1.000270305842875, 1.0000065494789847, 0.19914399470733876, 0.8009459097476979, 0.9952945489168181, 0.004661801165886736, 0.9997466263453172, 1.000283816633395, 0.9997982918512767, 1.0002729071413372, 0.9998751941689679, 0.9998636703856648, 0.00018215771003564672, 1.0002980381681106, 0.00019627675592415276, 0.027871299341229692, 0.9717662185804803, 0.00019627675592415276, 0.01874332781683118, 0.9814394237882119, 0.47135785150839776, 0.00044175993580918254, 0.34236395025211647, 0.15225992454223158, 0.0005890132477455768, 0.032837488561815904, 0.06453199379028703, 0.1707453081598742, 0.7646512313380239, 1.0003797156117589, 0.2509191925860835, 0.7489294069975752, 0.9996839166875522, 0.9999944739776075, 0.0030251465231020463, 0.9937606328390223, 0.002268859892326535, 0.32375925803808836, 0.673278411249213, 0.0029651677897020116, 0.9997509002997882, 0.4463515497177876, 0.5530972873827593, 0.00043688569303535494, 0.011448464435115598, 0.9886085759264529, 0.0003716476082574461, 0.9317205539014174, 0.06801151231111263, 1.0001436681782616, 0.9999835641814674, 0.9999656843811449, 0.9999065954531954, 0.0005218503193420458, 0.21735065800596207, 0.0015655509580261373, 0.0002609251596710229, 0.24579150041010356, 0.5343747270062549, 1.0001945921985802, 0.0027807625352839404, 0.9905076150681397, 0.0016684575211703644, 0.005005372563511093, 1.000083793893438, 0.6632526169990309, 0.006744941867786755, 0.003597302329486269, 0.3262303550052861, 0.00022483139559289182, 1.0001181421181369, 0.9998379822027823, 0.001383905766541249, 0.9984880105595112, 0.9999062710028591, 1.0002051007550015, 1.0002456734835359, 0.0004979299249632449, 0.9983494995513061, 0.0009958598499264898, 0.999962911252946, 0.9997246252231695, 0.9992246402413446, 0.0005134761768968883, 1.0003943193624107, 0.9999975248594545, 0.0658842207654451, 0.9340844091263358, 0.0005732074485902119, 0.9991005828927394, 0.9998426071700538, 0.999638495353192, 0.0010965529233476748, 0.0021931058466953496, 0.008772423386781398, 0.012427599797940314, 0.9748355488560828, 0.0007310352822317832, 0.2148105611013754, 0.7851856309266195, 1.000310515605332, 0.18312960643185314, 0.05164615747893395, 0.09562432651121396, 0.6666639367149728, 0.002480819791564513, 0.0004510581439208206, 0.9998031559665543, 0.9999052599929973, 0.0020794906978012988, 0.31677574963173116, 0.10374348036808702, 0.007624799225271429, 0.5695493966755779, 0.9998432307118581, 1.0001052490070736, 0.9999568306697221, 0.00013053947996846988, 0.00026107895993693976, 0.9696472572057943, 0.030024080392748072, 0.9995058344701557, 0.697966435048827, 0.30168648280684435, 0.00024698033795075267, 0.14320752410296148, 0.18792032986117627, 0.10629836840632192, 0.06548738767889475, 0.4970081451378921, 0.00010545473056182731, 1.0000030454911324, 0.385998422245844, 0.05962835117684361, 0.5544167971123545, 1.0001930400393373, 0.0003193200705881234, 0.9997911410114144, 0.9983523188817038, 0.001733250553614069, 0.0011442225494829531, 0.9986202300612474, 0.00016142823509332537, 0.9998864881680574, 0.9999946784681499, 0.002029299085279644, 0.026380888108635373, 0.000676433028426548, 0.9706813957920963, 4.28729636118589e-05, 0.999969003282997, 0.5686956958811854, 0.43130417606918303, 0.9971400197967214, 0.00264668883821293, 1.0002732515655601, 0.9998482608866393, 0.0003804823223505681, 0.0003804823223505681, 0.9991465784925917, 0.9997014850014362, 0.00026342595125202536, 0.7749227994914084, 0.2249102535897623, 0.9989486567604656, 0.0007648917739360379, 1.0000063954423564, 0.9999819084980162, 0.000882467523526669, 0.9989532366321894, 0.9982237718931786, 0.0018728400973605601, 0.9997068768784989, 0.8086718687094475, 0.19109825139531614, 0.0001553644320287123, 0.9994999513078565, 0.00042860203743904653, 0.9999886040936382, 0.0014878736071171114, 0.9983631903755817, 1.0001845330695156, 1.0000197642997661, 0.0061767545592995715, 0.45516798478648035, 0.5385541713370245, 0.008509266114692854, 0.9861023817484061, 0.003160584556885917, 0.0017018532229385707, 0.0002431218889912244, 1.0000047999490642, 0.015629050254387614, 0.9839651000581477, 0.00033253298413590663, 0.0021413783392045297, 0.0006118223826298657, 0.9971175280910235, 0.9999836218872724, 0.998797970348943, 0.0009524456169888204, 1.0001630364461183, 0.5329802864524009, 0.016329052893762283, 0.2849419729961518, 0.07837945389005896, 0.00016329052893762283, 0.04376186175528292, 0.04343528069740767, 0.8108600385629782, 0.18900091859625984, 0.0008354921048007503, 0.9992485573416974, 1.000012675185902, 1.0001478585641481, 0.38649977305515987, 0.00035009037414416655, 0.00035009037414416655, 0.6126581547522915, 0.09097813142511618, 0.0004496448011126006, 0.00014988160037086686, 0.20848530611587582, 0.6999470737319483, 1.0003046731965821, 0.9637860006728304, 0.03617059099912285, 0.9981420456337282, 0.0021722351373965796, 0.3310528736810208, 0.6690658886415888, 1.0000847293223607, 0.9981830054066405, 0.0016748037003467124, 1.0000560255767514, 0.9997894576170706, 0.06958624380459943, 0.9295475851509923, 0.00034620021793333047, 0.00034620021793333047, 0.0002518838119776604, 0.9997268497393342, 0.0016280534389716303, 0.0037987913576004706, 0.9947406512116661, 1.0001863534564763, 1.0000144738745258, 0.0747494731819535, 0.9249555181515061, 0.00027684990067390185, 0.039375848655626634, 0.07467833365722293, 0.8857302967708198, 0.9998982495238038, 0.13573124636273254, 0.5151407272872169, 0.1418026212948032, 0.09827395017165244, 0.06503574503506214, 0.04373448044288198, 0.00030871397959681394, 0.000737481760366315, 0.9992877852963569, 0.0041580288288399075, 0.006237043243259861, 0.9896108612638981, 0.0003869442146584685, 0.00019347210732923424, 0.5780946566997519, 0.4211887776557429, 0.9996950390127533, 0.0005765829237047271, 0.999218206780292, 0.9999326147350084, 1.0000002969105004, 0.07486797825657278, 0.02536421196320476, 0.08393216961098562, 0.12509403382294942, 0.011056416095487421, 0.11548219627347928, 0.09479022566731844, 0.1417843062479042, 0.3276282581493352, 0.0006955975637601957, 0.9995736991234011, 0.9006635660852883, 0.00017265667901567876, 0.09910493375499961, 0.8831810838780032, 0.11681917125398289, 0.9987852501126606, 0.0009230917283850837, 0.015497181952878738, 0.8345086281795456, 0.15000102531748666, 0.997044816729622, 0.0022131960415751875, 0.0005532990103937969, 0.006911198115477433, 0.9933276564154383, 0.9976655208636875, 0.0025439834786154377, 6.125748299853162e-05, 0.9999058949850316, 0.7875199353560909, 0.0018114418218735872, 0.06577468362919626, 0.0006507121107701236, 0.14357874790073752, 0.0006507121107701236, 0.9734135558171709, 0.02600181912090549, 0.00047276034765282707, 0.0002902086920384382, 0.49161352431311434, 0.5078652110672669, 1.0000453208261002, 0.9999281068957722, 0.9996706542824494, 1.0002431213380039, 1.0000315145782153, 0.9972460324089644, 0.0024910392150099027, 1.000039732706448, 0.9998300258162345, 0.9998086349542165, 0.006822058956291672, 0.9931780830534626, 0.9947077506701818, 0.005545409062969654, 0.9994675403429574, 0.00041062758436440316, 0.0005580950420888893, 0.9833634641606231, 0.016184756220577794, 1.0000405525705134, 0.9999942327017437, 0.7475915011336377, 0.2524516076589336, 0.000355659591557814, 0.004979234281809396, 0.994424217995648, 1.000169249232361, 1.000025829180975, 0.00134856014182851, 0.0044952004727617, 0.00269712028365702, 0.9911917042439549, 0.00044952004727617, 0.9998766780024795, 8.52119207433509e-05, 0.9998084532826295, 0.9962481862375457, 0.0037985199475261706, 1.000176701447524, 0.005390816185899881, 0.14431434962967693, 0.01760266509681594, 0.023626077059632645, 0.8090624945124026, 0.9998142161158978, 0.000534005394659994, 3.8143242475713855e-05, 0.07735449574074771, 0.03554950198736531, 0.8865252416205415, 1.0000134768623539, 0.9999618567265945, 0.08000775124934185, 0.03488407375513604, 0.8491928999198041, 0.002256183874710291, 0.00017355260574694546, 0.03349565290916047, 0.08295440497029646, 0.9169004267576867, 7.589607042113125e-05, 0.9998233512633667, 0.8417921629454895, 0.15710383057707542, 0.0011014290225288908, 0.00044890483253688353, 0.9997110620596397, 0.6655317898882968, 0.33428519828464354, 3.846337570873818e-05, 0.00015385350283495273, 0.9995317128509174, 0.9999494229983593, 1.0002136908882346, 1.0001799397861475, 0.983802529705064, 0.016235918332850853, 0.37813781841615757, 0.6208833986939614, 0.0009294661657095229, 1.0000083150361796, 0.0008090460356794804, 0.0016180920713589609, 0.9975537619927993, 0.001383647007251931, 0.9985319235668103, 1.0005004684750105, 0.9998709648247226, 0.9999836819678477, 0.9998544500143587, 0.9999031907564614, 0.9952629726013816, 0.0018112156007304488, 0.0004528039001826122, 0.0018112156007304488, 0.0006242751573126765, 0.9991523892789388, 0.006147531114178454, 0.9932203474471395, 0.00047288700878295804, 0.00015762900292765267, 0.6414968885883491, 0.35810255080810194, 0.0001774541877146194, 0.0001774541877146194, 0.1863418162706992, 0.8120234566298488, 0.00164177811692246, 0.999991797236537, 0.19222752759609987, 0.2078528275708301, 0.5998177168594118, 1.0000900713360819, 0.999223600536439, 0.00070716461467547, 1.0002499762636454, 0.0006219006109138234, 0.9993942817385142, 1.0000805358685443, 0.9999694860294347, 0.0004339044453114721, 0.999498889774976, 0.00044744388340954024, 0.9986947477700938, 0.0008948877668190805, 0.9989248997154494, 0.0011001375547526975, 0.9999261749224718, 0.6926969993543639, 0.30650309705945306, 0.0006130061941189061, 0.9998021728700062, 0.00023748270139430075, 0.8400984210702502, 0.00038890444614007413, 0.14538544544869772, 0.014195012284112707, 0.9928669606191831, 0.0006602972471419972, 0.0006602972471419972, 0.005502477059516644, 0.9975001183956418, 0.0018500774993427667, 0.0006166924997809222, 0.9996699301412603, 0.0002737321824045072, 0.9991435686144299, 0.0008445052702413475, 0.065231272652749, 0.9346191787302204, 0.00012079865306064628, 0.0002820058578546872, 0.9997107660948661, 0.0007593679370335096, 0.9993282051360987, 0.9997449124200531, 0.00028277327462029504, 0.9996271690831705, 0.00023290474582552903, 0.00011645237291276451, 0.7319248877952227, 0.26819180899600814, 0.9999137901798365, 0.9955193440063905, 0.00441580783442953, 0.999042838692992, 0.000803304346309026, 1.0000704969328038, 0.00048618450242903774, 0.9995953369941015, 1.0000697565939176, 0.010955874639652995, 0.041875787511562554, 0.9470744966277811, 0.00011041782505318378, 0.99917089890626, 0.0007729247753722865, 0.999995683080705, 0.0005687862498682785, 0.9993574410185653, 1.000369444455464, 0.000205085722168291, 0.000205085722168291, 0.9995878098482504, 1.0000849708690251, 0.9999293821605365, 9.298208872610532e-05, 0.9992462068870974, 0.0005032718241687723, 0.00025163591208438615, 0.7742335926102923, 0.22541986286904603, 0.0003982683089559117, 0.022119296995608887, 0.8733124849953051, 0.0007994926624918875, 0.10286805590728952, 0.0005329951083279251, 0.02115318337160044, 0.9789223193635093, 0.0004482065240177443, 0.9995005485595697, 0.002212322423835887, 0.0003687204039726479, 0.002212322423835887, 0.9955450907261493, 0.0016782999818075993, 0.9983087725118869, 0.9999925817750765, 0.4402593706539707, 0.29176952374701015, 0.2680172778537399, 0.9998507946331563, 0.9998759978649613, 0.0001547556102561463, 1.000150928327221, 0.9996382358064166, 0.9997054283183239, 1.0002433370160297, 0.999989128776975, 0.9996653000980203, 0.000681790612472781, 0.9995050378850969, 0.9998307081268023, 0.99646625597522, 0.0025599646910089147, 0.0006399911727522287, 0.5513046666172106, 0.4485538815818105, 1.000285450145504, 0.9996111607496574, 0.9997589303366157, 0.00042005378388204146, 0.00042005378388204146, 0.9988878980714947, 0.001170814363616807, 0.9988997878924059, 1.0000044635884708, 0.0007158934174593594, 0.9993872107732658, 0.9999327938320447, 0.06692141377208334, 0.1806311041221063, 0.7508809477477826, 0.0017013918755614409, 0.002126615033709671, 0.0008506460134838685, 0.996531804796352, 0.0006504103149123487, 0.9993554488628239, 1.000412008024161, 0.00019960123338703427, 0.07584846868707303, 0.00039920246677406854, 0.9235549068818075, 0.0006745660294131947, 0.9983577235315282, 0.00033728301470659734, 0.00033728301470659734, 0.0010741722970533415, 0.9988728190299023, 0.00010741722970533416, 1.0000347932582727, 0.999962911252946, 1.0000690897552493, 0.9994328506975219, 0.0005487243707075818, 1.0000395137045524, 0.0003949542082722271, 0.9996291011370068, 0.0015272563139987704, 0.9984438152766961, 0.0004559563912142503, 0.3164337355026897, 0.00022797819560712516, 0.41081670848403956, 0.2719779873593003, 0.0013828788934285424, 0.17055506352285357, 0.0006914394467142712, 0.8274225379014112, 0.9992976075756707, 0.0004951920751118289, 0.0006052273664979385, 0.06869330609751602, 0.9305370759905803, 0.9999977044205005, 0.9982898222610201, 0.0018555572904479928, 0.18684898619713422, 0.8131307688482515, 1.0001000174906254, 0.0003942633603935166, 0.005913950405902748, 0.9935436681916617, 0.9989633195633862, 0.0010768558960438947, 1.0000170092153362, 0.9997970412966558, 0.0017804520581833252, 0.9982401206214511, 0.9614043769118333, 0.03836027439049709, 0.00021795610449146076, 0.0010163078793216126, 0.9990306453731451, 0.9999951777861414, 0.9312388247871953, 0.00038769309941182154, 0.06823398549648059, 8.593798062918529e-05, 8.593798062918529e-05, 0.9998024666399417, 0.9971925779631675, 0.0028820594738819872, 0.09418305400063008, 0.9060184206707319, 0.9954525367187894, 0.00027220468600459103, 0.0035386609180596833, 0.0005444093720091821, 0.9996087685990478, 0.999796037114719, 1.000091817307841, 0.35013200329653593, 0.09367440983636506, 4.7793066243043394e-05, 0.02858025361333995, 0.527539865190713, 0.8844079630081577, 0.11547639383083594, 0.7645264557792609, 0.23493534928110119, 0.0005261709950304617, 0.004326768921735966, 0.9957749618452344, 0.99995127835224, 0.9986753665167007, 0.0004293531240398541, 0.0004293531240398541, 0.0004293531240398541, 0.0011476010138320942, 0.9674276546604554, 0.03136776104474391, 1.0000757659459985, 0.00020829278833279786, 0.6532061842116541, 0.34659919978577564, 0.9999655805508919, 1.0000789083469626, 0.9999551625722511, 0.0006822874506941609, 0.9995511152669456, 0.0030272199954047025, 0.9969644518199487, 0.0007949174335227941, 0.895606975102348, 0.09909970671250833, 0.004504532123295833, 0.8076227546795056, 0.0019904442505964404, 0.1902532962861764, 0.9999252027704361, 1.0004338351399376, 0.00022398852977646553, 0.23429200214618295, 0.7653688062461828, 0.9998936525201811, 0.0006163050779366671, 0.9994414013872953, 0.99955284220939, 0.0005109665894128361, 0.029609970998756743, 0.013159987110558553, 0.0683920542260846, 0.8887976143229507, 1.000319241907231, 0.09018965970553272, 0.0640551560408613, 0.8450156184910423, 0.0005124412483268904, 0.6087495023627199, 0.39058314185338106, 0.0006224432539496113, 0.9999750153961178, 1.0000186873482693, 0.9996374632878794, 0.0003408242288741491, 0.998937044217993, 0.000853427632821865, 0.00029663506051988013, 0.9996601539519959, 0.9996361660477938, 0.0002445293948257813, 0.0005625487140194261, 0.9996490648125202, 0.0005698623340371977, 0.9995385339012448, 0.9999636115347816, 1.000227743714484, 0.08716003445288441, 0.8152158892513337, 5.615981601345645e-05, 0.07738822646654298, 0.02021753376484432, 0.9997564810672992, 0.7399910195892005, 0.00021990817818401206, 0.00021990817818401206, 0.25817220118803014, 0.0015393572472880844, 0.002869537940003947, 0.011248588724815474, 0.04822099089402189, 0.9376629707776454, 0.0004708198087221338, 0.9981379944909237, 0.0014124594261664015, 0.0006440196594979132, 0.9431667913346939, 0.05602971037631845, 4.979564814985849e-05, 0.9996476366084093, 0.00029877388889915096, 1.0004501920695597, 0.9996355107225717, 0.5402922696802853, 0.457422266545174, 0.0022669605720851134, 0.9999322990758192, 1.000277918907407, 0.0002514647262279857, 0.9996980191193571, 0.9914751037184854, 0.00016355577428546443, 0.00016355577428546443, 0.00032711154857092885, 0.007687121391416828, 0.2730379182977756, 0.7265585283517079, 0.00024356638563583906, 1.0000176739881037, 0.3128059811566727, 0.0005857789909300987, 0.0005857789909300987, 0.623268846349625, 0.06267835202952056, 0.9865659184736838, 0.013305912504824898, 0.9983544396914973, 0.0015721578934582477, 6.835469101992382e-05, 1.0002350322364335, 0.9972793605830386, 0.002461810319879137, 0.0002461810319879137, 0.37753596999483074, 0.0001267324504850053, 0.622383064331861, 0.5205658663250597, 0.07899133792494688, 0.40028033170710786, 0.00014388221844252618, 0.00040473710979054494, 0.9994982926277507, 1.000318585023982, 1.0001022015672445, 0.9999949116316531, 1.0000466220041826, 0.9999337437603327, 0.014312349180198337, 0.00029208875877955793, 0.9817103182580942, 0.003505065105354695, 0.0004494943176269359, 0.9691097488036738, 0.030116119281004706, 0.9979838287938881, 0.0016564046950935903, 0.40374131764075927, 0.00013658366631960734, 0.596187703485086, 0.001604237717326375, 0.9981567077204705, 1.000014274185546, 0.405510426412571, 0.5944759098563724, 1.0000471365927437, 0.9999876936318045, 0.003747711644295422, 0.2159098319519085, 0.7803568468232912, 0.0008828385580449846, 0.9993732477069226, 0.9998553317768064, 4.994037741343739e-05, 0.0007491056612015609, 0.9992070712880553, 0.999888415072725, 1.000013454860796, 0.0006457574042636078, 0.9989867043958013, 0.999734982597164, 0.9999876936318045, 0.00041216374736174286, 0.9994970873522265, 0.00034355200052528344, 0.20613120031517007, 0.7929180172123542, 0.0006871040010505669, 0.9985423817157648, 0.001088329571352332, 0.0006280643404701382, 0.9992503656879899, 0.9384802146624714, 0.06154470575763679, 0.024572257981012407, 0.9753821293018535, 0.7936241984156921, 0.0015370384733680287, 0.20493846311573716, 0.9998381091562283, 0.9978838460685207, 0.0017204893897733115, 0.000538342819967823, 0.9997026166802472, 0.0004504507097083051, 0.9995501248427291, 0.0002460307071293193, 0.008365044042396855, 0.002214276364163874, 0.9890434426598635, 0.9999960820043439, 0.9996410639089267, 1.0001386977346076, 1.0001345098415226, 0.9999931916544773, 0.0007764743464713127, 0.9993224839085794, 1.000283033547492, 0.8431632280879575, 0.1557464786352687, 0.0006952967796217352, 0.00023176559320724506, 0.0006222666462153193, 0.9993602338218028, 0.0003525786035174061, 0.9995603409718464, 0.0037869275434324738, 0.0008010808264953311, 0.5882118032366171, 0.09605687364975833, 0.2311482312087437, 0.001092382945220906, 0.028984560813194706, 0.04857462829748962, 0.0013108595342650872, 0.9999665474475805, 0.9404292613012845, 0.05915351394370766, 0.0002232208073347459, 0.0002232208073347459, 0.9969012386848854, 0.0031056113354669328, 0.9959531872352961, 0.004093519059742277, 0.9999874879879637, 1.0000917250746917, 0.5143944331172172, 0.4855911721766104, 0.9996721739407681, 0.00030968778622700375, 0.3547351377804601, 0.0009734328043369589, 0.644250277670344, 0.9999732614853369, 0.9997389352424901, 1.0000014065155365, 1.0001915518100886, 0.0008651428393401012, 0.9986632175449234, 0.0002883809464467004, 1.000473957564492, 1.000218579479599, 0.9949210785537711, 0.005044264280451278, 1.0002687327076456, 0.08350484695264715, 0.3848161047995876, 0.003964621813775532, 0.5280380678222287, 1.0002507808972634, 1.0000840138847136, 0.008876332258429568, 0.021081289113770225, 0.9700166846165064, 0.21483122901116108, 0.14309328521847595, 0.6420067716486701, 0.9999314235095788, 0.9983859335382592, 0.0019991708721230662, 0.926203518418337, 0.07330530326925376, 0.00039948394152181885, 1.000350220172102, 0.9982219891455018, 0.001939707532952153, 0.00012006518067836021, 0.9999028246893839, 1.0000717642170607, 0.013252484744846584, 0.9873101134910705, 0.9930172133267909, 0.007609327305186138, 0.9963518286993379, 0.0012036868966467387, 0.0012036868966467387, 0.0009027651724850539, 1.0002325914471448, 0.9999472363026995, 0.9989064911035231, 0.0008154338702885904, 1.0001650839754908, 1.0000283444952647, 0.0013640045019549395, 0.9957232864271058, 0.0013640045019549395, 0.0013640045019549395, 0.9998103055937897, 0.431693971956616, 0.5681636002595187, 0.0001061194621328948, 0.9970226946585712, 0.0013090013496611437, 0.0013090013496611437, 0.4246996505071656, 0.5752561932781973, 0.9999644415990164, 1.0001246298871012, 0.9992646679928868, 0.0002735463093328461, 0.0002735463093328461, 0.999794540357832, 0.9072075459253118, 0.09240076856646695, 0.00038182135771267335, 0.9995687325682736, 0.000395399023958969, 0.7344490580466262, 0.2639250670788917, 0.0015736588326680085, 1.0000174550292462, 1.0001169251684512, 0.9998933962076378, 0.9998805115517412, 0.999793875644371, 0.00019241606536650712, 0.0017885426153214812, 0.020568240076197036, 0.9774385392731896, 0.0013774888688518848, 0.9986794299176166, 0.0003795395795477093, 0.003415856215929384, 0.0003795395795477093, 0.02732684972743507, 0.9682054674262064, 6.834890608486743e-05, 0.9999444960216105, 0.004539390959495477, 0.9956397504493413, 0.9998191878636673, 0.9998477052490193, 0.81945406647503, 0.00038799908450522257, 0.1800315752104233, 1.0002460957875277, 1.0000636391730304, 0.8012157010286264, 0.00025298885412965784, 0.1985962504917814, 0.9998797980900838, 0.000257196879999585, 0.9997242725583867, 0.21027630010529078, 0.32344994835182295, 0.4662280636284645, 1.0000367700999693, 0.9999494407610928, 0.9814118135186954, 0.018615722578888046, 0.0004621226389635664, 0.9995712680781941, 1.0001870347727957, 1.000386634706082, 0.11883073589020869, 0.8611336515711848, 0.019718637396628515, 1.0001630364461183, 1.0000787515963196, 0.002614759060922595, 0.9973438132376184, 0.00012918223301448768, 0.9998704835321346, 0.8544757611075834, 0.14551550331111582, 0.9997875091149763, 9.913609411154945e-05, 9.913609411154945e-05, 1.0000091294580995, 0.0009005535496337408, 0.9990140710603631, 0.9810025597664787, 0.005490220380275383, 0.013475995478857758, 0.9996704946884293, 0.6692803041556308, 0.00017128094796049412, 0.002997416589308647, 0.0008564047398024705, 0.32671840823464254, 0.024006730417902963, 0.8664646323746211, 0.109525563232307, 1.000109134946108, 1.0001650839754908, 0.16317596703029727, 0.8359999487332763, 0.00036917639599614763, 0.00036917639599614763, 0.5273781641190476, 0.47073667769697275, 0.00012757091536503326, 0.0017859928151104658, 0.9998869646902865, 1.000022685273416, 0.999596710592189, 1.000011347175276, 0.9999187952375221, 0.999891555580912, 1.0000131625770456, 0.0021233308593565287, 0.055206602343269746, 0.2922613261414308, 0.2096030891164802, 0.44074281980643376, 0.00012029480509836224, 0.999890419977587, 1.000371961541656, 0.3083824856087095, 0.6916416042545153, 1.0003144395884322, 1.0000890687661523, 0.9998574693796202, 7.728068243775082e-05, 7.728068243775082e-05, 0.9994983217978571, 0.0005651672727157801, 0.995775328019252, 0.004217599864545752, 0.9998016431251948, 0.0002494515077657672, 0.0001747280688445789, 0.0003494561376891578, 0.9994445537909914, 0.0016237563075092876, 0.9982041900413345, 0.0006885369334943839, 0.999067090500351, 1.0002338667753126, 0.999691417795124, 0.2881543735562237, 0.7116516409152767, 0.0001545892561996908, 0.9996947560237974, 0.00029154119452429205, 0.9999603689533816, 0.9997262861922235, 0.9998567576769697, 1.0000824065419993, 0.9572784612808932, 0.04255400451784824, 0.00018664037069231686, 0.847351788301527, 0.15282897985398283, 1.0000290182469762, 0.9993579612762558, 0.00042149218105282826, 0.9962689682237675, 0.0016900236950360772, 0.0008450118475180386, 0.0008450118475180386, 1.0002360083842226, 1.0000865419146923, 0.99998204373472, 0.9996706542824494, 0.17884910487058583, 0.7138318565091726, 0.10727034884802224, 0.43497422823433246, 0.0017202370608137443, 0.5632547633407289, 0.0016672610886284403, 0.9978557615441215, 1.00007768711522, 0.0061425733438495115, 0.9936793647781171, 1.0004057595475695, 0.9995721697105643, 0.0004372581669774997, 0.8238496125013217, 0.00016173999329258327, 0.1759731127023306, 0.9965119435996753, 0.0002906129902594562, 0.003196742892854018, 0.0031687106289377486, 0.9968438642676214, 0.9844021863779027, 0.01429583388431717, 0.001284391325544121, 0.7582533230169639, 0.24172838165085067, 0.0008459790708525429, 0.9991012826768532, 0.9998710568639103, 1.0000405525705134, 0.9992980111474136, 0.0006670881249315177, 0.0005376223725722207, 0.9994399906117583, 0.9998436187563512, 0.7136099735334509, 0.28602743537188546, 0.0002778314088119334, 0.15115306726031807, 0.8488316118139778, 0.9999089334980288, 0.00044268966812139384, 0.9993719257840465, 0.00022134483406069692, 0.0010101267312704995, 0.00033670891042349984, 0.9986786283161005, 0.9482699388257155, 0.005565586561022925, 0.04611486007704709, 1.0003132393623462, 0.9997044252654111, 1.0003233003186247, 0.00035818633463863356, 0.6261097129483315, 0.3735883470280948, 0.000183532968296722, 0.742023790823647, 0.015783835273518093, 0.2418964522150796, 0.00035332752649193204, 0.9995635724456757, 1.0000587916701702, 1.0000647579787452, 0.9999815566084714, 0.9999295599517216, 2.467429551691215e-05, 0.9999751744138987, 1.0000405525705134, 0.9936181327627124, 0.006112483386783603, 1.0000048561991466, 0.999946097708701, 0.0048555698139787955, 0.017137305225807514, 0.9782545066398455, 0.9999140612281693, 0.0003658410034858625, 0.9994776215233763, 0.9999654274653753, 0.32164770821688765, 0.005416347418160026, 0.6728770061791108, 0.39049749879025986, 0.6094942314738393, 0.9999125585486561, 9.099213382006153e-05, 0.9996394472447424, 0.00023543086369400432, 1.0000497926146212, 0.00021444883555098724, 0.21294769370213035, 0.7868127776365722, 1.0000075040646887, 0.7715449465831087, 0.22838506955829976, 0.999951176127538, 0.0054828016410547005, 0.9944431476462964, 0.9989894380610089, 0.0008713383672577487, 0.9998230100794805, 0.00017972730722262817, 0.9997526729181477, 1.0002494735651788, 0.2061187396659517, 0.7457678028573517, 0.0004000363700455152, 0.047204291665370796, 0.0004000363700455152, 0.3075109940926425, 0.2735915995927268, 0.00029819247912013817, 0.28753209799159324, 0.008647581894484007, 0.1210661465227761, 0.0013418661560406218, 1.0001499472163524, 0.9999428158968728, 6.762310244788482e-05, 0.00017576365232230322, 0.00017576365232230322, 0.002284927480189942, 0.9972829632767485, 0.8760972949790814, 0.12387105945072183, 0.0004209317860332734, 0.9995025259360076, 0.032068370848058324, 0.9679677990299524, 0.9988354513547716, 0.00035170262371646884, 0.0007034052474329377, 0.7002078498252428, 0.2995957137969904, 0.00012334117488554567, 1.0003325272867258, 0.01167254624479658, 0.6817051703211076, 0.0012811331244288928, 0.3053367279888861, 0.409276709821927, 0.5908932498054071, 0.0004882856512828951, 0.00024414282564144755, 0.005750919892887432, 0.9935256654575574, 0.9992940369449971, 0.0007171966772332515, 0.9999706264848124, 0.9985735785498782, 0.000933246335093344, 1.0003090469254425, 0.999620631379618, 0.0007624885254606637, 0.9988599683534694, 0.00038124426273033183, 0.9988834005366974, 0.0009963924194879776, 0.9998498090113341, 0.9813753140417585, 0.018604271356241868, 5.704422150470875e-06, 0.40176245205766375, 0.004506493498871992, 0.2081657731149832, 2.28176886018835e-05, 0.06034137750768092, 0.32519199353189315, 0.9990181663831951, 0.0011124923901817318, 0.9995390084036031, 0.0006804213808057204, 0.0009588433533759615, 0.999114774217752, 1.0000319755918017, 0.0003412573472735566, 0.9050144849694721, 0.09486954254204874, 0.9998238261666362, 0.6963925805424485, 0.303091859787692, 0.0004956530822366181, 0.9999438311529529, 1.0002688019673058, 0.9987573623429795, 0.0010392896590457645, 0.7340535798123708, 0.2655872248567372, 0.996106851424355, 0.0021375683506960406, 0.0010687841753480203, 0.6220482333940965, 0.00011557938190154153, 0.37782899943613923, 0.9998374662252335, 0.00018326586415810475, 1.0001575574543087, 1.0000177843064721, 0.12046576282006723, 0.8795385349805368, 0.6289740733920962, 0.0015092541579100143, 4.051689014523528e-05, 0.36946339201186423, 0.9986886039618915, 0.001033126142029543, 0.049287169701351996, 0.9506576122057384, 0.9998928158767753, 0.00010546280095736476, 0.00048722509655178657, 0.9992986730277142, 0.9969968657609042, 0.002695314587080033, 0.00026953145870800327, 0.9999047940156573, 0.999830656522675, 0.9981384889342868, 0.001986345251610521, 0.0016459245258584683, 0.5041466822704488, 0.494271135115298, 0.7488108725064159, 0.25120766392649213, 0.9999229989277012, 0.00010030016805313072, 0.8782282714732127, 0.00020060033610626144, 0.12126290317623505, 0.00010030016805313072, 1.000123155598344, 7.758722990946179e-05, 0.999905425458189, 0.99866012592271, 0.00019850131701902406, 0.0007940052680760962, 0.00019850131701902406, 0.9995635312114899, 1.000091743860443, 7.313045609790246e-05, 0.0002193913682937074, 0.9996933348583267, 0.010234365305193177, 0.9895572522676437, 0.9965776458508858, 0.0034032247439415566, 1.0000873304769604, 0.9997560930489676, 0.01442470948230045, 0.07212354741150226, 0.0003898570130351473, 0.913045124528315, 0.9996214292420338, 0.0002463335212523494, 0.9997691542306376, 0.26001322451492986, 0.00029165813181708343, 0.7397422416653959, 0.0005243260031483367, 0.9988410359975815, 0.0005243260031483367, 0.9993006862686068, 0.00035106294968157624, 0.0002632972122611822, 0.23437160300512683, 0.7654737706520212, 0.9972981917335121, 0.0029443641257421277, 0.9996605901696618, 0.9999979649533025, 0.43351915800375157, 0.0024614288602058288, 0.5639748875946605, 0.9999418885823422, 1.000194362436648, 0.9999615310053062, 0.0021225692347054525, 0.9979613018506803, 1.000061079714663, 0.9996793055081223, 0.7707784536482243, 0.22924792415298473, 0.9999273221043771, 0.9996372075200523, 0.001862301114729663, 0.9981933974950994, 0.0008152431122429479, 0.9917432460435461, 0.0052990802295791615, 0.0016304862244858958, 0.9993533506285373, 0.0002577645990788077, 0.0002577645990788077, 0.9999461543281213, 0.4378930991700707, 0.0001947056910493867, 0.5615312129864313, 0.0003894113820987734, 0.9975226352387748, 0.0020329945011659813, 0.9997268739974252, 0.999599095896316, 1.0001555655055554, 1.00006292365661, 0.015648020198223877, 0.9840057352557526, 1.000178699480124, 0.9951883965063522, 0.004807673413074165, 0.000517022370360559, 0.0015510671110816768, 0.004136178962884472, 0.9906148616108309, 0.0031021342221633536, 1.0003481798511726, 0.9992659044074136, 0.0007176056764146597, 1.000274099696795, 0.9999758415441831, 0.9854968349102523, 0.014249254609243386, 0.00045965337449172216, 0.9991978560257055, 0.0007280130098547945, 0.9996566040221035, 0.999585629991202, 0.9999153741539671, 0.5052049748883172, 0.4948426134595571, 0.0003694555674406529, 0.999377309926966, 0.0003694555674406529, 0.00029100557298242295, 0.9996041431946228, 1.0002840939025823, 0.0012486931441948732, 0.9985382843078336, 0.008322363702027984, 0.9916416441877959, 0.9980106098290759, 0.0020460354187839826, 0.8301552605162361, 0.16992849464088214, 0.2248499700355055, 0.7750347714171332, 0.0001341586933386071, 1.0003930008735142, 0.019799697133970576, 0.8593677777593506, 0.0014621314806624423, 0.11934648210907187, 1.0000514849814226, 0.9924297386924791, 0.007302158612453024, 0.9997948201046111, 0.9998286954224994, 0.999854686018202, 0.0019526006053960667, 0.000557885887256019, 0.9397587770827641, 0.057462246387369964, 0.0002789429436280095, 0.004797509177799951, 0.0005330565753111057, 0.9941505129552121, 0.0005330565753111057, 0.999999371214859, 0.9997544314908988, 0.0018064190901362557, 0.9980465473002812, 0.9895499129112942, 0.010731675512820182, 0.9999548950541568, 0.9999703300257035, 0.0007061036710171152, 0.9991366944892179, 0.0015921230126080326, 0.9982611289052365, 1.000280189841975, 0.11294869220101321, 0.8868198627835011, 0.00024661286506771446, 1.000142590849706, 0.0013028305100200946, 0.9988367243487392, 0.3696807936602081, 0.005627586725081856, 0.1431092585547386, 0.16037262846018294, 0.0004893553673984223, 0.11437322392473125, 0.2063448465863347, 1.000278630033658, 0.00032511817351092806, 0.058358712145211586, 0.9412171123141366, 1.0000159163882478, 0.9999571783894148, 0.9998889294350526, 0.030316705331073446, 0.9697014748039063, 0.9995669043078826, 0.00035167124579848103, 0.6994925904376731, 0.30052935393029445, 1.000198810809439, 1.000087269011995, 0.9998924106390036, 0.9994209137196695, 0.000604732299548005, 0.9991450544246744, 0.0005182287626683996, 0.0002591143813341998, 0.9993291366293725, 0.0006497588664690329, 0.0015685842196585182, 0.009934366724503948, 0.9882080583848665, 0.26917768777134765, 0.7307868596517327, 0.0005973869057312731, 0.0011947738114625461, 0.9982335194769573, 0.6986863729322558, 0.0003472596286939641, 0.3007268384489729, 0.0010880647884728702, 0.9984807875552706, 0.00036268826282429006, 0.7205327845315507, 0.007096514621124924, 0.11559433816187932, 0.15675412296440389, 0.9999046458181698, 1.0002969515812965, 0.15939081567688357, 0.8407800309764252, 0.9998108692023626, 0.9989505280432041, 0.0008538038701223966, 1.0005027323947557, 0.9990110619185337, 0.0001795168125639773, 0.0007180672502559092, 0.996390054239025, 0.004077994764961903, 1.000023563102535, 0.9999836218872724, 0.9999424223793023, 0.3116121042397509, 4.148743233121434e-05, 0.358285465612367, 0.002447758507541646, 0.01721728441745395, 0.31036748126981445, 0.9050509790615426, 0.00014077084870887626, 0.09480916660542815, 0.9998745952310514, 0.0017771205470382353, 0.9978531871619691, 0.998518588992885, 0.0015460932990857574, 0.47625941544027267, 0.0886805877377065, 0.4350510716942685, 1.0004057595475695, 1.0000407234697146, 0.0009027443184582958, 0.9966297275779586, 0.0004513721592291479, 0.0013541164776874437, 0.0004513721592291479, 1.0001417132574262, 0.9999946784681499, 0.033372810824679765, 0.8980177901067226, 7.815646563156854e-05, 0.0685432203588856, 1.0001365940058338, 0.5378993740689471, 0.4619869577839857, 9.942687136209743e-05, 1.0001754118805648, 0.00042629311874331244, 0.9996573634530677, 3.371186397079749e-05, 0.9999613091017951, 0.743534497594158, 0.25532218510606175, 0.0010081823696191973, 0.9999248985388454, 0.0022959193352905115, 0.001913266112742093, 0.0003826532225484186, 0.9952810318484369, 0.00013429949801978147, 0.27155358499599813, 0.26336131561679144, 0.00026859899603956294, 0.4638704661603252, 0.0008057969881186888, 1.0000858758513473, 0.00017844459440341108, 0.002141335132840933, 0.723235941117025, 0.27444778619244625, 0.0007823341682386557, 0.9979976206164451, 0.0013038902803977595, 1.0000705705852808, 0.999758831512873, 0.00022095338560425946, 1.0001926252242805, 0.7032865408568174, 0.2965438205226796, 0.9842941188493136, 0.013783771193604357, 0.00182676485698371, 0.9996883034508491, 0.00028540777601375597, 0.9996170595366326, 0.00037764150341391484, 1.0001635990010043, 0.9996098123324193, 0.00034914768156913003, 0.0001784833741216876, 0.9998043673716533, 0.00196647988478534, 0.9977427315429619, 0.0002458099855981675, 0.9999991607562687, 1.0002735814439683, 1.0000624965841431, 0.5689094800506497, 0.0027155583773300703, 0.42837933402381856, 0.00021723404522367364, 0.002606808542684084, 0.997104267576662, 1.0000359210897216, 0.0006482640563859845, 0.0006482640563859845, 0.9983266468344161, 0.9987695168253711, 0.0010602648798570817, 0.047340767474575426, 0.9326420443616459, 0.020054744673547228, 0.9994799657294547, 1.0000210361648905, 0.9996452535607517, 0.0016122524704647524, 0.9979842792176817, 0.9998526610941864, 9.69225146465865e-05, 0.9995965821831988, 0.0003346490064222293, 0.9995746824275535, 0.0005525564855873707, 0.9993070502356048, 0.0007731582593699071, 0.9999389781858941, 1.0000927834460824, 0.9999828602183458, 0.9991374607665705, 0.000733581101884413, 1.0001129109086517, 0.9986839071638978, 0.0011717057964378934, 1.0001137960358897, 0.9996399639924457, 1.0000975778610683, 0.006401580126606103, 0.993311849645047, 0.9996605248188223, 0.9987710624219713, 0.000774841786207891, 0.9999040131433942, 1.000422268318121, 0.9980440142373126, 0.001017374122566068, 0.001017374122566068, 0.38773186382261954, 0.6122802063287637, 0.017513056107362042, 0.982574621602523, 0.0003918928817315112, 0.11364893570213824, 0.0001959464408657556, 0.8856779127132153, 0.999953190750292, 0.0001911709162577381, 0.15089757656610794, 0.8347796676587897, 0.0003823418325154762, 0.013764305970557144, 0.999924879158802, 0.0007798564928077075, 0.005848923696057806, 0.9826191809377114, 0.010917990899307905, 0.9994587823797297, 0.00046464843439317975, 1.0000496306251376, 1.0003914436652794, 0.9991508834038172, 0.0009931917330057824, 0.9999555969375775, 0.9981476173982518, 0.0016541272068626332, 0.00023630388669466189, 0.9004155593657722, 0.0004650906814905848, 0.09673886175004164, 0.002790544088943509, 0.9999476693111734, 1.0001373846824464, 1.0000622761953695, 0.0005302286614656181, 0.006892972599053034, 0.005832515276121798, 0.9862253103260495, 0.999385923524127, 0.0005810383276303064, 0.9998462820018909, 0.8335840872829922, 0.16615103640188147, 0.0002828905273584815, 1.0000421462944753, 0.9999926797919807, 1.0004510692932078, 1.0002548494989163, 0.9996460378863001, 0.0003590252739924459, 0.000433455376470022, 0.9991146427634007, 0.000433455376470022, 0.0009187111408444346, 0.9990983656683227, 0.998677175152137, 0.0009394893463331486, 0.031144861451537796, 0.9685292280661143, 1.0000792641649094, 0.003914508002937486, 0.9960248140807604, 0.9999227970362875, 0.000489016487595387, 0.9995497006449712, 0.16565969750030238, 0.05614302818019366, 0.7779459958600826, 0.9998547320991427, 0.0019644416852639705, 0.997936376114097, 1.0000065125352875, 0.0021678941156031595, 0.9977732667063541, 1.000000781601701, 0.9997779555995288, 0.00029888728119567375, 0.07462871783402988, 0.925309825167596, 0.9999096047740359, 0.5379774409012493, 0.46204761600450844, 1.000160043723643, 0.0004419375079877181, 0.9996626430682183, 0.9999896271468534, 0.9734835725516949, 0.02650764266222058, 0.007390472422211091, 0.00043473367189477005, 0.0008694673437895401, 0.9911927719200757, 0.7521370969561642, 0.24785110341550812, 0.0007897345918477933, 0.9990142586874585, 0.00032042990922830116, 0.9996772308104539, 0.9996845026323297, 0.0005013462901867251, 0.9999875274259723, 0.9991680857018846, 0.0006182970827363147, 0.9999887086944418, 1.0001704625977852, 0.9993827219001192, 0.0006944980694232934, 0.0004966654913782651, 0.9138645041360078, 0.08559201968085435, 1.0000033032388187, 1.000443569669707, 1.0002106748606805, 0.0011885367819628643, 0.3943565042552784, 0.6023504410987797, 0.001901658851140583, 0.00023770735639257288, 0.9997863191586054, 0.005101553723193952, 0.9948029760228206, 0.9999533345738735, 0.9999483174907751, 0.9999046458181698, 0.07120618970267004, 0.001780154742566751, 0.9268672359630884, 1.000064565410563, 1.000002894221805, 1.0000322208572734, 0.9997728497644116, 1.0000238744127665, 0.002164226714953397, 0.9977085155935158, 0.9999279334536203, 1.0003537964619686, 0.9998628616905639, 0.9996195810474154, 0.00028568721950483436, 0.11461070445537005, 0.8853719620632052, 1.0000537765213517, 9.081747066203464e-05, 0.9999003519890013, 1.0000950201161682, 0.6821276914093183, 0.31786950591516044, 0.001485456162200848, 0.9982265409989699, 0.9935757955184404, 0.0063895549551025105, 0.0013293586596995512, 0.9987914729875961, 0.9998605253591769, 1.0000295290078391, 0.001015861750894024, 0.9985921011288256, 0.0012686958471154499, 0.0006343479235577249, 0.9978292837563013, 1.000010491618505, 0.9992024872357054, 0.0003327347609842509, 0.0003327347609842509, 0.9999329211370596, 0.034058172172810014, 0.3466000332767092, 0.00041033942376879535, 0.44590217382875763, 0.1730264570225087, 0.9995330491804301, 1.0000279939324277, 0.8326391917431719, 0.16714537050567504, 0.00020584405234689044, 0.9998538482881295, 0.9999482229838818, 1.0000615682939855, 0.3378059349665832, 0.6621947412944734, 1.0002511852046538, 0.00019432937024843006, 0.00019432937024843006, 0.00012955291349895338, 0.9994359511876758, 1.0002891069146314, 0.00041560363679107567, 0.0008312072735821513, 0.8447143917778613, 0.09112109736644335, 0.0628600500646502, 0.0012722717848718318, 0.998733351124388, 0.9999533690492388, 0.0006375060190734499, 0.9993362210418523, 1.0000159048530533, 1.0000932457350118, 7.295108300153928e-05, 0.00014590216600307855, 0.9997945925360958, 0.9994964135248233, 0.6916153924737167, 0.30789483338760115, 0.00047096724036344343, 0.00041582872374504624, 0.9994443375212188, 0.9995849399486698, 0.000296348929720922, 0.08788750256435204, 0.004474272857821558, 0.9076382083009448, 0.0014339678429270916, 0.9958906669128652, 0.0007169839214635458, 0.0014339678429270916, 0.0006872383047954818, 0.9992444951726305, 0.9996952113691605, 7.501277191934873e-05, 0.0002250383157580462, 1.0003041944590871, 1.0001544083959804, 2.9756034894482636e-05, 0.42711812487540374, 0.0008629250119399965, 0.3403495271230924, 0.23162097561865283, 0.06180470031461104, 0.9364348532516824, 0.0017390932988959817, 0.13861846485191337, 0.11779774785298688, 2.7947271139498666e-05, 0.000586892693929472, 0.14644370077097302, 0.5965065552014596, 1.0002216194330007, 0.00012884158856358714, 0.0005153663542543486, 0.09688887459981753, 0.7515329860914038, 0.06944561623577347, 0.08142788397218707, 0.9994234000600473, 0.00038888070041246975, 0.9997392696764098, 0.00019855794829720156, 0.0002976739678625393, 0.9995891840824069, 0.999906056065289, 5.06127787034465e-05, 5.06127787034465e-05, 1.000096969005071, 1.0000153817176662, 0.999880826430516, 0.9999281657438047, 0.9997445851106979, 0.000400378287989867, 0.04380735955148805, 0.0008038047624126247, 0.9553219601274044, 0.00025795570585372864, 0.9993204044773447, 0.00025795570585372864, 0.0009330024729367217, 0.9983126460422922, 0.0009330024729367217, 0.999688848369354, 0.00026197296865025, 0.9992521214148631, 0.0005713276852000361, 1.0003145591242164, 0.9998898313932665, 0.9993057760971368, 0.0005710318720555067, 0.9999599807860583, 0.0008193696049447507, 0.0008193696049447507, 0.9979921788227064, 0.0019522293267206516, 0.00027888990381723594, 0.9978680758580702, 0.9978267162174057, 0.001781833421816796, 0.9998981867812596, 1.0000564690502487, 0.9720476978473729, 0.02785512177625871, 0.9999371284675634, 0.9988358410712452, 0.0011201897283042003, 1.0000476906490978, 1.0002219179774774, 1.000059555233634, 8.203999248427064e-05, 0.9999034283982905, 1.0003650182745532, 1.0000361513674771, 0.9995921134814792, 1.0002165899988569, 1.0002043854486438, 0.9983249777935254, 0.0016076086598929556, 0.6656273103282097, 0.0002892774056185179, 0.3341154034893882, 0.0009182717233483859, 0.9990796350030439, 0.9995539494942719, 0.9999015569518142, 0.9995929482213847, 0.9995450779763223, 0.9999237812448158, 0.999670206347284, 0.0006845459397069489, 0.9987525260324385, 0.00034227296985347446, 0.9999549836869123, 0.9999886610674513, 0.9994964135248233, 0.9998881506136874, 8.471474630294734e-05, 0.9869401014305975, 0.01140624204816384, 0.0018009855865521853, 0.9999630525744518, 0.9999256355551123, 0.999955358905731, 0.9999631810485377, 0.9885353130904002, 0.00515757554655861, 0.006303703445793857, 1.0000259573727144, 0.3282447916610746, 0.11808707690128042, 0.5526669714412019, 4.0524048353219087e-05, 0.0003647164351789718, 0.0006483847736515054, 0.9998793266937328, 0.9997902210218923, 0.0001593270784400985, 0.000637308313760394, 0.9983434735056572, 0.000955962470640591, 8.522881715241821e-06, 0.9999215285956009, 8.522881715241821e-06, 5.966017200669275e-05, 0.18864176364621382, 0.8106544487622153, 0.0003483689079339129, 0.0003483689079339129, 1.0003598789032575, 0.5467827689373423, 0.0651485852350876, 0.3882323854825628, 0.0002061378406253178, 0.146541100480087, 0.8532045223481903, 2.2904204513924197e-05, 2.2904204513924197e-05, 0.00014821478177674068, 0.6651138332231238, 0.3347430846427688, 0.9999631427228243, 1.0000325049171628, 0.9996184327740695, 0.00043939271770288766, 1.0003877767541987, 0.0003521676593302976, 0.9994518171793847, 0.9997218525218011, 0.00018930540665059668, 1.0001758594516308, 0.999806524635867, 1.0001522392017854, 9.338273797026952e-05, 0.9998489754476758, 0.9997237480073162, 0.9996610021542978, 0.00032551644485649553, 0.00128150579095099, 0.9982930111508214, 0.0015358244382744893, 0.998285884878418, 0.049942584103226405, 0.9330872873173995, 0.016967160572669452, 0.00021119310151298707, 0.12206961267450653, 0.00021119310151298707, 0.8747618264667925, 0.0027455103196688323, 0.9955162334589834, 0.0043855340681012486, 0.00036599724119471726, 0.00036599724119471726, 0.999172468461578, 0.9996197671712868, 1.0001342651362488, 0.06069713116871514, 0.0004244554627182877, 0.9388954835328525, 0.16024658664268332, 0.0002492170865360549, 0.0017445196057523844, 0.8376186278476806, 0.0006701321336134041, 0.9991670112175856, 0.9467126582345443, 0.053172370088060264, 0.001284112738418062, 0.03944060553712619, 0.000550334030750598, 0.9587736039060001, 1.0000157930487439, 0.001328583311610545, 0.9987625045032272, 0.9997423837893831, 0.9999631112436032, 1.000007939362072, 0.0006904139160392789, 0.9962672808446794, 0.0027616556641571156, 0.9999196865218117, 0.9984144547143862, 0.0010156810322628548, 0.0004887441446972857, 0.9994817759059492, 0.0007570126845360438, 0.003028050738144175, 0.9947146674803615, 0.0007570126845360438, 0.9997660404855552, 0.00022431367298307272, 0.999992006812699, 0.03742910885509875, 0.1532722007616294, 0.0031814742526833943, 0.8058487136502762, 0.0003742910885509875, 0.7622530436791092, 0.04749611085321534, 0.1900505939850803, 0.0001984517166568886, 0.9999752538432181, 0.00036126692369594233, 0.9996255778666724, 0.9999159244258041, 0.9996179670084723, 0.00016363037600400593, 0.00016363037600400593, 0.031938329800980915, 0.9679484495800197, 0.00012403234874167347, 1.0001485207209873, 7.032633591806212e-05, 7.032633591806212e-05, 0.9978603803413834, 0.001969137405705739, 0.037645316577767575, 0.595199768731139, 0.0003562648256571064, 0.3668340154849339, 0.996773583308543, 0.002322708083608456, 0.000995446321546481, 0.00017124464492825536, 0.08414961851774469, 0.9083158456284521, 0.007363519731914981, 0.0018962634951808516, 0.9979086643389232, 0.0013486504605222257, 0.9982261158632006, 0.00044955015350740856, 0.719360924949085, 0.2804412133811661, 0.0035784444805917674, 0.9957021767246593, 0.0008946111201479419, 0.0046906165118640415, 0.0009874982130240089, 0.0004937491065120044, 0.9936700768554089, 0.9969012367871357, 0.0030560262719237776, 0.9992648128730091, 0.0005958645276523608, 0.35707151322405584, 0.3412798998223159, 0.3004765165740834, 0.0012070022982221605, 0.0001796312236394803, 0.0007185248945579212, 0.99892923465915, 0.9999153064393851, 0.7192143408410873, 0.2807421890649059, 0.43639256845672836, 0.0017342973411097003, 0.5584437438373235, 0.003251807514580688, 0.0004538369359368447, 0.9993489329329319, 0.037393008572741006, 0.9615345061561973, 0.0012327365463540992, 0.0009094629070369191, 0.9985902719265372], \"Term\": [\"abroad\", \"abroad\", \"active\", \"active\", \"active_cases\", \"activities\", \"add\", \"add\", \"additional\", \"additional\", \"additional\", \"additional\", \"additional\", \"administered\", \"administration\", \"administration\", \"admitted\", \"admitted\", \"advice\", \"advice\", \"advised\", \"advised\", \"advised\", \"adviser\", \"affected\", \"affected\", \"affected\", \"africa\", \"africa_today\", \"age_group\", \"agency\", \"agreed\", \"ahead\", \"ahead\", \"ahead\", \"aid\", \"aid\", \"aid\", \"air\", \"airlines\", \"airlines\", \"airport\", \"airport\", \"alert_level\", \"alert_level\", \"allowed\", \"allowed\", \"american\", \"americans\", \"amid\", \"amp\", \"amp\", \"amp\", \"analysis\", \"analysis\", \"andhra_pradesh\", \"ani\", \"announced\", \"announced\", \"announced\", \"announced\", \"announces\", \"announces\", \"announces\", \"annual\", \"annual\", \"answer\", \"answers\", \"anti_lockdown\", \"antibodies\", \"anxiety\", \"approval\", \"approval\", \"approved\", \"approved\", \"approved\", \"approves\", \"april\", \"april\", \"area\", \"area\", \"area\", \"areas\", \"areas\", \"areas\", \"areas\", \"arrest\", \"arrested\", \"arrival\", \"arrival\", \"arrivals\", \"arrived\", \"asia\", \"asia\", \"assam\", \"assistance\", \"astrazeneca\", \"astrazeneca_vaccine\", \"astrazeneca_vaccine\", \"asymptomatic\", \"asymptomatic\", \"athletes\", \"attacks\", \"attend\", \"attended\", \"auckland\", \"august\", \"august\", \"auspol_news\", \"australian\", \"australian\", \"australian\", \"australian\", \"australians\", \"australians\", \"authorities\", \"authorities\", \"authorities\", \"authorities\", \"authorities\", \"authorities\", \"avoid\", \"avoid\", \"avoid\", \"baby\", \"ban\", \"ban\", \"bank\", \"banks\", \"bans\", \"bans\", \"bans\", \"based\", \"based\", \"based\", \"batch\", \"battle\", \"battle\", \"battle\", \"battles\", \"battles\", \"battling\", \"battling\", \"battling\", \"bed\", \"beds\", \"began\", \"begin\", \"begins\", \"begins\", \"begins\", \"begins\", \"begins\", \"begins\", \"bengaluru\", \"bid\", \"bid\", \"bid\", \"bid\", \"biden\", \"biggest\", \"biggest\", \"biggest\", \"biggest\", \"biggest\", \"bill\", \"bjp\", \"black\", \"black\", \"blame\", \"bmc\", \"bn\", \"board\", \"board\", \"board\", \"booster\", \"booster_shot\", \"booster_shots\", \"booster_shots\", \"boosters\", \"border\", \"boris_johnson\", \"boris_johnson\", \"boss\", \"boss\", \"breach\", \"breaching\", \"break\", \"break\", \"break\", \"break\", \"break\", \"break\", \"breaking\", \"breaking\", \"breaking_department_health\", \"bring\", \"bring\", \"bring\", \"bring\", \"bring\", \"bring\", \"bringing_total\", \"bringing_total_number\", \"british\", \"british\", \"british\", \"british\", \"british\", \"brits\", \"budget\", \"business\", \"businesses\", \"businesses\", \"businesses\", \"businesses\", \"busy\", \"called\", \"called\", \"called\", \"calls\", \"calls\", \"calls\", \"calls\", \"calls\", \"calls\", \"campaign\", \"canadian\", \"canadian\", \"canadian\", \"cancel\", \"cancelled\", \"cancelled\", \"cancels\", \"cancels\", \"capacity\", \"capacity\", \"care\", \"care\", \"care_home\", \"care_homes\", \"care_homes\", \"care_homes\", \"care_homes\", \"case\", \"case\", \"cases\", \"cases\", \"cases_recoveries_deaths\", \"cases_recoveries_deaths\", \"cases_soar\", \"cash\", \"caught\", \"caught\", \"caught\", \"caused\", \"caused\", \"cdc\", \"cdc\", \"cdnpoli\", \"cdnpoli\", \"cent\", \"centre\", \"challenges\", \"challenges\", \"changed\", \"changed\", \"chennai\", \"chief\", \"chief\", \"chief\", \"child\", \"child\", \"children\", \"chimpreportsnews_ugandanews_uganda_featured\", \"chimpreportsnews_ugandanews_uganda_featured\", \"china\", \"chinese\", \"christmas\", \"christmas\", \"christmas\", \"citizens\", \"citizens\", \"citizens\", \"citizens\", \"citizens\", \"city\", \"claim\", \"claim\", \"claim\", \"claims\", \"claims\", \"claims\", \"classes\", \"clear\", \"clear\", \"clinic\", \"close\", \"close\", \"close\", \"close\", \"close\", \"close\", \"close\", \"closed\", \"closed\", \"closing\", \"closing\", \"club\", \"cm\", \"combat\", \"combat\", \"combat\", \"combat\", \"coming\", \"coming\", \"coming\", \"coming\", \"coming\", \"commissioner\", \"community\", \"community\", \"community_quarantine\", \"community_quarantine\", \"company\", \"company\", \"compared\", \"compliance\", \"compliance\", \"complications\", \"compulsory\", \"concern\", \"concern\", \"concern\", \"concern\", \"concerns\", \"concerns\", \"conduct\", \"conduct\", \"conduct\", \"conducted\", \"confirmed\", \"congress\", \"congress\", \"congress\", \"contact_tracing\", \"contact_tracing\", \"contact_tracing\", \"continent\", \"continue\", \"continue\", \"continue\", \"continue\", \"continue\", \"continue\", \"continue\", \"contracted\", \"contracted\", \"contracting\", \"contracting\", \"contracting\", \"control\", \"control\", \"control\", \"control\", \"conversation\", \"cops\", \"cops\", \"cork\", \"corona\", \"coronavirus\", \"coronavirus\", \"coronavirus\", \"coronavirus\", \"coronavirus\", \"coronavirus\", \"coronavirus\", \"coronavirus\", \"coronavirus\", \"coronavirusireland\", \"coronavirusireland\", \"coronavirusoutbreak\", \"coronavirusoutbreak\", \"coronavirusoutbreak\", \"coronaviruspandemic\", \"coronaviruspandemic\", \"corruption\", \"corruption\", \"cost\", \"cost\", \"cost\", \"council\", \"council\", \"council\", \"count\", \"count\", \"counties\", \"counties\", \"countries\", \"countries\", \"country\", \"country\", \"country\", \"country\", \"country\", \"country\", \"county\", \"county\", \"county\", \"court\", \"court\", \"court\", \"covaxin\", \"coverage\", \"covidab\", \"covidindia\", \"covidireland\", \"covidquarantine\", \"covidquarantine\", \"covidvaccine\", \"covishield\", \"crime\", \"crisis\", \"crisis\", \"critical\", \"critical\", \"crore\", \"crore\", \"crucial\", \"crucial\", \"crucial\", \"cummings_resign_allegations_broke\", \"curfew\", \"current\", \"current\", \"customers\", \"customers\", \"customers\", \"dad\", \"daily\", \"dangerous\", \"dangerous\", \"dangerous\", \"dangerous\", \"dangerous\", \"data\", \"data\", \"data_shows\", \"date\", \"date\", \"daughter\", \"day\", \"day\", \"day\", \"day\", \"day\", \"day_row\", \"days\", \"days\", \"days\", \"days\", \"days\", \"dead\", \"deadly\", \"deal\", \"deal\", \"deal\", \"deal\", \"deal\", \"deal\", \"death\", \"death\", \"death\", \"death_rate\", \"death_toll\", \"death_toll\", \"death_toll\", \"death_toll_rises\", \"death_toll_rises\", \"deaths\", \"deaths\", \"deaths\", \"deaths\", \"deaths_recoveries\", \"debate\", \"debt\", \"dec\", \"december\", \"december\", \"decision\", \"decision\", \"decision\", \"declared\", \"declares\", \"declares\", \"declares\", \"decline\", \"decline\", \"dedicated\", \"defends\", \"delay\", \"delayed\", \"delhi\", \"delivery\", \"delivery\", \"delivery\", \"delivery\", \"delta\", \"delta\", \"delta_variant\", \"delta_variant\", \"delta_variant\", \"delta_variant\", \"demand\", \"demand\", \"demand\", \"demand\", \"department_health\", \"department_health\", \"department_health\", \"department_health_doh\", \"details\", \"details\", \"details\", \"detected\", \"developed\", \"developed\", \"developments\", \"diagnosis\", \"diagnosis\", \"die\", \"died\", \"dies\", \"dies\", \"difficult\", \"difficult\", \"difficult\", \"digital\", \"digital\", \"director\", \"discharged\", \"discharged\", \"discharged\", \"discuss\", \"discuss\", \"disease\", \"disease\", \"disease\", \"disease\", \"district\", \"district\", \"district\", \"district\", \"districts\", \"districts\", \"districts\", \"doctor\", \"doctor\", \"doctors\", \"doctors\", \"doh\", \"doh\", \"doh\", \"donald_trump\", \"donald_trump\", \"donate\", \"donate\", \"dose\", \"dose\", \"doses\", \"doses\", \"doses\", \"dr\", \"dr\", \"drivers\", \"drop\", \"drop\", \"drug\", \"drug\", \"drugs\", \"dstv\", \"dstv\", \"duty\", \"earlier\", \"earlier\", \"earlier\", \"early\", \"early\", \"early\", \"ease\", \"eased\", \"eased\", \"eases\", \"easing\", \"easing\", \"easing\", \"economic\", \"economy\", \"economy\", \"education\", \"education\", \"education\", \"effective\", \"effective\", \"effective\", \"effects\", \"effects\", \"effects\", \"effects\", \"effects\", \"effort\", \"effort\", \"efforts\", \"efforts\", \"elderly\", \"elderly\", \"elderly\", \"elderly\", \"election\", \"election\", \"elections\", \"emergency\", \"emergency\", \"emergency\", \"emerging\", \"employees\", \"employees\", \"employers\", \"employment\", \"enca\", \"encourage\", \"end\", \"ends\", \"enforce\", \"enforce\", \"enforced\", \"enhanced_community_quarantine\", \"enhanced_community_quarantine\", \"enhanced_community_quarantine\", \"ensure\", \"ensure\", \"entered\", \"entry\", \"epicentre\", \"epidemic\", \"epidemic\", \"epidemic\", \"eu\", \"eu\", \"europe\", \"european\", \"european\", \"european_union\", \"event\", \"event\", \"event\", \"event\", \"events\", \"events\", \"events\", \"evidence\", \"evidence\", \"exams\", \"exclusive\", \"exclusive\", \"exclusive\", \"exclusive\", \"expect\", \"expect\", \"expect\", \"expect\", \"expected\", \"expected\", \"expected\", \"experience\", \"experimental\", \"expert\", \"experts\", \"experts\", \"extended\", \"extends\", \"extends\", \"extra\", \"extra\", \"face\", \"face\", \"face\", \"face\", \"face\", \"face_masks\", \"face_masks\", \"face_masks\", \"face_masks\", \"facebook\", \"facebook\", \"faces\", \"faces\", \"faces\", \"facilities\", \"facility\", \"facility\", \"facing\", \"facing\", \"failed\", \"fake\", \"fake\", \"fake\", \"families\", \"families\", \"family\", \"family_members\", \"farmers\", \"farmers\", \"fatalities\", \"fatalities\", \"fatalities\", \"father\", \"father\", \"fda\", \"fear\", \"fear\", \"fear\", \"fears\", \"fears\", \"fears\", \"february\", \"february\", \"federal\", \"federal\", \"federal_government\", \"federal_government\", \"federal_government\", \"federal_government\", \"feeling\", \"festival\", \"fg\", \"fight\", \"fight\", \"fight\", \"fight\", \"fight\", \"fighting\", \"fighting\", \"figures\", \"figures\", \"figures\", \"filipino\", \"filipino\", \"filipinos\", \"final\", \"final\", \"final\", \"final\", \"finally\", \"finally\", \"finally\", \"financial\", \"find\", \"find\", \"find\", \"fire\", \"flight\", \"flights\", \"flouting\", \"flouting\", \"flu\", \"flu\", \"focus\", \"focus\", \"focus\", \"focus\", \"follow\", \"follow\", \"follow\", \"follow_live\", \"follow_live_blog_updates\", \"food\", \"food\", \"food\", \"food_drug_administration\", \"forced\", \"forced\", \"found\", \"found\", \"free\", \"free\", \"free\", \"free\", \"freedom\", \"french\", \"french\", \"french\", \"french\", \"fresh\", \"fresh\", \"fresh\", \"friday\", \"fully_vaccinated\", \"fund\", \"fund\", \"funding\", \"funding\", \"funds\", \"funds\", \"future\", \"future\", \"game\", \"game\", \"games\", \"games\", \"gap\", \"garda\\u00ed\", \"global\", \"global\", \"global\", \"global\", \"global\", \"goa\", \"good\", \"good\", \"good\", \"good\", \"good\", \"government\", \"government\", \"government\", \"government\", \"governments\", \"governments\", \"governments\", \"governor\", \"governor\", \"governor\", \"govt\", \"govt\", \"govt\", \"gp\", \"greater\", \"group\", \"group\", \"group\", \"growth\", \"guests\", \"guidelines\", \"guidelines\", \"half\", \"half\", \"half\", \"half\", \"half\", \"handling\", \"handling\", \"handling\", \"hands\", \"hard\", \"hard\", \"hard\", \"hard\", \"hard\", \"head\", \"head\", \"health\", \"health\", \"health\", \"health_care_workers\", \"health_department\", \"health_department\", \"health_department\", \"health_minister\", \"health_minister\", \"health_minister\", \"health_ministry\", \"health_ministry\", \"health_ministry\", \"health_ministry\", \"health_officials\", \"health_officials\", \"health_secretary\", \"health_secretary_matt_hancock\", \"health_workers\", \"healthcare\", \"healthcare_workers\", \"held\", \"held\", \"held\", \"held\", \"helped\", \"helped\", \"helped\", \"helping\", \"helping\", \"high\", \"high\", \"high\", \"higher\", \"higher\", \"highest\", \"hit\", \"hit\", \"hits\", \"hiv\", \"hold\", \"hold\", \"hold\", \"holds\", \"holds\", \"holiday\", \"home\", \"home\", \"home\", \"hopes\", \"hospital\", \"hospitalised\", \"hospitalised\", \"hospitalizations\", \"hospitals\", \"hotel\", \"hotel\", \"hotel_quarantine\", \"hotel_quarantine\", \"hotel_quarantine\", \"hotel_quarantine\", \"hotels\", \"hotels\", \"hotspot\", \"hotspot\", \"hours\", \"hours\", \"hse\", \"hse\", \"hundreds\", \"hundreds\", \"hundreds\", \"husband\", \"iatf\", \"iatf\", \"icmr\", \"icmr\", \"icu\", \"icu\", \"icymi\", \"icymi\", \"icymi\", \"icymi\", \"identified\", \"iii\", \"illegal\", \"immunity\", \"impact\", \"implement\", \"implement\", \"implementation\", \"important\", \"important\", \"important\", \"important\", \"impose\", \"impose\", \"imposed\", \"imposed\", \"including\", \"including\", \"including\", \"including\", \"including\", \"including\", \"including\", \"including\", \"including\", \"increase\", \"increased\", \"increased\", \"increased\", \"increased\", \"increases\", \"increases\", \"increasing\", \"increasing\", \"india\", \"indiafightscovid\", \"indian\", \"indian\", \"industry\", \"industry\", \"infected\", \"infected\", \"infected\", \"infection\", \"infection_rates\", \"infections\", \"infectious\", \"information\", \"information\", \"information\", \"inoculation\", \"inquiry\", \"inside\", \"inside\", \"institute\", \"international\", \"international\", \"international\", \"international\", \"interview\", \"investors\", \"irish\", \"irish\", \"irish\", \"isolation\", \"isolation\", \"isolation\", \"issue\", \"issued\", \"issued\", \"issues\", \"issues\", \"issues\", \"italian\", \"itvideo\", \"itvideo\", \"jab\", \"jab\", \"jabs\", \"jail\", \"jail\", \"japanese\", \"japanese\", \"jobs\", \"jobs\", \"jobs\", \"jobs\", \"joe_biden\", \"johnson\", \"johnson_amp_johnson\", \"johnson_amp_johnson\", \"johnson_hosts_daily\", \"join\", \"joined\", \"joined\", \"joined\", \"joined\", \"joins\", \"july\", \"july\", \"july\", \"jump\", \"jump\", \"jump\", \"june\", \"june\", \"justin\", \"kano\", \"karnataka\", \"karnataka\", \"karnataka\", \"kayburley\", \"kenyans\", \"kenyans\", \"kenyans\", \"kerala\", \"kerala\", \"key\", \"key\", \"key\", \"kids\", \"killed\", \"lab\", \"labour\", \"lakh\", \"lakh\", \"land\", \"land\", \"land\", \"large\", \"large\", \"late\", \"late\", \"late\", \"late\", \"late\", \"latest\", \"latest\", \"latest_updates\", \"latest_updates\", \"launch\", \"launched\", \"law\", \"law\", \"law\", \"laws\", \"leader\", \"leading\", \"leading\", \"leading\", \"learning\", \"leave\", \"leave\", \"left\", \"left\", \"left\", \"lessons\", \"level\", \"life\", \"life\", \"lift\", \"lift\", \"lifting\", \"lifts\", \"line\", \"line\", \"line\", \"lines\", \"linked\", \"list\", \"list\", \"listen\", \"listen\", \"live\", \"live\", \"live_updates\", \"live_updates\", \"live_updates\", \"liveblog\", \"lives\", \"lives\", \"living\", \"living\", \"living\", \"loans\", \"local\", \"local\", \"local\", \"local\", \"local\", \"lockdown\", \"lockdown\", \"lockdown\", \"lockdown_regulations\", \"lockdown_rules_reply\", \"lockdowns\", \"lockdowns\", \"lockdowns\", \"lockdowns\", \"long\", \"long\", \"long\", \"long\", \"loss\", \"lot\", \"loved_ones\", \"low\", \"lower\", \"lowest\", \"maharashtra\", \"major\", \"major\", \"major\", \"major\", \"major\", \"man\", \"man\", \"managed_isolation\", \"mandatory\", \"mandatory\", \"manufacturing\", \"map\", \"march\", \"march\", \"march\", \"market\", \"market\", \"markets\", \"markets\", \"mask\", \"mask\", \"masks\", \"masks\", \"masks\", \"mass\", \"mass\", \"mass_testing\", \"mass_testing\", \"matter\", \"mco\", \"measures\", \"measures\", \"measures\", \"media\", \"media\", \"medical\", \"medicine\", \"medicines\", \"medics\", \"meet\", \"meet\", \"meet\", \"meeting\", \"meeting\", \"message\", \"metro\", \"metro\", \"metro_manila\", \"metro_manila\", \"metro_manila\", \"metro_manila\", \"migrant_workers\", \"migrants\", \"mild\", \"milestone\", \"minister\", \"minister\", \"minister\", \"ministry_health\", \"ministry_health\", \"ministry_health\", \"minute\", \"minute\", \"misinformation\", \"miss\", \"miss\", \"mkhize\", \"moderna\", \"moderna\", \"monday\", \"monday\", \"monday\", \"money\", \"money\", \"money\", \"month\", \"month\", \"months\", \"months\", \"months\", \"morning\", \"morning\", \"mother\", \"mother\", \"mps\", \"mps_pm_aide_dominic\", \"multiple\", \"multiple\", \"mum\", \"mum\", \"mutations\", \"nation\", \"nation\", \"nation\", \"national\", \"national\", \"national_capital\", \"nationnewsplex\", \"nationnewsplex\", \"nationnewsplex\", \"nations\", \"nations\", \"nations\", \"nationwide\", \"nationwide\", \"nationwide\", \"nba\", \"ncdc\", \"ncr\", \"need_know\", \"need_know\", \"need_know\", \"needed\", \"needed\", \"needed\", \"needed\", \"negative\", \"negative\", \"new_normal\", \"new_south_wales\", \"new_youtube_coronavirus\", \"newnormal\", \"news\", \"news\", \"news_briefing_growing_number\", \"news_updates\", \"news_updates\", \"newsalert\", \"nhs\", \"nigeria\", \"nigeria\", \"nigeria\", \"nigerians\", \"night\", \"night\", \"normal\", \"north\", \"north\", \"north\", \"novel_coronavirus\", \"novel_coronavirus\", \"nstnation\", \"nstnation\", \"nstworld\", \"nstworld\", \"nsw\", \"ntvnews\", \"ntvnews\", \"ntvnews\", \"number\", \"numbers\", \"numbers\", \"nurses\", \"nz\", \"nz\", \"offered\", \"offered\", \"office\", \"office\", \"officer\", \"officers\", \"official\", \"official\", \"official\", \"official\", \"official\", \"officials\", \"officials\", \"officials\", \"officials\", \"officials\", \"officials\", \"officials\", \"olympics\", \"omicron\", \"omicron\", \"omicron_variant\", \"omicron_variant\", \"omicron_variant\", \"omicron_variant\", \"online\", \"online\", \"ontario\", \"ontario\", \"open\", \"open\", \"opening\", \"opening\", \"opening\", \"opinion\", \"opinion\", \"opinion\", \"option\", \"order\", \"order\", \"order\", \"order\", \"orders\", \"orders\", \"outbreak\", \"outbreak\", \"outbreak\", \"outbreak\", \"outbreaks\", \"outbreaks\", \"overnight\", \"overs\", \"overs\", \"overseas\", \"overwhelmed\", \"oxygen\", \"oxygen\", \"oxygen\", \"paid\", \"paid\", \"pain\", \"palace\", \"palace\", \"pandemic\", \"pandemic\", \"pandemic\", \"pandemic\", \"pandemic\", \"pandemic\", \"pandemic\", \"pandemic_began\", \"pandemic_began\", \"panel\", \"panel\", \"panic\", \"panic\", \"parents\", \"parliament\", \"parliament\", \"parliament\", \"parts\", \"party\", \"party\", \"party\", \"passengers\", \"passes\", \"past_days\", \"past_days\", \"past_hours\", \"past_hours\", \"past_week\", \"past_week\", \"past_week\", \"patient\", \"patient\", \"patient\", \"patients\", \"patients\", \"pause\", \"pay\", \"peak\", \"peak\", \"people\", \"people\", \"people\", \"people\", \"percent\", \"percent\", \"person\", \"person\", \"pfizer\", \"pfizer\", \"pfizer_biontech\", \"pfizer_biontech\", \"ph\", \"ph\", \"ph\", \"phase\", \"philippine\", \"physical_distancing\", \"physical_distancing\", \"place\", \"place\", \"place\", \"plan\", \"plan\", \"planned\", \"plans\", \"plans\", \"plans\", \"plans\", \"plans\", \"players\", \"pm\", \"pm\", \"pm_modi\", \"pm_modi\", \"pm_modi\", \"pm_modi\", \"pnp\", \"podcast\", \"police\", \"police\", \"police\", \"political\", \"political\", \"politicians\", \"politicians\", \"politics\", \"polls\", \"poor\", \"poor\", \"poor\", \"poor\", \"population\", \"population\", \"position\", \"positive\", \"positive\", \"positive\", \"positivity_rate\", \"positivity_rate\", \"positivity_rate\", \"post\", \"post\", \"post\", \"postponed\", \"postponed\", \"ppe\", \"ppe\", \"precautions\", \"premier\", \"prepare\", \"prepare\", \"prepare\", \"preparedness\", \"pres_trump\", \"president\", \"president_donald_trump\", \"president_donald_trump\", \"president_duterte\", \"president_museveni\", \"president_rodrigo_duterte\", \"president_rodrigo_duterte\", \"president_trump\", \"presidential_spokesperson_harry_roque\", \"press_conference\", \"press_conference\", \"pressure\", \"pressure\", \"pressure\", \"pressure\", \"prevent\", \"prevent\", \"prevent\", \"prices\", \"prime_minister\", \"prime_minister\", \"prime_minister\", \"prime_minister\", \"prime_minister_boris_johnson\", \"prime_minister_boris_johnson\", \"prime_minister_narendra_modi\", \"prime_minister_scott_morrison\", \"prison\", \"prisoners\", \"private\", \"private\", \"private_hospitals\", \"private_sector\", \"private_sector\", \"probe\", \"probe\", \"probe\", \"probe\", \"probe\", \"produce\", \"production\", \"production\", \"products\", \"prof\", \"professor\", \"professor\", \"professor\", \"program\", \"program\", \"projects\", \"promises\", \"proposed\", \"protect\", \"protect\", \"protection\", \"protection\", \"protection\", \"protest\", \"protest\", \"protesters\", \"protests\", \"protests\", \"protocol\", \"protocol\", \"protocols\", \"protocols\", \"provide\", \"provide\", \"province\", \"province\", \"province\", \"pti\", \"public\", \"public\", \"public\", \"public\", \"public_health\", \"public_transport\", \"public_transport\", \"pubs\", \"punjab\", \"pupils\", \"push\", \"push\", \"push\", \"push\", \"push\", \"putting\", \"putting\", \"putting\", \"putting\", \"quarantine\", \"quarantine_facility\", \"quarantine_free\", \"quarantine_free\", \"quarter\", \"quarter\", \"questions\", \"rajasthan\", \"ramaphosa\", \"ramaphosa\", \"rapid\", \"rapid\", \"rare\", \"rate\", \"rate\", \"rate\", \"rates\", \"reach\", \"reach\", \"read\", \"read\", \"read\", \"read\", \"read\", \"read\", \"read\", \"read_reply_stop_opt\", \"ready\", \"ready\", \"ready\", \"receive\", \"received\", \"received_dose\", \"recently\", \"recently\", \"record\", \"record\", \"recorded\", \"recorded\", \"recording\", \"records\", \"records_new\", \"recovered\", \"recovered\", \"recoveries\", \"recoveries\", \"recoveries\", \"recovery\", \"recovery\", \"reduced\", \"reduced\", \"reduced\", \"region\", \"region\", \"register\", \"register\", \"register\", \"registered\", \"registered\", \"registered\", \"regulations\", \"regulations\", \"regulations\", \"related\", \"related\", \"related\", \"related\", \"relaxation\", \"relaxed\", \"relief\", \"relief\", \"relief_bill\", \"remaining\", \"remaining\", \"remember\", \"reopen\", \"reopen\", \"reopen\", \"reopened\", \"reopened\", \"reopening\", \"reopening_schools\", \"reply_stop_opt_time\", \"report\", \"report\", \"report\", \"report\", \"report\", \"report\", \"reported\", \"reported\", \"reported\", \"reported_hours\", \"reportedly\", \"reportedly\", \"reporting\", \"reporting\", \"reports\", \"reports\", \"reports\", \"reports_vmnews\", \"reports_vmnews_covidireland\", \"require\", \"require\", \"require\", \"require\", \"require\", \"researchers\", \"resident\", \"residents\", \"residents\", \"residents\", \"residents\", \"resources\", \"response\", \"response\", \"response\", \"restaurant\", \"restaurants\", \"restaurants\", \"restrictions\", \"restrictions\", \"result\", \"result\", \"result\", \"results\", \"resume\", \"resume\", \"resume\", \"resume\", \"return\", \"return\", \"return\", \"return\", \"return\", \"return\", \"returning\", \"revealed\", \"revealed\", \"revealed\", \"revealed\", \"reveals\", \"reveals\", \"reveals\", \"revenue\", \"rise\", \"rise\", \"risen\", \"rises\", \"rises\", \"rising\", \"rising\", \"rising\", \"risk\", \"risk\", \"risks\", \"risks\", \"roll\", \"rollout\", \"rollout\", \"rules\", \"rules\", \"run\", \"run\", \"run\", \"sa\", \"sabah\", \"sabcnews\", \"safe\", \"safe\", \"safe\", \"safety\", \"safety\", \"safety\", \"sales\", \"samples\", \"samples\", \"samples\", \"sarawak\", \"sarawak\", \"saturday\", \"saturday\", \"saturday\", \"sc\", \"scare\", \"schedule\", \"scheme\", \"scheme\", \"school\", \"school\", \"schools\", \"schools\", \"schools_reopen\", \"schools_reopen\", \"science\", \"science\", \"scientists\", \"screening\", \"season\", \"sector\", \"sector\", \"security\", \"seeks\", \"seeks\", \"sees\", \"self_isolating\", \"selling\", \"senate\", \"senate\", \"senator\", \"senators\", \"senators\", \"senior\", \"senior_citizens\", \"sept\", \"sept\", \"sept\", \"september\", \"september\", \"series\", \"series\", \"services\", \"services\", \"services\", \"services\", \"session\", \"set\", \"set\", \"set\", \"set\", \"set\", \"severe\", \"shares\", \"shares\", \"shares\", \"shares\", \"shares_details\", \"shares_details\", \"sharing\", \"shoppers\", \"shopping\", \"shopping\", \"shot\", \"shots\", \"shots\", \"shots\", \"showed\", \"showed\", \"showed\", \"showed\", \"shows\", \"shuts\", \"significant\", \"signs\", \"signs\", \"signs\", \"signs\", \"single_day\", \"single_day\", \"site\", \"situation\", \"situation\", \"situation\", \"slams\", \"small\", \"small_businesses\", \"social\", \"social_distancing\", \"social_distancing\", \"social_media\", \"social_media\", \"social_media\", \"son\", \"son\", \"sop\", \"sop\", \"sought\", \"sought\", \"sources\", \"south_african\", \"south_african\", \"south_africans\", \"speaks\", \"speaks\", \"special\", \"special\", \"special\", \"speech\", \"spending\", \"spending\", \"spike\", \"sports\", \"sports\", \"spread\", \"spreading\", \"spreading\", \"spreads\", \"spreads\", \"sputnik\", \"staff\", \"staff\", \"stands\", \"star\", \"star\", \"start\", \"starting\", \"starting\", \"starts\", \"starts\", \"starts\", \"starts\", \"state\", \"state\", \"state_emergency\", \"state_emergency\", \"states\", \"states\", \"status\", \"status\", \"stay\", \"stay_home\", \"stay_home\", \"stayhome\", \"stop_opt_time\", \"stories\", \"stories\", \"story\", \"story\", \"story\", \"strain\", \"strains\", \"stranded\", \"strategy\", \"strategy\", \"strategy\", \"strategy\", \"strategy\", \"street\", \"streets\", \"streets\", \"stress\", \"strict\", \"stricter\", \"struggle\", \"struggle\", \"struggle\", \"struggling\", \"student\", \"students\", \"studies\", \"study\", \"study_finds\", \"study_finds\", \"study_suggests\", \"suffer\", \"suggests\", \"summer\", \"summer\", \"sunday\", \"sunday\", \"supply\", \"support\", \"support\", \"supports\", \"surge\", \"surge\", \"surges\", \"surges\", \"surpassed\", \"surpassed\", \"survey\", \"survey\", \"survive\", \"suspected\", \"suspend\", \"suspend\", \"suspends\", \"suspends\", \"suspends\", \"symptoms\", \"system\", \"system\", \"system\", \"systems\", \"taking\", \"taking\", \"taking\", \"taking\", \"taking\", \"taking_total_number\", \"talks\", \"tally\", \"tally\", \"tally\", \"tamil_nadu\", \"teacher\", \"teachers\", \"team\", \"team\", \"telling\", \"test\", \"test\", \"test\", \"test\", \"test_kits\", \"test_positive\", \"test_positive\", \"test_positive\", \"test_positive\", \"test_positive\", \"test_results\", \"test_results\", \"tested\", \"tested_positive\", \"tested_positive\", \"testing\", \"testing_positive\", \"tests\", \"tests\", \"tests\", \"tests_negative\", \"tests_positive\", \"tests_positive\", \"tests_positive\", \"thecable\", \"thecable\", \"things\", \"things\", \"thousands\", \"thousands\", \"thousands\", \"thread\", \"thread\", \"thread\", \"thread\", \"threat\", \"threat\", \"thursday\", \"thursday\", \"thursday\", \"tier\", \"till\", \"time\", \"time\", \"time\", \"time\", \"time\", \"times\", \"times\", \"times\", \"today\", \"today\", \"today\", \"today\", \"today\", \"today\", \"tokyo_olympics\", \"told\", \"told\", \"told\", \"told\", \"told\", \"told\", \"toll\", \"toll\", \"tomorrow\", \"tomorrow\", \"tonight\", \"tonight\", \"total\", \"total\", \"total\", \"total_active_cases\", \"total_number\", \"tough\", \"tourism\", \"tourists\", \"tourists\", \"town\", \"town\", \"town\", \"track\", \"track\", \"track\", \"track_latest_news\", \"track_latest_news\", \"track_latest_news\", \"tracking_spread_coronavirus\", \"tracking_spread_coronavirus\", \"trade\", \"trade\", \"train\", \"transmission\", \"transport\", \"transport\", \"travel\", \"travel_ban\", \"travel_ban\", \"travel_ban\", \"travellers\", \"travellers\", \"travellers\", \"travelling\", \"travelling\", \"treat\", \"treatment\", \"trend\", \"trend\", \"trial\", \"trials\", \"trials\", \"triggered\", \"trudeau\", \"true\", \"trump\", \"trump\", \"trump_administration\", \"tuesday\", \"tv\", \"tweet\", \"twitter\", \"uganda\", \"uganda\", \"uk\", \"uk\", \"uk\", \"undergo\", \"undergo\", \"underway\", \"unemployment\", \"union_health_minister\", \"union_minister\", \"unit\", \"universities\", \"university\", \"university\", \"university\", \"unvaccinated\", \"update\", \"update_reply_stop_opt\", \"updates\", \"updates\", \"urge\", \"urge\", \"urge\", \"urged\", \"urges\", \"uttar_pradesh\", \"uttarakhand\", \"vaccinate\", \"vaccinate\", \"vaccinate\", \"vaccinated\", \"vaccination\", \"vaccination\", \"vaccination\", \"vaccination\", \"vaccination\", \"vaccination\", \"vaccination_drive\", \"vaccination_program\", \"vaccinations\", \"vaccinations\", \"vaccinations\", \"vaccinations\", \"vaccine\", \"vaccine\", \"vaccine\", \"vaccine\", \"vaccine_doses\", \"vaccine_doses\", \"vaccine_doses\", \"vaccine_doses\", \"vaccine_roll\", \"vaccine_rollout\", \"vaccine_rollout\", \"vaccine_rollout\", \"vaccines\", \"vaccines\", \"vaccines\", \"vaccines\", \"vaccines\", \"vanguardnews\", \"vanguardnews\", \"vanguardnews\", \"variant\", \"variants\", \"ventilators\", \"ventilators\", \"victim\", \"victims\", \"victims\", \"victoria\", \"victoria\", \"victoria_recorded_new\", \"victorian\", \"victorians\", \"video\", \"video\", \"videos\", \"view\", \"view\", \"violating\", \"violating\", \"virtual\", \"virtual\", \"virus\", \"virus\", \"virus\", \"visit\", \"visit\", \"visit\", \"visit\", \"visit\", \"visitors\", \"visitors\", \"vmnews\", \"vmnews\", \"vmnews\", \"vmnews_covidireland\", \"vote\", \"waiting\", \"waiting\", \"waiting\", \"wake\", \"wake\", \"wake\", \"wake\", \"war\", \"war\", \"warned\", \"warned\", \"warns\", \"warns\", \"warns\", \"warns\", \"watch\", \"watch_live\", \"watch_live\", \"watch_live_pm_boris\", \"water\", \"wave\", \"wear_mask\", \"wear_mask\", \"wear_mask\", \"wear_masks\", \"wearing_face_masks\", \"wearing_face_masks\", \"wearing_masks\", \"wearing_masks\", \"wedding\", \"wedding\", \"wedding\", \"wedding\", \"wednesday\", \"wednesday\", \"week\", \"weekend\", \"weekend\", \"weekend\", \"weekend\", \"weekend\", \"weeks\", \"weeks\", \"weeks\", \"weeks\", \"white_house\", \"wife\", \"wife\", \"woman\", \"women\", \"women\", \"women\", \"work\", \"work\", \"work\", \"work_home\", \"workers\", \"workers\", \"workers\", \"workers\", \"working\", \"working\", \"working\", \"working\", \"working_home\", \"working_home\", \"working_home\", \"world\", \"world\", \"world\", \"world\", \"world_health_organisation\", \"world_health_organisation\", \"world_health_organization\", \"world_health_organization\", \"world_health_organization\", \"worldwide\", \"worldwide\", \"worse\", \"worse\", \"worse\", \"worst\", \"worst\", \"worst\", \"worst\", \"writes\", \"writes\", \"wrong\", \"wrong\", \"year\", \"year\", \"year\", \"year\", \"year_old\", \"year_old\", \"year_old\", \"year_olds\", \"years\", \"years\", \"yesterday\", \"yesterday\", \"yesterday\", \"yesterday\", \"young\", \"young\", \"young_people\", \"young_people\", \"young_people\", \"yyc_covidab\", \"yyc_covidab\"]}, \"R\": 30, \"lambda.step\": 0.01, \"plot.opts\": {\"xlab\": \"PC1\", \"ylab\": \"PC2\"}, \"topic.order\": [20, 18, 15, 13, 4, 19, 11, 17, 16, 21, 6, 14, 8, 10, 9, 5, 3, 22, 7, 1, 23, 12, 2]};\n",
       "\n",
       "function LDAvis_load_lib(url, callback){\n",
       "  var s = document.createElement('script');\n",
       "  s.src = url;\n",
       "  s.async = true;\n",
       "  s.onreadystatechange = s.onload = callback;\n",
       "  s.onerror = function(){console.warn(\"failed to load library \" + url);};\n",
       "  document.getElementsByTagName(\"head\")[0].appendChild(s);\n",
       "}\n",
       "\n",
       "if(typeof(LDAvis) !== \"undefined\"){\n",
       "   // already loaded: just create the visualization\n",
       "   !function(LDAvis){\n",
       "       new LDAvis(\"#\" + \"ldavis_el1125624747842991527186997884\", ldavis_el1125624747842991527186997884_data);\n",
       "   }(LDAvis);\n",
       "}else if(typeof define === \"function\" && define.amd){\n",
       "   // require.js is available: use it to load d3/LDAvis\n",
       "   require.config({paths: {d3: \"https://d3js.org/d3.v5\"}});\n",
       "   require([\"d3\"], function(d3){\n",
       "      window.d3 = d3;\n",
       "      LDAvis_load_lib(\"https://cdn.jsdelivr.net/gh/bmabey/pyLDAvis@3.3.1/pyLDAvis/js/ldavis.v3.0.0.js\", function(){\n",
       "        new LDAvis(\"#\" + \"ldavis_el1125624747842991527186997884\", ldavis_el1125624747842991527186997884_data);\n",
       "      });\n",
       "    });\n",
       "}else{\n",
       "    // require.js not available: dynamically load d3 & LDAvis\n",
       "    LDAvis_load_lib(\"https://d3js.org/d3.v5.js\", function(){\n",
       "         LDAvis_load_lib(\"https://cdn.jsdelivr.net/gh/bmabey/pyLDAvis@3.3.1/pyLDAvis/js/ldavis.v3.0.0.js\", function(){\n",
       "                 new LDAvis(\"#\" + \"ldavis_el1125624747842991527186997884\", ldavis_el1125624747842991527186997884_data);\n",
       "            })\n",
       "         });\n",
       "}\n",
       "</script>"
      ],
      "text/plain": [
       "PreparedData(topic_coordinates=              x         y  topics  cluster      Freq\n",
       "topic                                               \n",
       "19     0.204070  0.336785       1        1  4.419006\n",
       "17     0.109559  0.007884       2        1  4.399003\n",
       "14     0.193997  0.318699       3        1  4.369862\n",
       "12     0.104586  0.079593       4        1  4.369282\n",
       "3      0.108431 -0.099069       5        1  4.365466\n",
       "18     0.117056 -0.039680       6        1  4.363249\n",
       "10     0.016487 -0.212723       7        1  4.362993\n",
       "16     0.077735 -0.066748       8        1  4.362656\n",
       "15     0.102666 -0.108636       9        1  4.361927\n",
       "20     0.124977 -0.085855      10        1  4.360161\n",
       "5      0.044918 -0.223303      11        1  4.353628\n",
       "13    -0.156030  0.033315      12        1  4.351093\n",
       "7      0.105589 -0.064210      13        1  4.342540\n",
       "9     -0.069597  0.041325      14        1  4.341410\n",
       "8      0.090788 -0.091289      15        1  4.339815\n",
       "4     -0.176421 -0.051125      16        1  4.333398\n",
       "2     -0.199272  0.129657      17        1  4.332336\n",
       "21     0.116941 -0.047077      18        1  4.329737\n",
       "6      0.016458  0.001324      19        1  4.320769\n",
       "0     -0.211138 -0.079101      20        1  4.309992\n",
       "22    -0.190717  0.045047      21        1  4.304308\n",
       "11    -0.225562  0.088926      22        1  4.304300\n",
       "1     -0.305519  0.086263      23        1  4.303069, topic_info=             Term           Freq          Total Category  logprob  loglift\n",
       "1     coronavirus  463803.000000  463803.000000  Default  30.0000  30.0000\n",
       "0           cases  208943.000000  208943.000000  Default  29.0000  29.0000\n",
       "105      lockdown  145792.000000  145792.000000  Default  28.0000  28.0000\n",
       "156       vaccine  117331.000000  117331.000000  Default  27.0000  27.0000\n",
       "293      pandemic  175302.000000  175302.000000  Default  26.0000  26.0000\n",
       "...           ...            ...            ...      ...      ...      ...\n",
       "491       control    2177.411700    5168.703716  Topic23  -5.1197   2.2814\n",
       "888       prepare    1833.492314    3250.144714  Topic23  -5.2916   2.5734\n",
       "40      need_know    2085.848747    5583.685938  Topic23  -5.1627   2.1612\n",
       "1630        north    1614.634522    2400.141460  Topic23  -5.4187   2.7494\n",
       "231     emergency    1748.629089    6525.698694  Topic23  -5.3390   1.8289\n",
       "\n",
       "[1253 rows x 6 columns], token_table=      Topic      Freq          Term\n",
       "term                               \n",
       "621       7  0.000941        abroad\n",
       "621      15  0.999145        abroad\n",
       "1579      1  0.996870        active\n",
       "1579      3  0.003277        active\n",
       "2079      1  1.000046  active_cases\n",
       "...     ...       ...           ...\n",
       "833       7  0.037393  young_people\n",
       "833      11  0.961535  young_people\n",
       "833      14  0.001233  young_people\n",
       "2125     14  0.000909   yyc_covidab\n",
       "2125     17  0.998590   yyc_covidab\n",
       "\n",
       "[2308 rows x 3 columns], R=30, lambda_step=0.01, plot_opts={'xlab': 'PC1', 'ylab': 'PC2'}, topic_order=[20, 18, 15, 13, 4, 19, 11, 17, 16, 21, 6, 14, 8, 10, 9, 5, 3, 22, 7, 1, 23, 12, 2])"
      ]
     },
     "execution_count": 23,
     "metadata": {},
     "output_type": "execute_result"
    }
   ],
   "source": [
    "# Visualize the topics\n",
    "pyLDAvis.enable_notebook()\n",
    "vis = pyLDAvis.gensim_models.prepare(model, corpus, dictionary)\n",
    "vis"
   ]
  },
  {
   "cell_type": "markdown",
   "metadata": {},
   "source": [
    "### Selected model coherence"
   ]
  },
  {
   "cell_type": "code",
   "execution_count": 24,
   "metadata": {},
   "outputs": [],
   "source": [
    "m_coherence = CoherenceModel(model=ldamallet, texts=docs, dictionary=dictionary, coherence='c_v')\n",
    "m_coherence_general = m_coherence.get_coherence()\n",
    "m_coherence_per_topic = m_coherence.get_coherence_per_topic()"
   ]
  },
  {
   "cell_type": "code",
   "execution_count": 25,
   "metadata": {},
   "outputs": [
    {
     "data": {
      "text/plain": [
       "0     35.88\n",
       "1     44.75\n",
       "2     42.59\n",
       "3     39.55\n",
       "4     54.56\n",
       "5     52.17\n",
       "6     35.88\n",
       "7     51.21\n",
       "8     45.32\n",
       "9     50.20\n",
       "10    53.96\n",
       "11    35.31\n",
       "12    57.63\n",
       "13    40.25\n",
       "14    61.12\n",
       "15    54.37\n",
       "16    42.50\n",
       "17    51.30\n",
       "18    69.75\n",
       "19    73.74\n",
       "20    48.83\n",
       "21    45.78\n",
       "22    44.25\n",
       "dtype: float64"
      ]
     },
     "execution_count": 25,
     "metadata": {},
     "output_type": "execute_result"
    }
   ],
   "source": [
    "pd.Series(np.round(np.array(m_coherence_per_topic) * 100,2))"
   ]
  },
  {
   "cell_type": "code",
   "execution_count": 26,
   "metadata": {},
   "outputs": [
    {
     "data": {
      "text/plain": [
       "0.4916932266272104"
      ]
     },
     "execution_count": 26,
     "metadata": {},
     "output_type": "execute_result"
    }
   ],
   "source": [
    "m_coherence_general"
   ]
  },
  {
   "cell_type": "markdown",
   "metadata": {},
   "source": [
    "### Topics prevalence"
   ]
  },
  {
   "cell_type": "code",
   "execution_count": 28,
   "metadata": {},
   "outputs": [
    {
     "data": {
      "text/plain": [
       "0     9.314335\n",
       "1     8.384231\n",
       "2     6.979610\n",
       "3     6.243969\n",
       "4     5.902769\n",
       "5     5.620632\n",
       "6     4.827767\n",
       "7     4.966232\n",
       "8     4.453483\n",
       "9     4.265882\n",
       "10    3.847608\n",
       "11    3.436196\n",
       "12    3.775557\n",
       "13    2.630097\n",
       "14    3.953356\n",
       "15    2.582247\n",
       "16    2.463449\n",
       "17    2.226650\n",
       "18    4.150025\n",
       "19    3.474243\n",
       "20    1.748885\n",
       "21    2.705763\n",
       "22    2.047013\n",
       "Name: num_topic, dtype: float64"
      ]
     },
     "execution_count": 28,
     "metadata": {},
     "output_type": "execute_result"
    }
   ],
   "source": [
    "df_iter = ldamallet.load_document_topics()\n",
    "df = []\n",
    "for k in df_iter:\n",
    "    df.append([i[1] for i in k])\n",
    "df = pd.DataFrame(df, columns=[fr'topic_{k}' for k in range(23)])\n",
    "df['topic'] = df.idxmax(axis=1)\n",
    "df['num_topic'] = df.topic.apply(lambda x: int(x.replace('topic_','')))\n",
    "df['tweet_id'] = news_tweets.tweet_id.values\n",
    "df.to_csv('./../data/processed/news_tweets_topics_290322.csv', index=False)\n",
    "df.num_topic.value_counts(normalize=True).sort_index() * 100"
   ]
  },
  {
   "cell_type": "code",
   "execution_count": 58,
   "metadata": {},
   "outputs": [],
   "source": [
    "lda_topic_desc = pd.DataFrame([])\n",
    "for topic in range(23):\n",
    "    s = \"_\".join([dictionary[x] for x in [a[0] for a in model.get_topic_terms(topic,10)]])\n",
    "    lda_topic_desc = lda_topic_desc.append({'topic_lda':topic, \"lda_description\":s}, ignore_index=True)\n",
    "lda_topic_desc.topic_lda = lda_topic_desc.topic_lda.astype(int)"
   ]
  },
  {
   "cell_type": "code",
   "execution_count": 59,
   "metadata": {},
   "outputs": [],
   "source": [
    "lda_topic_desc.to_csv('./../data/processed/lda_topic_description.csv', index=False)"
   ]
  },
  {
   "cell_type": "markdown",
   "metadata": {},
   "source": [
    "### Topics keywords"
   ]
  },
  {
   "cell_type": "code",
   "execution_count": null,
   "metadata": {
    "tags": []
   },
   "outputs": [],
   "source": [
    "pprint(model.print_topics())"
   ]
  },
  {
   "cell_type": "code",
   "execution_count": null,
   "metadata": {
    "tags": []
   },
   "outputs": [],
   "source": [
    "df_words = pd.DataFrame([])\n",
    "topic_words = pd.DataFrame(columns=['topic', 'words'])\n",
    "for topic in range(20):\n",
    "    tmp = pd.DataFrame(model.get_topic_terms(topic,35), columns=['wordid','imp'])\n",
    "    tmp['topic'] = topic\n",
    "    tmp['word'] = tmp.wordid.apply(lambda x: dictionary[x])\n",
    "    df_words = pd.concat([df_words, tmp])\n",
    "    topic_words.loc[len(topic_words)] = [topic, (list(tmp.word.values))]\n",
    "(topic_words.words.values)"
   ]
  },
  {
   "cell_type": "markdown",
   "metadata": {},
   "source": [
    "### Themes"
   ]
  },
  {
   "cell_type": "code",
   "execution_count": null,
   "metadata": {},
   "outputs": [],
   "source": [
    "topic2theme = pd.DataFrame({\n",
    "    'topic':[fr'topic_{k}' for k in range(20)], \n",
    "    'theme':[8,5,6,6,1,5,7,2,4,1,6,6,5,2,5,7,1,5,2,3]\n",
    "})\n",
    "df = df.merge(topic2theme, how='left')"
   ]
  },
  {
   "cell_type": "code",
   "execution_count": null,
   "metadata": {},
   "outputs": [],
   "source": [
    "themes_keywords = []\n",
    "for theme_id in range(1,9):\n",
    "    theme = [int(t.replace('topic_', '')) for t in list(topic2theme[topic2theme.theme==theme_id].topic.values)]\n",
    "    theme_words_tmp = pd.DataFrame()\n",
    "    for topic in theme:\n",
    "        tmp = pd.DataFrame(model.get_topic_terms(topic,40), columns=['wordid','imp'])\n",
    "        theme_words_tmp = pd.concat([theme_words_tmp, tmp])\n",
    "    theme_words_tmp = theme_words_tmp.sort_values('imp', ascending=False)\n",
    "    theme_words_tmp['wordid'] = theme_words_tmp.wordid.apply(lambda x: dictionary[x])\n",
    "    themes_keywords = themes_keywords + [list(theme_words_tmp.drop_duplicates('wordid').wordid.values[:40])]"
   ]
  },
  {
   "cell_type": "code",
   "execution_count": null,
   "metadata": {
    "tags": []
   },
   "outputs": [],
   "source": [
    "ch2 = CoherenceModel(topics=themes_keywords, texts=docs, dictionary=dictionary, coherence='c_v')"
   ]
  },
  {
   "cell_type": "code",
   "execution_count": null,
   "metadata": {},
   "outputs": [],
   "source": [
    "cm = ch2.get_coherence()\n",
    "ct = ch2.get_coherence_per_topic()"
   ]
  },
  {
   "cell_type": "code",
   "execution_count": null,
   "metadata": {},
   "outputs": [],
   "source": [
    "ct"
   ]
  },
  {
   "cell_type": "code",
   "execution_count": null,
   "metadata": {},
   "outputs": [],
   "source": [
    "cm"
   ]
  },
  {
   "cell_type": "code",
   "execution_count": null,
   "metadata": {},
   "outputs": [],
   "source": [
    "df.theme.value_counts(normalize=True)"
   ]
  },
  {
   "cell_type": "code",
   "execution_count": null,
   "metadata": {},
   "outputs": [],
   "source": [
    "theme_id = 8\n",
    "theme = [int(t.replace('topic_', '')) for t in list(topic2theme[topic2theme.theme==theme_id].topic.values)]\n",
    "np.array(list(dict.fromkeys(df_words[df_words.topic.isin(theme)].word.values)))"
   ]
  },
  {
   "cell_type": "markdown",
   "metadata": {},
   "source": [
    "### Subthemes"
   ]
  },
  {
   "cell_type": "code",
   "execution_count": null,
   "metadata": {},
   "outputs": [],
   "source": [
    "subthemes = [\n",
    "    (1,11,['rise', 'increase', 'high', 'spike', 'jump', 'reach', 'double', 'climb', 'soar', 'record_high', 'death_toll_rise', 'peak', 'hit', 'high_daily', 'top', 'exceed', 'high_single_day', 'tally_rise']),\n",
    "    (1,12,['low', 'drop', 'fall', 'dip', 'decrease']),\n",
    "    (2,21,['worker', 'plan', 'work', 'support', 'free', 'job', 'employee', 'food', 'citizen', 'congress', 'poor', 'protect', 'people', 'vulnerable', 'household', 'essential', 'loan', 'small_business', 'lose_job', 'donation', 'employer', 'assistance', 'job_loss']),\n",
    "    (2,22,['impact', 'business', 'government', 'economy', 'global', 'demand', 'market', 'company', 'industry', 'cut', 'aid', 'budget', 'sector', 'boost', 'bank', 'bill', 'stock', 'quarter', 'trade', 'law', 'growth', 'lawmaker', 'office', 'relief_bill', 'supreme_court', 'economic_recovery', 'debt', 'profit', 'relief_package', 'global_economy', 'stimulus_package', 'world_bank', 'relief_fund', 'organisation']),\n",
    "    (4,41,['nurse_home', 'care_home']),\n",
    "    (4,42,['mental_health']),\n",
    "    (4,43,['jail', 'prison', 'cop', 'inmate']),\n",
    "    (4,44,['family', 'couple', 'wife', 'mother', 'son', 'daughter', 'husband', 'father', 'mum', 'baby', 'dad']),\n",
    "    (5,51,['health_official', 'health_minister', 'expert', 'task_force', 'public_health', 'dr_anthony_fauci', 'chief_medical_officer']),\n",
    "    (5,52,['trump', 'pm', 'president', 'president_trump', 'minister', 'white_house', 'leader', 'pm_modi', 'governor', 'govt', 'president_donald_trump', 'donald_trump', 'administration', 'federal', 'biden', 'mp', 'joe_biden', 'trudeau', 'trump_administration', 'pm_narendra_modi', 'leadership', 'pres_trump', 'prime_minister_justin_trudeau', 'opposition', 'government']),\n",
    "    (5,53,['election', 'poll', 'debate', 'voter']),\n",
    "    (6,61,['lockdown', 'restriction', 'quarantine', 'police', 'rule', 'impose', 'protocol', 'quarantine_facility', 'mandatory', 'community_quarantine', 'stay_home_order', 'containment_zone', 'covidquarantine', 'quarantine_period']),\n",
    "    (6,62,['travel', 'passenger', 'flight', 'airport', 'plan', 'airline', 'tourism', 'fly', 'traveller', 'travel_ban', 'trip', 'vaccine_passport']),\n",
    "    (6,63,['protest', 'anti', 'break', 'arrest', 'fine', 'protester']),\n",
    "    (6,64,['social_distance', 'mask', 'wear_mask', 'social_distance_measure']),\n",
    "    (6,65,['christmas', 'holiday', 'easter']),\n",
    "    (6,66,['ease', 'relax', 'restriction_ease', 'ease_restriction', 'slow_spread']),\n",
    "    (7,71,['outbreak', 'fear', 'chinese', 'detect', 'epidemic', 'suspect', 'emerge', 'panic', 'epicentre', 'animal', 'origin', 'china', 'epicenter']),\n",
    "    (7,72,['hospital', 'study', 'treatment', 'research', 'lab', 'expert', 'cure', 'researcher', 'scientist', 'ventilator', 'study_find', 'medicine', 'scientists', 'private_hospital', 'expert_warn', 'oxygen', 'researchers', 'intensive_care', 'study_show', 'hospitals', 'palliative']),\n",
    "    (7,73,['variant', 'wave', 'strain', 'mutation']),\n",
    "    (7,74,['doctor', 'medical', 'healthcare_worker', 'health_worker', 'doctors', 'health_care_worker'])\n",
    "]"
   ]
  },
  {
   "cell_type": "code",
   "execution_count": null,
   "metadata": {},
   "outputs": [],
   "source": [
    "for col in [fr'subtheme{subtheme[1]}' for subtheme in subthemes]:\n",
    "    df[col] = False"
   ]
  },
  {
   "cell_type": "code",
   "execution_count": null,
   "metadata": {},
   "outputs": [],
   "source": [
    "for k in range(1,9):\n",
    "    subthemes_desc = [subtheme for subtheme in subthemes if subtheme[0]==k]\n",
    "    if len(subthemes_desc)>0:\n",
    "        indices = list(df[df.theme==k].index)\n",
    "        topic_docs = [docs[i] for i in indices]\n",
    "        for subtheme_desc in subthemes_desc:\n",
    "            kw = subtheme_desc[2]\n",
    "            t = [ind for k, ind in enumerate(indices) if any(i in topic_docs[k] for i in kw)]\n",
    "            df.loc[t,fr'subtheme{subtheme_desc[1]}'] = True"
   ]
  },
  {
   "cell_type": "code",
   "execution_count": null,
   "metadata": {},
   "outputs": [],
   "source": [
    "df[[fr'subtheme{subtheme[1]}' for subtheme in subthemes]].sum()"
   ]
  },
  {
   "cell_type": "code",
   "execution_count": null,
   "metadata": {},
   "outputs": [],
   "source": [
    "df.to_parquet('./../data/processed/news_tweets_topics_0612.parquet', compression='gzip', index=False)"
   ]
  },
  {
   "cell_type": "code",
   "execution_count": null,
   "metadata": {},
   "outputs": [],
   "source": [
    "df"
   ]
  },
  {
   "cell_type": "markdown",
   "metadata": {},
   "source": [
    "# Trunk"
   ]
  },
  {
   "cell_type": "code",
   "execution_count": null,
   "metadata": {},
   "outputs": [],
   "source": [
    "vis.sorted_terms(1, 0.64).Term.values"
   ]
  },
  {
   "cell_type": "code",
   "execution_count": null,
   "metadata": {},
   "outputs": [],
   "source": [
    "model.get_term_topics(1)"
   ]
  },
  {
   "cell_type": "code",
   "execution_count": null,
   "metadata": {},
   "outputs": [],
   "source": [
    "list(dictionary.values)"
   ]
  },
  {
   "cell_type": "code",
   "execution_count": null,
   "metadata": {},
   "outputs": [],
   "source": [
    "with open(\"data_pp.pickle\", \"rb\") as fp:   # Unpickling\n",
    "    b = pickle.load(fp)"
   ]
  },
  {
   "cell_type": "code",
   "execution_count": null,
   "metadata": {},
   "outputs": [],
   "source": [
    "themes_keywords2 = []\n",
    "for theme in themes:\n",
    "    theme_words_tmp = pd.DataFrame()\n",
    "    for topic in theme:\n",
    "        tmp = pd.DataFrame(model.get_topic_terms(topic,50), columns=['wordid','imp'])\n",
    "        theme_words_tmp = pd.concat([theme_words_tmp, tmp])\n",
    "    theme_words_tmp = theme_words_tmp.sort_values('imp', ascending=False)\n",
    "    theme_words_tmp['wordid'] = theme_words_tmp.wordid.apply(lambda x: d[x])\n",
    "    themes_keywords2 = themes_keywords2 + [list(theme_words_tmp.drop_duplicates('wordid').wordid.values[:50])]"
   ]
  },
  {
   "cell_type": "code",
   "execution_count": null,
   "metadata": {
    "tags": []
   },
   "outputs": [],
   "source": [
    "themes_keywords2[3]"
   ]
  },
  {
   "cell_type": "code",
   "execution_count": null,
   "metadata": {},
   "outputs": [],
   "source": [
    "df_iter = ldamallet.load_document_topics()\n",
    "df = []\n",
    "for k in df_iter:\n",
    "    df.append([i[1] for i in k])\n",
    "df = pd.DataFrame(df, columns=[fr'topic_{k}' for k in range(20)])"
   ]
  },
  {
   "cell_type": "code",
   "execution_count": null,
   "metadata": {},
   "outputs": [],
   "source": [
    "df['topic'] = df.idxmax(axis=1)\n",
    "df"
   ]
  },
  {
   "cell_type": "code",
   "execution_count": null,
   "metadata": {},
   "outputs": [],
   "source": [
    "df_iter = ldamallet.load_document_topics()\n",
    "df = []\n",
    "for k in df_iter:\n",
    "    df.append([i[1] for i in k])\n",
    "df = pd.DataFrame(df, columns=[fr'topic_{k}' for k in range(20)])\n",
    "df['topic'] = df.idxmax(axis=1)"
   ]
  },
  {
   "cell_type": "code",
   "execution_count": null,
   "metadata": {},
   "outputs": [],
   "source": [
    "topic2theme = pd.DataFrame({\n",
    "    'topic':[fr'topic_{k}' for k in range(20)], \n",
    "    'theme':[7,3,2,1,2,1,2,5,7,6,6,6,5,7,5,8,1,4,4,6]\n",
    "})\n",
    "\n",
    "df = df.merge(topic2theme, how='left')"
   ]
  },
  {
   "cell_type": "code",
   "execution_count": null,
   "metadata": {},
   "outputs": [],
   "source": [
    "for col in [fr'subtheme{subtheme[1]}' for subtheme in subthemes]:\n",
    "    df[col] = False"
   ]
  },
  {
   "cell_type": "code",
   "execution_count": null,
   "metadata": {},
   "outputs": [],
   "source": [
    "for k in range(1,9):\n",
    "    subthemes_desc = [subtheme for subtheme in subthemes if subtheme[0]==k]\n",
    "    if len(subthemes_desc)>0:\n",
    "        indices = list(df[df.theme==k].index)\n",
    "        topic_docs = [b[0][i] for i in indices]\n",
    "        for subtheme_desc in subthemes_desc:\n",
    "            kw = subtheme_desc[2]\n",
    "            t = [ind for k, ind in enumerate(indices) if any(i in topic_docs[k] for i in kw)]\n",
    "            df.loc[t,fr'subtheme{subtheme_desc[1]}'] = True"
   ]
  },
  {
   "cell_type": "code",
   "execution_count": null,
   "metadata": {},
   "outputs": [],
   "source": [
    "tweets.tweetId.values"
   ]
  },
  {
   "cell_type": "code",
   "execution_count": null,
   "metadata": {},
   "outputs": [],
   "source": [
    "df['tweetId'] = tweets.tweetId.values"
   ]
  },
  {
   "cell_type": "code",
   "execution_count": null,
   "metadata": {},
   "outputs": [],
   "source": [
    "df[[fr'topic_{k}' for k in range(20)]].max(axis=1).max()"
   ]
  },
  {
   "cell_type": "code",
   "execution_count": null,
   "metadata": {},
   "outputs": [],
   "source": [
    "df.shape[0]"
   ]
  },
  {
   "cell_type": "code",
   "execution_count": null,
   "metadata": {},
   "outputs": [],
   "source": [
    "tweets[tweets.tweetId.isin(df[df.subtheme73].tweetId.values)].sample(25).content.values"
   ]
  },
  {
   "cell_type": "code",
   "execution_count": null,
   "metadata": {
    "tags": []
   },
   "outputs": [],
   "source": [
    "# Train model\n",
    "ldamallet = gensim.models.wrappers.LdaMallet(mallet_path, corpus=corpus, num_topics=20, id2word=id2word, random_seed=50)\n",
    "model = gensim.models.wrappers.ldamallet.malletmodel2ldamodel(ldamallet)\n",
    "temp_file = datapath(\"model\")\n",
    "ldamallet.save(temp_file)\n",
    "\n",
    "# Visualize the topics\n",
    "pyLDAvis.enable_notebook()\n",
    "vis = pyLDAvis.gensim_models.prepare(model, corpus, dictionary)\n",
    "vis"
   ]
  },
  {
   "cell_type": "code",
   "execution_count": null,
   "metadata": {},
   "outputs": [],
   "source": [
    "# Compute Coherence Score\n",
    "coherence_model_ldamallet = CoherenceModel(model=ldamallet, texts=docs, dictionary=dictionary, coherence='c_v')\n",
    "coherence_ldamallet = coherence_model_ldamallet.get_coherence()\n",
    "print('\\nCoherence Score: ', coherence_ldamallet)"
   ]
  },
  {
   "cell_type": "code",
   "execution_count": null,
   "metadata": {
    "tags": []
   },
   "outputs": [],
   "source": [
    "# Train model\n",
    "ldamallet = gensim.models.wrappers.LdaMallet(mallet_path, corpus=corpus, num_topics=20, id2word=id2word)\n",
    "model = gensim.models.wrappers.ldamallet.malletmodel2ldamodel(ldamallet)\n",
    "\n",
    "# Visualize the topics\n",
    "pyLDAvis.enable_notebook()\n",
    "vis = pyLDAvis.gensim_models.prepare(model, corpus, dictionary)\n",
    "vis"
   ]
  },
  {
   "cell_type": "code",
   "execution_count": null,
   "metadata": {
    "tags": []
   },
   "outputs": [],
   "source": [
    "pprint(model.print_topics())\n",
    "doc_lda = model[corpus]"
   ]
  },
  {
   "cell_type": "code",
   "execution_count": null,
   "metadata": {
    "tags": []
   },
   "outputs": [],
   "source": [
    "# Compute Coherence Score\n",
    "coherence_model_ldamallet = CoherenceModel(model=ldamallet, texts=docs, dictionary=dictionary, coherence='c_v')\n",
    "coherence_ldamallet = coherence_model_ldamallet.get_coherence()\n",
    "print('\\nCoherence Score: ', coherence_ldamallet)"
   ]
  },
  {
   "cell_type": "code",
   "execution_count": null,
   "metadata": {},
   "outputs": [],
   "source": [
    "1"
   ]
  },
  {
   "cell_type": "code",
   "execution_count": null,
   "metadata": {},
   "outputs": [],
   "source": [
    "ldamallet[corpus[10]]"
   ]
  },
  {
   "cell_type": "code",
   "execution_count": null,
   "metadata": {
    "tags": []
   },
   "outputs": [],
   "source": [
    "# Compute tweets topics\n",
    "def format_topics_sentences(ldamodel, corpus, texts):\n",
    "    # Init output\n",
    "    sent_topics_df = pd.DataFrame()\n",
    "\n",
    "    # Get main topic in each document\n",
    "    for i, row in enumerate(ldamodel[corpus]):\n",
    "        row = sorted(row, key=lambda x: (x[1]), reverse=True)\n",
    "        # Get the Dominant topic, Perc Contribution and Keywords for each document\n",
    "        for j, (topic_num, prop_topic) in enumerate(row):\n",
    "            if j == 0:  # => dominant topic\n",
    "                wp = ldamodel.show_topic(topic_num)\n",
    "                topic_keywords = \", \".join([word for word, prop in wp])\n",
    "                sent_topics_df = sent_topics_df.append(pd.Series([int(topic_num), round(prop_topic,4), topic_keywords]), ignore_index=True)\n",
    "            else:\n",
    "                break\n",
    "    sent_topics_df.columns = ['Dominant_Topic', 'Perc_Contribution', 'Topic_Keywords']\n",
    "\n",
    "    # Add original text to the end of the output\n",
    "    contents = pd.Series(texts)\n",
    "    sent_topics_df = pd.concat([sent_topics_df, contents], axis=1)\n",
    "    return(sent_topics_df)\n",
    "\n",
    "\n",
    "df_topic_sents_keywords = format_topics_sentences(ldamodel=ldamallet, corpus=corpus, texts=list(tweets.content))\n",
    "\n",
    "# Format\n",
    "df = df_topic_sents_keywords.reset_index()\n",
    "df.columns = ['Document_No', 'Dominant_Topic', 'Topic_Perc_Contrib', 'Keywords', 'Text']\n",
    "df.to_csv('tweets_topics2.csv')\n",
    "\n",
    "# Show\n",
    "df.head(5)"
   ]
  },
  {
   "cell_type": "code",
   "execution_count": null,
   "metadata": {},
   "outputs": [],
   "source": [
    "df = pd.read_csv('tweets_topics2.csv')"
   ]
  },
  {
   "cell_type": "code",
   "execution_count": null,
   "metadata": {},
   "outputs": [],
   "source": [
    "df[df.Topic_Perc_Contrib==0.05]"
   ]
  },
  {
   "cell_type": "code",
   "execution_count": null,
   "metadata": {
    "tags": []
   },
   "outputs": [],
   "source": [
    "indices = list(df_dominant_topic[df_dominant_topic.Dominant_Topic==2.0].Document_No)\n",
    "topic_docs = [docs[i] for i in indices]\n",
    "\n",
    "kw = ['low', 'fall', 'drop', 'decline']\n",
    "t = [ind for k, ind in enumerate(indices) if any(i in topic_docs[k] for i in kw)]\n",
    "len(t)"
   ]
  },
  {
   "cell_type": "code",
   "execution_count": null,
   "metadata": {},
   "outputs": [],
   "source": [
    "(df.Dominant_Topic.value_counts() / df.shape[0]).sort_index()"
   ]
  },
  {
   "cell_type": "code",
   "execution_count": null,
   "metadata": {},
   "outputs": [],
   "source": [
    "# Group top 5 sentences under each topic\n",
    "sent_topics_sorteddf_mallet = pd.DataFrame()\n",
    "\n",
    "sent_topics_outdf_grpd = df_topic_sents_keywords.groupby('Dominant_Topic')\n",
    "\n",
    "for i, grp in sent_topics_outdf_grpd:\n",
    "    sent_topics_sorteddf_mallet = pd.concat([sent_topics_sorteddf_mallet, \n",
    "                                             grp.sort_values(['Perc_Contribution'], ascending=[0]).head(10)], \n",
    "                                            axis=0)\n",
    "\n",
    "# Reset Index    \n",
    "sent_topics_sorteddf_mallet.reset_index(drop=True, inplace=True)\n",
    "\n",
    "# Format\n",
    "sent_topics_sorteddf_mallet.columns = ['Topic_Num', \"Topic_Perc_Contrib\", \"Keywords\", \"Text\"]\n",
    "sent_topics_sorteddf_mallet.to_csv('relevant_topics2.csv', sep=\"|\")"
   ]
  },
  {
   "cell_type": "code",
   "execution_count": null,
   "metadata": {},
   "outputs": [],
   "source": [
    "sent_topics_sorteddf_mallet[sent_topics_sorteddf_mallet.Topic_Num==19.0].Text.values"
   ]
  },
  {
   "cell_type": "code",
   "execution_count": null,
   "metadata": {},
   "outputs": [],
   "source": [
    "topic_desc = pd.read_csv('topic_desc.csv', sep=';')"
   ]
  },
  {
   "cell_type": "code",
   "execution_count": null,
   "metadata": {
    "tags": []
   },
   "outputs": [],
   "source": [
    "# required: tweets, df, docs\n",
    "tweets['theme'] = np.nan\n",
    "for topic in topic_desc.topic.unique():\n",
    "    topic_themes = topic_desc[topic_desc.topic==topic]\n",
    "    non_default = []\n",
    "    for index, row in topic_themes[topic_themes.default=='F'].iterrows():\n",
    "        kw = row.keywords.replace(' ', '').split(',')\n",
    "        t = [k for k in df[df.Dominant_Topic==topic].Document_No.values if any(i in kw for i in docs[k])]\n",
    "        tweets.loc[t, 'theme'] = row.theme_id\n",
    "        non_default = non_default + t\n",
    "    topic_tweets = [k for k in df[df.Dominant_Topic==topic].Document_No.values]\n",
    "    topic_tweets = np.setdiff1d(topic_tweets,non_default)\n",
    "    tweets.loc[topic_tweets, 'theme'] = topic_themes[topic_themes.default=='T'].theme_id.unique()[0]"
   ]
  },
  {
   "cell_type": "code",
   "execution_count": null,
   "metadata": {},
   "outputs": [],
   "source": [
    "topic_themes.themes.unique()[0]"
   ]
  },
  {
   "cell_type": "code",
   "execution_count": null,
   "metadata": {},
   "outputs": [],
   "source": [
    "topic = 11\n",
    "topic_themes = topic_desc[topic_desc.topic==topic]\n",
    "non_default = []"
   ]
  },
  {
   "cell_type": "code",
   "execution_count": null,
   "metadata": {},
   "outputs": [],
   "source": [
    "topic_themes"
   ]
  },
  {
   "cell_type": "code",
   "execution_count": null,
   "metadata": {},
   "outputs": [],
   "source": [
    "topic_desc"
   ]
  },
  {
   "cell_type": "code",
   "execution_count": null,
   "metadata": {},
   "outputs": [],
   "source": [
    "topic = 10\n",
    "topic_desc[topic_desc.topic==topic]"
   ]
  },
  {
   "cell_type": "code",
   "execution_count": null,
   "metadata": {},
   "outputs": [],
   "source": [
    "topic = 1\n",
    "topic_themes = topic_desc[topic_desc.topic==topic]\n",
    "non_default = []\n",
    "for index, row in topic_themes[topic_themes.default=='F'].iterrows():\n",
    "    kw = row.keywords.replace(' ', '').split(',')\n",
    "    t = [k for k in df[df.Dominant_Topic==topic].Document_No.values if any(i in kw for i in docs[k])]\n",
    "    print(row.themes, len(t))"
   ]
  },
  {
   "cell_type": "code",
   "execution_count": null,
   "metadata": {},
   "outputs": [],
   "source": []
  },
  {
   "cell_type": "code",
   "execution_count": null,
   "metadata": {},
   "outputs": [],
   "source": [
    "topic = 1\n",
    "for topic in topic_desc.topic.unique():\n",
    "    topic_themes = topic_desc[topic_desc.topic==topic]\n",
    "    non_default = []\n",
    "    for index, row in topic_themes[topic_themes.default=='F'].iterrows():\n",
    "        kw = row.keywords.replace(' ', '').split(',')\n",
    "        t = [k for k in df[df.Dominant_Topic==topic].Document_No.values if any(i in kw for i in docs[k])]\n",
    "        print(row.themes, len(t))"
   ]
  },
  {
   "cell_type": "code",
   "execution_count": null,
   "metadata": {},
   "outputs": [],
   "source": [
    "tweets[tweets.theme=='Elections'].content[:10].values"
   ]
  },
  {
   "cell_type": "code",
   "execution_count": null,
   "metadata": {},
   "outputs": [],
   "source": [
    "tweets[['tweetId', 'theme']].to_parquet('news_tweets_topics.parquet', compression='gzip', index=False)"
   ]
  },
  {
   "cell_type": "code",
   "execution_count": null,
   "metadata": {},
   "outputs": [],
   "source": [
    "tweets.theme.value_counts() / tweets.shape[0]"
   ]
  },
  {
   "cell_type": "code",
   "execution_count": null,
   "metadata": {},
   "outputs": [],
   "source": [
    "topic_desc.topic.unique()"
   ]
  },
  {
   "cell_type": "code",
   "execution_count": null,
   "metadata": {},
   "outputs": [],
   "source": [
    "tweets.theme.isnull().sum()"
   ]
  },
  {
   "cell_type": "code",
   "execution_count": null,
   "metadata": {},
   "outputs": [],
   "source": [
    "topic_desc.keywords[20]"
   ]
  },
  {
   "cell_type": "code",
   "execution_count": null,
   "metadata": {},
   "outputs": [],
   "source": [
    "docs[92]"
   ]
  },
  {
   "cell_type": "code",
   "execution_count": null,
   "metadata": {},
   "outputs": [],
   "source": [
    "tweets[tweets.theme=='People violating mobility restrictions or protesting against them'].sample(frac=1).head(10).content.values"
   ]
  },
  {
   "cell_type": "code",
   "execution_count": null,
   "metadata": {},
   "outputs": [],
   "source": [
    "(tweets.theme.nunique())"
   ]
  },
  {
   "cell_type": "code",
   "execution_count": null,
   "metadata": {},
   "outputs": [],
   "source": [
    "df[df.Dominant_Topic==3.0]"
   ]
  }
 ],
 "metadata": {
  "kernelspec": {
   "display_name": "Python 3 (ipykernel)",
   "language": "python",
   "name": "python3"
  },
  "language_info": {
   "codemirror_mode": {
    "name": "ipython",
    "version": 3
   },
   "file_extension": ".py",
   "mimetype": "text/x-python",
   "name": "python",
   "nbconvert_exporter": "python",
   "pygments_lexer": "ipython3",
   "version": "3.9.7"
  }
 },
 "nbformat": 4,
 "nbformat_minor": 4
}
