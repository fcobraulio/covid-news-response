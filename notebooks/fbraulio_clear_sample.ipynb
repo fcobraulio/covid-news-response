{
 "cells": [
  {
   "cell_type": "code",
   "execution_count": null,
   "id": "5c60fa46-ec11-4338-a00d-a785916c9f4b",
   "metadata": {},
   "outputs": [],
   "source": [
    "import pandas as pd\n",
    "import numpy as np"
   ]
  },
  {
   "cell_type": "code",
   "execution_count": null,
   "id": "20127c2e-ef33-4a7b-b152-cc32fc156981",
   "metadata": {},
   "outputs": [],
   "source": [
    "accounts = pd.read_csv('./../data/raw/covid_users.csv')\n",
    "tweets = pd.read_csv('./../data/raw/covid_tweets.csv')\n",
    "tweets['response_count'] = tweets.reply_count + tweets.quote_count\n",
    "response_per_account = tweets.groupby('author_id').response_count.sum().reset_index()\n",
    "accounts = accounts.drop_duplicates('author_id')\n",
    "accounts = accounts.merge(response_per_account).sort_values('response_count', ascending=False).reset_index(drop=True)"
   ]
  }
 ],
 "metadata": {
  "kernelspec": {
   "display_name": "Python 3 (ipykernel)",
   "language": "python",
   "name": "python3"
  },
  "language_info": {
   "codemirror_mode": {
    "name": "ipython",
    "version": 3
   },
   "file_extension": ".py",
   "mimetype": "text/x-python",
   "name": "python",
   "nbconvert_exporter": "python",
   "pygments_lexer": "ipython3",
   "version": "3.9.7"
  }
 },
 "nbformat": 4,
 "nbformat_minor": 5
}
